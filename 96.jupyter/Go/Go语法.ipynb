{
 "cells": [
  {
   "cell_type": "code",
   "execution_count": null,
   "id": "interstate-rates",
   "metadata": {},
   "outputs": [],
   "source": [
    "import \"fmt\""
   ]
  },
  {
   "cell_type": "markdown",
   "id": "62faadb6-9b33-4c2b-b622-701a8957fcd5",
   "metadata": {},
   "source": [
    "## 基础语法"
   ]
  },
  {
   "cell_type": "markdown",
   "id": "0d821f2f-c545-4d91-8689-e45e9c35d942",
   "metadata": {},
   "source": [
    "### 变量/类型"
   ]
  },
  {
   "cell_type": "markdown",
   "id": "839e9b97-297f-4dc3-98f9-4b8ee1807acb",
   "metadata": {},
   "source": [
    "空值: nil\n",
    "\n",
    "整型类型: int(取决于操作系统), int8, int16, int32, int64, uint8, uint16, uint32, uint64\n",
    "\n",
    "浮点数类型: float32, float64\n",
    "\n",
    "字节类型: byte (等价于uint8)\n",
    "\n",
    "字符串类型: string\n",
    "\n",
    "布尔值类型: boolean(true/false)"
   ]
  },
  {
   "cell_type": "code",
   "execution_count": null,
   "id": "0c542628-d4f4-45a6-b802-059e5bd33ba8",
   "metadata": {},
   "outputs": [],
   "source": [
    "var a int\n",
    "var a int = 1\n",
    "var a = 1\n",
    "a := 1"
   ]
  },
  {
   "cell_type": "code",
   "execution_count": null,
   "id": "c9cd2614-8193-40ad-97a7-506d128f82bd",
   "metadata": {},
   "outputs": [],
   "source": [
    "import \"reflect\"\n",
    "\n",
    "str1 := \"Golang\"\n",
    "str2 := \"Go语言\"\n",
    "fmt.Println(reflect.TypeOf(str1).Kind())\n",
    "\n",
    "fmt.Printf(\"%d %c\\n\", str1[2], str1[2])     // 108 l\n",
    "fmt.Println(str1[2], string(str1[2]))       // 108 l\n",
    "\n",
    "fmt.Printf(\"%d %c\\n\", str2[2], str2[2])     // 232 è\n",
    "\n",
    "// 底层是byte数组, 英文字母1字节, 中文3字节\n",
    "fmt.Printf(\"str1: %d str2: %d\\n\", len(str1), len(str2))\n",
    "// uint8\n",
    "fmt.Println(reflect.TypeOf(str2[2]).Kind())"
   ]
  },
  {
   "cell_type": "code",
   "execution_count": null,
   "id": "ddacf128-11c4-4ecd-8cdf-04b3469266b9",
   "metadata": {},
   "outputs": [],
   "source": [
    "str2 := \"Go语言\"\n",
    "// 完整存储字符的数组\n",
    "runeArr := []rune(str2)\n",
    "fmt.Println(\"长度:\", len(runeArr))\n",
    "\n",
    "fmt.Println(reflect.TypeOf(runeArr[2]).Kind()) // int32\n",
    "fmt.Println(runeArr[2], string(runeArr[2]))    // 35821 语"
   ]
  },
  {
   "cell_type": "markdown",
   "id": "c1b14849-c764-4a59-b4d1-af099e8b93cb",
   "metadata": {},
   "source": [
    "### 数组"
   ]
  },
  {
   "cell_type": "code",
   "execution_count": null,
   "id": "e1a4696a-ecb8-46b2-b27e-e28e5ab9f761",
   "metadata": {},
   "outputs": [],
   "source": [
    "arr := [5]int{1, 2, 3, 4, 5}\n",
    "// for i := 0; i < len(arr); i++ {\n",
    "for i := range arr {\n",
    "    arr[i] += 100\n",
    "}\n",
    "for i, v := range arr {\n",
    "    fmt.Println(i, v)\n",
    "}\n",
    "for _, v := range arr {\n",
    "    fmt.Println(v)\n",
    "}\n",
    "\n",
    "slice := arr[0:2]\n",
    "fmt.Println(slice)\n",
    "// 切片修改会影响原数组\n",
    "slice[0] = -1\n",
    "fmt.Println(slice, arr)"
   ]
  },
  {
   "cell_type": "markdown",
   "id": "e79a44bf-9dda-4be9-9e4c-7babf045041f",
   "metadata": {},
   "source": [
    "### 切片"
   ]
  },
  {
   "cell_type": "code",
   "execution_count": null,
   "id": "dfa9f567-6789-417d-a52a-d51ec9483791",
   "metadata": {},
   "outputs": [],
   "source": [
    "slice1 := make([]int32, 0) // 长度为0的切片\n",
    "\n",
    "slice2 := make([]int32, 3, 5) //长度为3容量为5的切片\n",
    "fmt.Println(len(slice2), cap(slice2)) // 3 5\n",
    "// 添加元素, 切片容量可以根据需要自动扩展\n",
    "slice2 = append(slice2, 1, 2, 3, 4)\n",
    "fmt.Println(slice2, len(slice2), cap(slice2)) // 7 10\n",
    "\n",
    "// 子切片 [start, end)\n",
    "sub1 := slice2[3:] // [1 2 3 4]\n",
    "sub2 := slice2[:3] // [0 0 0]\n",
    "sub3 := slice2[1:4] // [0 0 1]\n",
    "// 切片的修改会影响原切片\n",
    "sub1[0] = -1\n",
    "// 合并切片\n",
    "combined := append(sub1, sub3...) // [1, 2, 3, 4, 0, 0, 0]\n",
    "\n",
    "fmt.Println(combined)"
   ]
  },
  {
   "cell_type": "markdown",
   "id": "d7ec7a16-1d80-4b3d-bd89-767e172e1ae9",
   "metadata": {},
   "source": [
    "### map"
   ]
  },
  {
   "cell_type": "code",
   "execution_count": null,
   "id": "b3ac48c4-c856-4775-9c07-b4d6461c3e4d",
   "metadata": {},
   "outputs": [],
   "source": [
    "m1 := make(map[string]int)\n",
    "m1[\"foo\"] = 18\n",
    "a, b := m1[\"foo\"]\n",
    "c, d := m1[\"bar\"]\n",
    "fmt.Println(a, b, c, d)\n",
    "\n",
    "m2 := map[string]string{\n",
    "    \"foo\": \"bar\",\n",
    "    \"bar\": \"foo\",\n",
    "}\n",
    "for k, v := range m2 {\n",
    "    fmt.Println(k, v)\n",
    "}"
   ]
  },
  {
   "cell_type": "markdown",
   "id": "137bf713-60fe-442e-8b6c-d6fcb479b1bd",
   "metadata": {},
   "source": [
    "### set\n",
    "\n",
    "官方没有提供, 自定义实现"
   ]
  },
  {
   "cell_type": "code",
   "execution_count": null,
   "id": "537bc4a1-06d9-400e-821f-53f323f62985",
   "metadata": {},
   "outputs": [],
   "source": [
    "import (\n",
    "    mapset \"github.com/deckarep/golang-set\"\n",
    "//     \"github.com/zoumo/goset\"\n",
    ")\n",
    "\n",
    "// 默认创建的线程安全的, 如果无需线程安全\n",
    "// 可以使用 NewThreadUnsafeSet 创建, 使用方法都是一样的. \n",
    "s1 := mapset.NewSet(1, 2, 3, 4)  \n",
    "fmt.Printf(\"3: %t 5:%t \\n\", s1.Contains(3), s1.Contains(5))\n",
    "\n",
    "// interface 参数, 可以传递任意类型\n",
    "s1.Add(\"poloxue\")\n",
    "s1.Remove(3)\n",
    "fmt.Printf(\"poloxue: %t 3: %t\\n\", s1.Contains(\"poloxue\"), s1.Contains(3))\n",
    "\n",
    "s2 := mapset.NewSet(1, 3, 4, 5)\n",
    "\n",
    "// 并集\n",
    "fmt.Println(s1.Union(s2))"
   ]
  },
  {
   "cell_type": "markdown",
   "id": "6222aca6-4dc3-43ea-af35-0dad039c4e84",
   "metadata": {},
   "source": [
    "### bitset"
   ]
  },
  {
   "cell_type": "code",
   "execution_count": null,
   "id": "43fcc8ce-6eb1-43e6-bf85-6afaf5c64169",
   "metadata": {},
   "outputs": [],
   "source": [
    "import (\n",
    "    \"github.com/yourbasic/bit\"\n",
    "//     \"github.com/willf/bitset\"\n",
    ")\n",
    "\n",
    "s := bit.New(2, 3, 4, 65, 128)\n",
    "fmt.Printf(\"65: %t 15: %t\\n\", s.Contains(65), s.Contains(15))\n",
    "s.Add(15)\n",
    "fmt.Println(\"15: \", s.Contains(15))\n",
    "fmt.Printf(\"prev 20 %d, next 20 is %d\\n\", s.Prev(20), s.Next(20))\n",
    "\n",
    "s2 := bit.New(10, 22, 30)\n",
    "\n",
    "s3 := s.Or(s2)\n",
    "fmt.Println(s3)\n",
    "fmt.Println(\"next 20 is \", s3.Next(20))\n",
    "\n",
    "s3.Visit(func(n int) bool {\n",
    "    fmt.Printf(\"%d \", n)\n",
    "    return false\n",
    "})"
   ]
  },
  {
   "cell_type": "markdown",
   "id": "d03f1d5d-2c98-4183-930b-d87721ebe7ef",
   "metadata": {},
   "source": [
    "### 队列/栈"
   ]
  },
  {
   "cell_type": "code",
   "execution_count": null,
   "id": "07b9103b-7c5e-47f8-b1eb-c53b77b273f7",
   "metadata": {},
   "outputs": [],
   "source": [
    "import \"container/list\"\n",
    "\n",
    "// 队列/栈的实现\n",
    "l := list.New()\n",
    "// 入队, 压栈\n",
    "for i := 1; i <= 5; i++ {\n",
    "    l.PushBack(i)\n",
    "}\n",
    "for e := l.Front(); e != nil; e = e.Next() {\n",
    "    fmt.Print(e.Value)\n",
    "}\n",
    "for e := l.Back(); e != nil; e = e.Prev() {\n",
    "    fmt.Print(e.Value)\n",
    "}\n",
    "fmt.Println(\"\\n--------------\")\n",
    "// 出队\n",
    "i1 := l.Front()\n",
    "l.Remove(i1)\n",
    "fmt.Printf(\"%d\\n\", i1.Value)\n",
    "\n",
    "// 出栈\n",
    "i5 := l.Back()\n",
    "l.Remove(i5)\n",
    "fmt.Printf(\"%d\\n\", i5.Value)"
   ]
  },
  {
   "cell_type": "markdown",
   "id": "c95d79be-a488-414c-8638-3535d82849d6",
   "metadata": {},
   "source": [
    "### 指针"
   ]
  },
  {
   "cell_type": "code",
   "execution_count": null,
   "id": "40f021fd-911e-4043-90bc-6b640ea2ca1b",
   "metadata": {},
   "outputs": [],
   "source": [
    "str := \"Golang\"\n",
    "// var p *string = &str\n",
    "p := &str\n",
    "fmt.Println(*p)\n",
    "\n",
    "str = \"Golang1\"\n",
    "fmt.Println(*p, str)\n",
    "\n",
    "*p = \"Golang2\"\n",
    "fmt.Println(*p, str)"
   ]
  },
  {
   "cell_type": "markdown",
   "id": "6d2f7b9b-7aba-4c94-ba2e-25ab0ba4c87d",
   "metadata": {},
   "source": [
    "## 结构体"
   ]
  },
  {
   "cell_type": "code",
   "execution_count": null,
   "id": "0e313ca2-f667-4223-868d-f7b3eadd2c5b",
   "metadata": {},
   "outputs": [],
   "source": [
    "type User struct {\n",
    "    Id int64\n",
    "    Name string\n",
    "}\n",
    "u := User{1, \"foo\"}\n",
    "fmt.Println(u)"
   ]
  }
 ],
 "metadata": {
  "kernelspec": {
   "display_name": "Go",
   "language": "go",
   "name": "gophernotes"
  },
  "language_info": {
   "codemirror_mode": "",
   "file_extension": ".go",
   "mimetype": "",
   "name": "go",
   "nbconvert_exporter": "",
   "pygments_lexer": "",
   "version": "go1.15.5"
  },
  "toc": {
   "base_numbering": 1,
   "nav_menu": {},
   "number_sections": false,
   "sideBar": true,
   "skip_h1_title": false,
   "title_cell": "Table of Contents",
   "title_sidebar": "Contents",
   "toc_cell": true,
   "toc_position": {},
   "toc_section_display": true,
   "toc_window_display": true
  }
 },
 "nbformat": 4,
 "nbformat_minor": 5
}
