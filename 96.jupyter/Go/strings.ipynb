{
 "cells": [
  {
   "cell_type": "code",
   "execution_count": 14,
   "id": "e9698ff1-2316-47fc-8d4d-58f261b0bc47",
   "metadata": {},
   "outputs": [],
   "source": [
    "import (\n",
    "    \"fmt\"\n",
    "    \"strings\"\n",
    ")"
   ]
  },
  {
   "cell_type": "code",
   "execution_count": 22,
   "id": "9408f82a-ef0f-4b4d-a8da-f6aaf9187324",
   "metadata": {},
   "outputs": [
    {
     "name": "stdout",
     "output_type": "stream",
     "text": [
      "true true\n"
     ]
    }
   ],
   "source": [
    "%%\n",
    "a := strings.Contains(\"abcd\", \"cb\")\n",
    "b := strings.ContainsAny(\"luvx/go_app:none\", \"luvx1none\")\n",
    "fmt.Println(a, b)"
   ]
  },
  {
   "cell_type": "code",
   "execution_count": 25,
   "id": "2f2f63ab-5c62-4843-9c86-2f1517334271",
   "metadata": {},
   "outputs": [
    {
     "name": "stdout",
     "output_type": "stream",
     "text": [
      "[luvx/go_app] [luvx/go_app: latest]\n"
     ]
    }
   ],
   "source": [
    "%%\n",
    "a := strings.Split(\"luvx/go_app:latest\", \":\")\n",
    "b := strings.SplitAfter(\"luvx/go_app:latest\", \":\")\n",
    "fmt.Println(a, b)"
   ]
  },
  {
   "cell_type": "code",
   "execution_count": null,
   "id": "a4f1b2de-0bc1-4f22-96ba-9f2f24d33f41",
   "metadata": {},
   "outputs": [],
   "source": []
  },
  {
   "cell_type": "code",
   "execution_count": null,
   "id": "8c312cb7-539f-486c-83bd-64995f2de2df",
   "metadata": {},
   "outputs": [],
   "source": []
  }
 ],
 "metadata": {
  "kernelspec": {
   "display_name": "Go (gonb)",
   "language": "go",
   "name": "gonb"
  },
  "language_info": {
   "codemirror_mode": "",
   "file_extension": ".go",
   "mimetype": "",
   "name": "go",
   "nbconvert_exporter": "",
   "pygments_lexer": "",
   "version": "go1.23.4"
  }
 },
 "nbformat": 4,
 "nbformat_minor": 5
}
