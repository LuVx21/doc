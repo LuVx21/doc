{
 "cells": [
  {
   "cell_type": "code",
   "execution_count": null,
   "id": "e3c97b80-1608-4705-b279-546db5eb9055",
   "metadata": {
    "ExecuteTime": {
     "end_time": "2024-07-02T13:26:57Z",
     "start_time": "2024-07-02T13:26:54Z"
    }
   },
   "outputs": [],
   "source": [
    "import(\n",
    "    \"fmt\"\n",
    ")"
   ]
  },
  {
   "cell_type": "code",
   "execution_count": null,
   "id": "df557f8d-969e-4dca-b589-b6bd01fb4832",
   "metadata": {
    "ExecuteTime": {
     "end_time": "2024-07-02T13:26:58Z",
     "start_time": "2024-07-02T13:26:57Z"
    }
   },
   "outputs": [],
   "source": [
    "var a = 101"
   ]
  },
  {
   "cell_type": "code",
   "execution_count": null,
   "id": "f6781773-25d2-4be2-ab4d-1f8a765d210c",
   "metadata": {
    "ExecuteTime": {
     "end_time": "2024-07-02T13:27:01Z",
     "start_time": "2024-07-02T13:26:58Z"
    }
   },
   "outputs": [],
   "source": [
    "%%\n",
    "fmt.Println(a, runtime.Version())"
   ]
  },
  {
   "cell_type": "code",
   "execution_count": null,
   "id": "b7f3c87e-511d-432d-93cc-345c20c5e706",
   "metadata": {
    "ExecuteTime": {
     "end_time": "2024-07-02T13:27:03Z",
     "start_time": "2024-07-02T13:27:01Z"
    }
   },
   "outputs": [],
   "source": [
    "func main() {\n",
    "    fmt.Printf(\"Hello World!\")\n",
    "}"
   ]
  },
  {
   "cell_type": "code",
   "execution_count": null,
   "id": "97ce31ea-0ba6-4fe1-8131-8d35901a73fc",
   "metadata": {
    "ExecuteTime": {
     "end_time": "2024-07-02T13:27:12Z",
     "start_time": "2024-07-02T13:27:05Z"
    }
   },
   "outputs": [],
   "source": [
    "import progressbar \"github.com/schollz/progressbar/v3\"\n",
    "\n",
    "%%\n",
    "bar := progressbar.NewOptions(100,\n",
    "                              progressbar.OptionUseANSICodes(true),\n",
    "                              progressbar.OptionShowIts(),\n",
    "                              progressbar.OptionSetItsString(\"steps\"))\n",
    "for i := 0; i < 100; i++ {\n",
    "    bar.Add(1)\n",
    "    time.Sleep(40 * time.Millisecond)\n",
    "}\n",
    "fmt.Printf(\"\\nDone\\n\")"
   ]
  },
  {
   "cell_type": "code",
   "execution_count": null,
   "id": "f28717dc-709c-4e2b-a8bc-849ac495f796",
   "metadata": {
    "ExecuteTime": {
     "end_time": "2024-07-02T13:27:17Z",
     "start_time": "2024-07-02T13:27:15Z"
    }
   },
   "outputs": [],
   "source": [
    "import \"bytes\"\n",
    "import \"github.com/janpfeifer/gonb/gonbui\"\n",
    "import mg \"github.com/erkkah/margaid\"\n",
    "\n",
    "func mgPlot(width, height int) string {\n",
    "    randomSeries := mg.NewSeries()\n",
    "    rand.Seed(time.Now().Unix())\n",
    "    for i := float64(0); i < 10; i++ {\n",
    "        randomSeries.Add(mg.MakeValue(i+1, 200*rand.Float64()))\n",
    "    }\n",
    "\n",
    "    testSeries := mg.NewSeries()\n",
    "    multiplier := 2.1\n",
    "    v := 0.33\n",
    "    for i := float64(0); i < 10; i++ {\n",
    "        v *= multiplier\n",
    "        testSeries.Add(mg.MakeValue(i+1, v))\n",
    "    }\n",
    "\n",
    "    diagram := mg.New(width, height,\n",
    "        mg.WithAutorange(mg.XAxis, testSeries),\n",
    "        mg.WithAutorange(mg.YAxis, testSeries),\n",
    "        mg.WithAutorange(mg.Y2Axis, testSeries),\n",
    "        mg.WithProjection(mg.YAxis, mg.Log),\n",
    "        mg.WithInset(70),\n",
    "        mg.WithPadding(2),\n",
    "        mg.WithColorScheme(90),\n",
    "        mg.WithBackgroundColor(\"#f8f8f8\"),\n",
    "    )\n",
    "\n",
    "    diagram.Line(testSeries, mg.UsingAxes(mg.XAxis, mg.YAxis), mg.UsingMarker(\"square\"), mg.UsingStrokeWidth(1))\n",
    "    diagram.Smooth(testSeries, mg.UsingAxes(mg.XAxis, mg.Y2Axis), mg.UsingStrokeWidth(3.14))\n",
    "    diagram.Smooth(randomSeries, mg.UsingAxes(mg.XAxis, mg.YAxis), mg.UsingMarker(\"filled-circle\"))\n",
    "    diagram.Axis(testSeries, mg.XAxis, diagram.ValueTicker('f', 0, 10), false, \"X\")\n",
    "    diagram.Axis(testSeries, mg.YAxis, diagram.ValueTicker('f', 1, 2), true, \"Y\")\n",
    "\n",
    "    diagram.Frame()\n",
    "    diagram.Title(\"A diagram of sorts 📊 📈\")\n",
    "    buf := bytes.NewBuffer(nil)\n",
    "    diagram.Render(buf)\n",
    "    return buf.String()\n",
    "}\n",
    "\n",
    "%%\n",
    "gonbui.DisplaySvg(mgPlot(640, 480))"
   ]
  },
  {
   "cell_type": "code",
   "execution_count": null,
   "id": "45dda11b-1b3a-4ea9-a10a-f2e02bcb7994",
   "metadata": {
    "ExecuteTime": {
     "end_time": "2024-07-02T13:27:26Z",
     "start_time": "2024-07-02T13:27:23Z"
    }
   },
   "outputs": [],
   "source": [
    "import (\n",
    "    \"bytes\"\n",
    "    \"math/rand\"\n",
    "\n",
    "    \"github.com/janpfeifer/gonb/gonbui\"\n",
    "    \"gonum.org/v1/plot\"\n",
    "    \"gonum.org/v1/plot/plotter\"\n",
    "    \"gonum.org/v1/plot/plotutil\"\n",
    "    \"gonum.org/v1/plot/vg\"\n",
    ")\n",
    "\n",
    "// randomPoints returns some random x, y points.\n",
    "func randomPoints(n int) plotter.XYs {\n",
    "    pts := make(plotter.XYs, n)\n",
    "    for i := range pts {\n",
    "        if i == 0 {\n",
    "            pts[i].X = rand.Float64()\n",
    "        } else {\n",
    "            pts[i].X = pts[i-1].X + rand.Float64()\n",
    "        }\n",
    "        pts[i].Y = pts[i].X + 10*rand.Float64()\n",
    "    }\n",
    "    return pts\n",
    "}\n",
    "\n",
    "func GonumPlotExample(width, height int, format string) []byte {\n",
    "    rand.Seed(int64(0))\n",
    "\n",
    "    p := plot.New()\n",
    "\n",
    "    p.Title.Text = \"Plotutil example\"\n",
    "    p.X.Label.Text = \"X\"\n",
    "    p.Y.Label.Text = \"Y\"\n",
    "\n",
    "    err := plotutil.AddLinePoints(p,\n",
    "        \"First\", randomPoints(15),\n",
    "        \"Second\", randomPoints(15),\n",
    "        \"Third\", randomPoints(15))\n",
    "    if err != nil {\n",
    "        panic(err)\n",
    "    }\n",
    "\n",
    "    buf := bytes.NewBuffer(nil)\n",
    "    writerTo, err := p.WriterTo(vg.Points(float64(width)), vg.Points(float64(height)), format)\n",
    "    if err != nil {\n",
    "        panic(err)\n",
    "    }\n",
    "    writerTo.WriteTo(buf)\n",
    "    return buf.Bytes()\n",
    "}\n",
    "\n",
    "%%\n",
    "gonbui.DisplayPng(GonumPlotExample(400, 200, \"png\"))"
   ]
  },
  {
   "cell_type": "code",
   "execution_count": null,
   "id": "2b8cfc99-2252-4ac5-92d1-083373916464",
   "metadata": {
    "ExecuteTime": {
     "end_time": "2024-07-02T13:27:32Z",
     "start_time": "2024-07-02T13:27:29Z"
    }
   },
   "outputs": [],
   "source": [
    "%%\n",
    "gonbui.DisplaySvg(string(GonumPlotExample(400, 200, \"svg\")))"
   ]
  },
  {
   "cell_type": "code",
   "execution_count": null,
   "id": "2fdc15c62b21dd97",
   "metadata": {},
   "outputs": [],
   "source": [
    "func Backward[Slice ~[]E, E string](s Slice) iter.Seq2[int, E] {\n",
    "    return func(yield func(int, E) bool) {\n",
    "        for i := len(s) - 1; i >= 0; i-- {\n",
    "            upper := strings.ToUpper(string(s[i]))\n",
    "            yield(i, E(upper))\n",
    "        }\n",
    "        return\n",
    "    }\n",
    "}\n",
    "%%\n",
    "sl := []string{\"hello1\", \"world\", \"golang\"}\n",
    "for i, s := range Backward(sl) {\n",
    "    fmt.Printf(\"%d : %s\\n\", i, s)\n",
    "}"
   ]
  },
  {
   "cell_type": "markdown",
   "id": "0e027414-66fe-47d0-8434-d8acf4556208",
   "metadata": {},
   "source": [
    "## go-pretty"
   ]
  },
  {
   "cell_type": "code",
   "execution_count": null,
   "id": "9ffb97b3-b9e3-4e85-a9ed-738ae79b6271",
   "metadata": {},
   "outputs": [],
   "source": [
    "import (\n",
    "    \"github.com/jedib0t/go-pretty/v6/table\"\n",
    "    \"github.com/jedib0t/go-pretty/v6/text\"\n",
    ")"
   ]
  },
  {
   "cell_type": "code",
   "execution_count": null,
   "id": "f5f2631e-e044-4426-82fd-7b2afd027c6e",
   "metadata": {},
   "outputs": [],
   "source": [
    "%%\n",
    "t := table.NewWriter()\n",
    "t.SetOutputMirror(os.Stdout)\n",
    "\n",
    "t.SetTitle(\"汇总\")\n",
    "t.AppendHeader(table.Row{\"No.\", \"First Name\", \"Last Name\", \"Salary\"})\n",
    "t.AppendRows([]table.Row{\n",
    "    {1, \"Arya\", \"Stark\", 3000},\n",
    "    {\"\", \"Jon\", \"Snow\", 2000, \"You know nothing, Jon Snow!\"},\n",
    "})\n",
    "t.AppendSeparator()\n",
    "t.AppendRow([]any{300, \"Tyrion\", \"Lannister\", 5000})\n",
    "t.AppendFooter(table.Row{\"\", \"\", \"Total\", 10000})\n",
    "// t.SetStyle(table.StyleColoredBright)\n",
    "t.Render()"
   ]
  }
 ],
 "metadata": {
  "kernelspec": {
   "display_name": "Go (gonb)",
   "language": "go",
   "name": "gonb"
  },
  "language_info": {
   "codemirror_mode": "",
   "file_extension": ".go",
   "mimetype": "",
   "name": "go",
   "nbconvert_exporter": "",
   "pygments_lexer": "",
   "version": "go1.23.5"
  }
 },
 "nbformat": 4,
 "nbformat_minor": 5
}
