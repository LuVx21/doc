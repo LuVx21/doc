{
 "cells": [
  {
   "cell_type": "code",
   "execution_count": 2,
   "id": "cd420e0f-eb94-45bc-87a9-f2193d99c821",
   "metadata": {
    "ExecuteTime": {
     "end_time": "2024-07-02T13:26:12.379892Z",
     "start_time": "2024-07-02T13:26:12.354341Z"
    }
   },
   "outputs": [
    {
     "name": "stdout",
     "output_type": "stream",
     "text": [
      "aaa\n"
     ]
    }
   ],
   "source": [
    "print(\"aaa\")"
   ]
  },
  {
   "cell_type": "code",
   "execution_count": null,
   "id": "8abeef6c192944ff",
   "metadata": {},
   "outputs": [],
   "source": []
  }
 ],
 "metadata": {
  "kernelspec": {
   "display_name": "Python 3 (ipykernel)",
   "language": "python",
   "name": "python3"
  },
  "language_info": {
   "codemirror_mode": {
    "name": "ipython",
    "version": 3
   },
   "file_extension": ".py",
   "mimetype": "text/x-python",
   "name": "python",
   "nbconvert_exporter": "python",
   "pygments_lexer": "ipython3",
   "version": "3.12.4"
  }
 },
 "nbformat": 4,
 "nbformat_minor": 5
}
