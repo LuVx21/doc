{
 "cells": [
  {
   "cell_type": "markdown",
   "metadata": {
    "id": "sR2ZA9BjDvmH"
   },
   "source": [
    "## 关于\n",
    "\n",
    "K Nearest Neighbor, 最近邻居法, K-近邻算法\n",
    "\n",
    "是一种用于分类和回归的非参数统计方法, 即判断元素属于哪一类\n",
    "\n",
    "物以类聚, 人以群分; 近朱者赤近墨者黑;\n",
    "\n",
    "> k-means: 用于聚类, 判断哪些元素属于一类\n",
    "\n",
    "特点:\n",
    "\n",
    "* 惰性学习: 没有显示学习阶段, 数据集往往已经分类完成\n",
    "* 计算复杂度高: 需要计算和每个一直元素的距离, 复杂度与一直元素数目正相关, 这也决定了它更适用于较小数据集\n",
    "\n",
    "优点:\n",
    "\n",
    "* 简单易用, 相比其他算法, KNN算是比较简洁明了的算法.即使没有很高的数学基础也能搞清楚它的原理\n",
    "* 模型训练时间快, 上面说到KNN算法是惰性的, 这里也就不再过多讲述\n",
    "* 预测效果好\n",
    "* 对异常值不敏感\n",
    "\n",
    "缺点:\n",
    "\n",
    "* 对内存要求较高, 因为该算法存储了所有训练数据\n",
    "* 预测阶段可能很慢\n",
    "* 对不相关的功能和数据规模敏感\n",
    "\n",
    "应用场景有字符识别, 文本分类, 图像识别等领域\n",
    "\n",
    "## 工作流程\n",
    "\n",
    "1. n维的坐标系中, 已知的元素映射在坐标系中\n",
    "2. 未知的元素x, 提取坐标值, 映射到坐标系中\n",
    "3. 计算x与其他已知元素的距离\n",
    "4. 统计k个距离最近的元素, 对此k个元素进行分析, 从而确定元素x的分类\n",
    "\n",
    "## K值选择\n",
    "\n",
    "一个经典的图:\n",
    "\n",
    "![](https://coolshell.cn/wp-content/uploads/2012/08/220px-KnnClassification.svg_.png)\n",
    "\n",
    "实线: `k=3`, 分类为三角形\n",
    "\n",
    "虚线: `k=5`, 分类为正方形\n",
    "\n",
    "k过小: 噪声点影响\n",
    "\n",
    "k过大: 分类交叉, 判断不明显\n",
    "\n",
    "k取不同的值时, 有可能未知元素分类结果也会不同\n",
    "\n",
    "为了确定合适的k值, 可以采取交叉验证的方式(将样本数据按照比例拆分成训练用和验证用的数据),\n",
    "然后从一个较小的k只开始, 不断增加k, 获取验证结果准确率, 找到一个相对合适的k值\n",
    "\n",
    "![](https://gitee.com/LuVx/img/raw/master/algorithm/knn_k.png)\n",
    "\n",
    "## 距离计算\n",
    "\n",
    "距离的远近, 表示元素具有某种特征的浓淡, 因此复杂场景下, 为了提升分类的准确率, 针对距离可以继续加工\n",
    "\n",
    "课程中及以下坐标表示中, `x,y`均不表示坐标轴\n",
    "\n",
    "[课程例子源码](https://github.com/cystanford/knn)\n",
    "\n",
    "## K-Means\n",
    "\n",
    "前面说到过, KNN和Kmeans听起来有些像, 但本质是有区别的, 这里我们就顺便说一下两者的异同吧\n",
    "\n",
    "相同: \n",
    "\n",
    "* K值都是重点\n",
    "* 都需要计算平面中点的距离\n",
    "\n",
    "不同: \n",
    "\n",
    "Knn和Kmeans的核心都是通过计算空间中点的距离来实现目的, 只是他们的目的是不同的.\n",
    "KNN的最终目的是分类, 而Kmeans的目的是给所有距离相近的点分配一个类别, 也就是聚类.\n",
    "\n",
    "简单说, 就是画一个圈, KNN是让进来圈子里的人变成自己人, Kmeans是让原本在圈内的人归成一类人"
   ]
  },
  {
   "cell_type": "markdown",
   "metadata": {
    "id": "WWkf87AlD55V"
   },
   "source": [
    "## 课程例子\n",
    "\n",
    "以某种镜头数量的多少表示这个电影的特征, 这些就可以理解为坐标中的坐标值, 特征镜头的数量即为坐标系的数量\n",
    "\n",
    "如追加统计搞笑镜头的出现次数\n",
    "\n",
    "这之前先看一下sklean提供的KNN构造函数:\n",
    "\n",
    "```python\n",
    "def KNeighborsClassifier(n_neighbors = 5,\n",
    "               weights='uniform',\n",
    "               algorithm = '',\n",
    "               leaf_size = '30',\n",
    "               p = 2,\n",
    "               metric = 'minkowski',\n",
    "               metric_params = None,\n",
    "               n_jobs = None\n",
    "               )\n",
    "```\n",
    "\n",
    "- n_neighbors: 这个值就是指 KNN 中的 `K`了. 前面说到过, 通过调整 K 值, 算法会有不同的效果.\n",
    "- weights: 权重, 最普遍的 KNN 算法无论距离如何, 权重都一样, 但有时候我们想搞点特殊化, 比如距离更近的点让它更加重要. 这时候就需要 weight 这个参数了, 这个参数有三个可选参数的值, 决定了如何分配权重. 参数选项如下:\n",
    "    * `uniform`: 不管远近权重都一样, 就是最普通的 KNN 算法的形式.\n",
    "    * `distance`: 权重和距离成反比, 距离预测目标越近具有越高的权重.\n",
    "    * 自定义函数: 自定义一个函数, 根据输入的坐标值返回对应的权重, 达到自定义权重的目的.\n",
    "- algorithm: 在 sklearn 中, 要构建 KNN 模型有三种构建方式,\n",
    "    1. 暴力法, 就是直接计算距离存储比较的那种放松.\n",
    "    2. 使用 kd 树构建 KNN 模型\n",
    "    3. 使用球树构建.  其中暴力法适合数据较小的方式, 否则效率会比较低. 如果数据量比较大一般会选择用 KD 树构建 KNN 模型, 而当 KD 树也比较慢的时候, 则可以试试球树来构建 KNN.\n",
    "\n",
    "    参数选项如下:\n",
    "    * `brute`: 蛮力实现, 不过当数据较小或比较稀疏时, 无论选择哪个最后都会使用 `brute`\n",
    "    * `kd_tree`: kd 树实现 KNN\n",
    "    * `ball_tree`: 球树实现 KNN\n",
    "    * `auto`:  默认参数, 自动选择合适的方法构建模型\n",
    "\n",
    "- leaf_size: 如果是选择蛮力实现, 那么这个值是可以忽略的, 当使用kd树或球树, 它就是是停止建子树的叶子节点数量的阈值. 默认30, 但如果数据量增多这个参数需要增大, 否则速度过慢不说, 还容易过拟合.\n",
    "- p: 和metric结合使用的, 当metric参数是`minkowski`的时候, p=1为曼哈顿距离, p=2为欧式距离.\n",
    "- metric: 指定距离度量方法, 一般都是使用欧式距离.\n",
    "    * `euclidean`: 欧式距离\n",
    "    * `manhattan`: 曼哈顿距离\n",
    "    * `chebyshev`: 切比雪夫距离\n",
    "    * `minkowski`: 闵可夫斯基距离, 默认参数\n",
    "- n_jobs: 指定多少个cpu进行运算, 默认是-1, 也就是全部都算."
   ]
  },
  {
   "cell_type": "code",
   "execution_count": null,
   "metadata": {
    "id": "E1Y-nOsOEDnY",
    "outputId": "acfe61cb-1ace-466a-c599-9283ed471499"
   },
   "outputs": [],
   "source": [
    "# -*- coding: utf-8 -*-\n",
    "# 分类用\n",
    "from sklearn.neighbors import KNeighborsClassifier\n",
    "# 回归用\n",
    "# from sklearn.neighbors import KNeighborsRegressor\n",
    "\n",
    "# 手写数字分类\n",
    "from sklearn.model_selection import train_test_split\n",
    "from sklearn import preprocessing\n",
    "from sklearn.metrics import accuracy_score\n",
    "from sklearn.datasets import load_digits\n",
    "import matplotlib.pyplot as plt\n",
    "\n",
    "# 加载数据\n",
    "digits = load_digits()\n",
    "data = digits.data\n",
    "# 数据探索, (1797, 64) -> 1797幅数字图像,每幅图像大小是8*8像素\n",
    "print(data.shape)\n",
    "# 查看第一幅图像\n",
    "print(digits.images[0])\n",
    "# 第一幅图像代表的数字含义\n",
    "print(digits.target[0])\n",
    "# 将第一幅图像显示出来\n",
    "plt.gray()\n",
    "plt.imshow(digits.images[0])\n",
    "plt.show()\n",
    "\n",
    "# 分割数据, 将25%的数据作为测试集, 其余作为训练集\n",
    "train_x, test_x, train_y, test_y = train_test_split(data, digits.target, test_size=0.25, random_state=33)\n",
    "\n",
    "# 采用Z-Score规范化\n",
    "# ss = preprocessing.StandardScaler()\n",
    "# 采用Min-Max规范化\n",
    "ss = preprocessing.MinMaxScaler()\n",
    "train_ss_x = ss.fit_transform(train_x)\n",
    "test_ss_x = ss.transform(test_x)\n",
    "\n",
    "# 创建KNN分类器\n",
    "knn = KNeighborsClassifier()\n",
    "knn.fit(train_ss_x, train_y)\n",
    "predict_y = knn.predict(test_ss_x)\n",
    "print(\"KNN准确率: %.4lf\" % accuracy_score(test_y, predict_y))\n"
   ]
  },
  {
   "cell_type": "markdown",
   "metadata": {
    "id": "5C0ohy7ID-CX"
   },
   "source": [
    "## 写个例子"
   ]
  },
  {
   "cell_type": "code",
   "execution_count": null,
   "metadata": {
    "id": "XCSICW1lDmzi",
    "outputId": "9d8efa35-34a6-4cd7-b818-7b62c8bea03e"
   },
   "outputs": [],
   "source": [
    "# -*- coding: utf-8 -*-\n",
    "from numpy import *\n",
    "import operator\n",
    "import numpy as np\n",
    "import matplotlib.pyplot as plt\n",
    "\n",
    "#通过KNN进行分类\n",
    "def classify(input, dataSet, label, k):\n",
    "    dataSize = dataSet.shape[0]\n",
    "    #计算欧式距离\n",
    "    diff = tile(input, (dataSize, 1)) - dataSet\n",
    "    sqdiff = diff ** 2\n",
    "    #行向量分别相加, 从而得到新的一个行向量\n",
    "    squareDist = sum(sqdiff, axis=1)\n",
    "    dist = squareDist ** 0.5\n",
    "\n",
    "    #对距离进行排序\n",
    "    #argsort()根据元素的值从大到小对元素进行排序, 返回下标\n",
    "    sortedDistIndex = argsort(dist)\n",
    "\n",
    "    classCount = {}\n",
    "    for i in range(k):\n",
    "        voteLabel = label[sortedDistIndex[i]]\n",
    "        #对选取的K个样本所属的类别个数进行统计\n",
    "        classCount[voteLabel] = classCount.get(voteLabel, 0) + 1\n",
    "    #选取出现的类别次数最多的类别\n",
    "    maxCount = 0\n",
    "    for key, value in classCount.items():\n",
    "        if value > maxCount:\n",
    "            maxCount = value\n",
    "            classes = key\n",
    "    return classes\n",
    "\n",
    "\n",
    "def data1():\n",
    "    group = array([[100, 5], [95, 3], [105, 31], [2, 59], [3, 60], [10, 80]])\n",
    "    # labels = ['战狼', '红海行动', '碟中谍6', '前任3','春娇救志明','泰坦尼克号']\n",
    "    labels = ['动作', '动作', '动作', '爱情', '爱情', '爱情']\n",
    "    return group, labels\n",
    "\n",
    "\n",
    "def data2():\n",
    "    group = array([[1.0, 2.0], [1.2, 0.1], [0.1, 1.4], [0.3, 3.5]])\n",
    "    labels = ['A', 'A', 'B', 'B']\n",
    "    return group, labels\n",
    "\n",
    "def img(x,y):\n",
    "    plt.scatter(x,y)\n",
    "    plt.show()\n",
    "\n",
    "def case1():\n",
    "    # 点例子\n",
    "    # dataSet, labels = data2()\n",
    "    # input = array([1.1, 0.3])\n",
    "\n",
    "    # 电影例子\n",
    "    dataSet, labels = data1()\n",
    "    # input = array([90, 4]) # 动作\n",
    "    input = array([4, 90])  # 爱情\n",
    "    # 训练集坐标图\n",
    "    x=[]\n",
    "    y=[]\n",
    "    for i in range(len(dataSet)):\n",
    "        x.append(dataSet[i][0])\n",
    "        y.append(dataSet[i][1])\n",
    "    x.append(input[0])\n",
    "    y.append(input[1])\n",
    "    img(x,y)\n",
    "\n",
    "    K = 3\n",
    "    output = classify(input, dataSet, labels, K)\n",
    "    print(\"元素坐标为:\", input, \"分类结果为: \", output)\n",
    "\n",
    "case1()\n"
   ]
  },
  {
   "cell_type": "markdown",
   "metadata": {
    "id": "cFIt8IPlB5Ow"
   },
   "source": [
    "## 网上找到的例子\n",
    "\n",
    "鸢尾花数据集\n",
    "\n",
    "数据集主要包含了鸢尾花的花萼长度, 花萼宽度, 花瓣长度, 花瓣宽度4个属性(特征)\n",
    "\n",
    "根据以上数据, 判断一个鸢尾花卉属于『Setosa, Versicolour, Virginica』三个种类中的哪一类"
   ]
  },
  {
   "cell_type": "code",
   "execution_count": null,
   "metadata": {
    "colab": {
     "base_uri": "https://localhost:8080/",
     "height": 279
    },
    "id": "W6mr3xP1B5Ox",
    "outputId": "a1271f56-b761-4060-bcd7-5e931f492be3"
   },
   "outputs": [],
   "source": [
    "from sklearn.datasets import load_iris\n",
    "from sklearn.model_selection  import cross_val_score\n",
    "import matplotlib.pyplot as plt\n",
    "from sklearn.neighbors import KNeighborsClassifier\n",
    "\n",
    "#读取鸢尾花数据集\n",
    "iris = load_iris()\n",
    "x = iris.data\n",
    "y = iris.target\n",
    "\n",
    "k_range = range(1, 31)\n",
    "k_error = []\n",
    "#循环, 取k=1到k=31, 查看误差效果\n",
    "for k in k_range:\n",
    "    knn = KNeighborsClassifier(n_neighbors=k)\n",
    "    #cv参数决定数据集划分比例, 这里是按照5:1划分训练集和测试集\n",
    "    scores = cross_val_score(knn, x, y, cv=6, scoring='accuracy')\n",
    "    k_error.append(1 - scores.mean())\n",
    "\n",
    "#画图, x轴为k值, y值为误差值\n",
    "plt.plot(k_range, k_error)\n",
    "plt.xlabel('Value of K for KNN')\n",
    "plt.ylabel('Error')\n",
    "plt.show()"
   ]
  },
  {
   "cell_type": "markdown",
   "metadata": {},
   "source": [
    "合适的K值为11"
   ]
  },
  {
   "cell_type": "code",
   "execution_count": null,
   "metadata": {
    "colab": {
     "base_uri": "https://localhost:8080/",
     "height": 545
    },
    "id": "TWCFlwJkB5O0",
    "outputId": "1a2d5cde-691b-49ac-875f-79b127573c1d",
    "scrolled": true
   },
   "outputs": [],
   "source": [
    "import matplotlib.pyplot as plt\n",
    "# from numpy import *\n",
    "import numpy as np\n",
    "from matplotlib.colors import ListedColormap\n",
    "from sklearn import neighbors, datasets\n",
    "\n",
    "# 上步骤计算出的较好的k值\n",
    "n_neighbors = 11\n",
    "\n",
    "# 导入一些要玩的数据\n",
    "iris = datasets.load_iris()\n",
    "# 我们只采用前两个feature,方便画图在二维平面显示\n",
    "x = iris.data[:, :2]  \n",
    "y = iris.target\n",
    "\n",
    "h = .02  # 网格中的步长\n",
    "\n",
    "# 创建彩色的图\n",
    "cmap_light = ListedColormap(['#FFAAAA', '#AAFFAA', '#AAAAFF'])\n",
    "cmap_bold = ListedColormap(['#FF0000', '#00FF00', '#0000FF'])\n",
    "\n",
    "#weights是KNN模型中的一个参数, 上述参数介绍中有介绍, 这里绘制两种权重参数下KNN的效果图\n",
    "for weights in ['uniform', 'distance']:\n",
    "    # 创建了一个knn分类器的实例, 并拟合数据.\n",
    "    clf = neighbors.KNeighborsClassifier(n_neighbors, weights=weights)\n",
    "    clf.fit(x, y)\n",
    "\n",
    "    # 绘制决策边界. 为此, 我们将为每个分配一个颜色\n",
    "    # 来绘制网格中的点 [x_min, x_max]x[y_min, y_max].\n",
    "    x_min, x_max = x[:, 0].min() - 1, x[:, 0].max() + 1\n",
    "    y_min, y_max = x[:, 1].min() - 1, x[:, 1].max() + 1\n",
    "    xx, yy = np.meshgrid(np.arange(x_min, x_max, h),\n",
    "                         np.arange(y_min, y_max, h))\n",
    "    Z = clf.predict(np.c_[xx.ravel(), yy.ravel()])\n",
    "\n",
    "    # 将结果放入一个彩色图中\n",
    "    Z = Z.reshape(xx.shape)\n",
    "    plt.figure()\n",
    "    plt.pcolormesh(xx, yy, Z, cmap=cmap_light)\n",
    "\n",
    "    # 绘制训练点\n",
    "    plt.scatter(x[:, 0], x[:, 1], c=y, cmap=cmap_bold)\n",
    "    plt.xlim(xx.min(), xx.max())\n",
    "    plt.ylim(yy.min(), yy.max())\n",
    "    plt.title(\"3-Class classification (k = %i, weights = '%s')\"\n",
    "              % (n_neighbors, weights))\n",
    "\n",
    "plt.show()"
   ]
  },
  {
   "cell_type": "markdown",
   "metadata": {
    "id": "0zEsp7MOITaG"
   },
   "source": [
    "## 各种距离的计算"
   ]
  },
  {
   "cell_type": "markdown",
   "metadata": {
    "id": "kKBgQeBQJFPL"
   },
   "source": [
    "### 欧式距离\n",
    "\n",
    "点 `a(x1, x2), b(y1, y2)`\n",
    "\n",
    "![](https://bkimg.cdn.bcebos.com/formula/34df776ddfdd406a96fbafedf1e0fcf4.svg)\n",
    "\n",
    "N维空间\n",
    "\n",
    "![](https://bkimg.cdn.bcebos.com/formula/87a52feb423631405eb499ddaec6941d.svg)"
   ]
  },
  {
   "cell_type": "code",
   "execution_count": null,
   "metadata": {
    "id": "zKLG2i66Igg6",
    "outputId": "c40a9734-087f-4aca-e548-cb1ad00e5593"
   },
   "outputs": [],
   "source": [
    "import numpy as np\n",
    "from scipy.spatial.distance import pdist\n",
    "\n",
    "a = np.array([1, 2])\n",
    "b = np.array([4, 6])\n",
    "\n",
    "# 公式\n",
    "l1 = np.sqrt(np.sum(np.square(a - b)))\n",
    "print(l1)\n",
    "# numpy库\n",
    "l2 = np.linalg.norm(a - b)\n",
    "print(l2)\n",
    "# scipy库\n",
    "l3 = pdist(np.vstack([a, b]))\n",
    "print(l3)"
   ]
  },
  {
   "cell_type": "markdown",
   "metadata": {
    "id": "KCHaN1yZJMaP"
   },
   "source": [
    "### 曼哈顿距离\n",
    "\n",
    "两个点在坐标系上绝对轴距总和\n",
    "\n",
    "`d(i, j) = |x1 - x2| + |y1 - y2|`"
   ]
  },
  {
   "cell_type": "code",
   "execution_count": null,
   "metadata": {
    "id": "_02PPs5pJOwL",
    "outputId": "29e9b94f-ea79-4fff-f0aa-8da4fbc643bf"
   },
   "outputs": [],
   "source": [
    "import numpy as np\n",
    "from scipy.spatial.distance import pdist\n",
    "\n",
    "a = np.array([1, 1])\n",
    "b = np.array([2, 2])\n",
    "\n",
    "# 公式\n",
    "l1 = np.sum(np.abs(a - b))\n",
    "print(l1)\n",
    "# 库\n",
    "l2 = np.linalg.norm(a - b, ord=1)\n",
    "print(l2)\n",
    "# scipy库\n",
    "l3 = pdist(np.vstack([a, b]), 'cityblock')\n",
    "print(l3)"
   ]
  },
  {
   "cell_type": "markdown",
   "metadata": {
    "id": "fjgRBgd7JVyi"
   },
   "source": [
    "### 切比雪夫距离\n",
    "\n",
    "两个点坐标数值差的绝对值的最大值\n",
    "\n",
    "点 `a(x1, x2), b(y1, y2)`\n",
    "\n",
    "`d(i, j) = max(|x1 - y1|, |x2 - y2|)`\n",
    "\n"
   ]
  },
  {
   "cell_type": "code",
   "execution_count": null,
   "metadata": {
    "id": "AqW7ngTTJU68",
    "outputId": "feefe3e4-8293-4127-d696-52f85489af15"
   },
   "outputs": [],
   "source": [
    "import numpy as np\n",
    "from scipy.spatial.distance import pdist\n",
    "\n",
    "a = np.array([1, 2])\n",
    "b = np.array([4, 7])\n",
    "# 公式\n",
    "l1 = np.abs(a - b).max()\n",
    "print(l1)\n",
    "# numpy\n",
    "l2 = np.linalg.norm(a - b, ord=np.inf)\n",
    "print(l2)\n",
    "# scipy\n",
    "l3 = pdist(np.vstack([a, b]), 'chebyshev')\n",
    "print(l3)\n"
   ]
  },
  {
   "cell_type": "markdown",
   "metadata": {
    "id": "cXmtbn_nJdnK"
   },
   "source": [
    "### 余弦距离\n",
    "\n",
    "也叫余弦相似度\n",
    "\n",
    "![](https://bkimg.cdn.bcebos.com/formula/50c51a907a949e8bbdbfa9219ed8bd35.svg)\n",
    "\n",
    "余弦值的范围在`[-1, 1]`之间,\n",
    "值越趋近于1, 代表两个向量的方向越接近,\n",
    "越趋近于-1, 他们的方向越相反,\n",
    "接近于0, 表示两个向量近乎于正交"
   ]
  },
  {
   "cell_type": "code",
   "execution_count": null,
   "metadata": {
    "id": "AGAvwZDRJf1O",
    "outputId": "8ec60e5b-8a2a-4091-cf81-9c7088583860"
   },
   "outputs": [],
   "source": [
    "import numpy as np\n",
    "\n",
    "a = np.array([1, 1, 1])\n",
    "b = np.array([2, 2, 2])\n",
    "\n",
    "l1 = np.dot(a, b) / (np.linalg.norm(a) * (np.linalg.norm(b)))\n",
    "print(l1)\n"
   ]
  },
  {
   "cell_type": "markdown",
   "metadata": {
    "id": "Ej0PWwtiJ3oT"
   },
   "source": [
    "### 闵可夫斯基距离\n",
    "\n",
    "![](https://bkimg.cdn.bcebos.com/formula/5461915cb8cdb80332251b27ecb23270.svg)\n",
    "\n",
    "![](https://bkimg.cdn.bcebos.com/formula/199c95d9914c4b851533ce7e82bf8ecb.svg)\n",
    "\n",
    "其中p代表空间的维数,\n",
    "当p=1时, 就是曼哈顿距离;\n",
    "当p=2时, 就是欧氏距离;\n",
    "当p→∞时, 就是切比雪夫距离"
   ]
  },
  {
   "cell_type": "code",
   "execution_count": null,
   "metadata": {
    "id": "qIusv6EXJ50P",
    "outputId": "4138f578-cea9-406f-d871-c33f5133cb4f"
   },
   "outputs": [],
   "source": [
    "import numpy as np\n",
    "from scipy.spatial.distance import pdist\n",
    "\n",
    "a = np.array([1, 2])\n",
    "b = np.array([4, 7])\n",
    "\n",
    "# 公式\n",
    "l1 = np.sqrt(np.sum(np.square(a - b)))\n",
    "print(l1)\n",
    "# scipy\n",
    "l2 = pdist(np.vstack([a, b]), 'minkowski', p=2)\n",
    "print(l2)\n"
   ]
  }
 ],
 "metadata": {
  "colab": {
   "collapsed_sections": [
    "sR2ZA9BjDvmH",
    "WWkf87AlD55V",
    "5C0ohy7ID-CX",
    "cFIt8IPlB5Ow",
    "0zEsp7MOITaG",
    "kKBgQeBQJFPL",
    "KCHaN1yZJMaP",
    "fjgRBgd7JVyi",
    "cXmtbn_nJdnK",
    "Ej0PWwtiJ3oT"
   ],
   "name": "KNN.ipynb",
   "provenance": [],
   "toc_visible": true
  },
  "kernelspec": {
   "display_name": "Python 3",
   "language": "python",
   "name": "python3"
  },
  "language_info": {
   "codemirror_mode": {
    "name": "ipython",
    "version": 3
   },
   "file_extension": ".py",
   "mimetype": "text/x-python",
   "name": "python",
   "nbconvert_exporter": "python",
   "pygments_lexer": "ipython3",
   "version": "3.8.5"
  }
 },
 "nbformat": 4,
 "nbformat_minor": 1
}
