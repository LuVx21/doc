{
 "cells": [
  {
   "cell_type": "code",
   "execution_count": null,
   "id": "bd859be6-5705-4e5d-8994-2b84c2ddbb60",
   "metadata": {},
   "outputs": [],
   "source": [
    "println!(\"Hello World!\");"
   ]
  },
  {
   "cell_type": "code",
   "execution_count": null,
   "id": "6e3c2af4-5162-4c3c-8c10-e2ce6f0e651b",
   "metadata": {},
   "outputs": [],
   "source": [
    "fn add(a: i32, b: i32) -> i32 {\n",
    "    return a + b;\n",
    "}\n",
    "let v = add(5, 68);\n",
    "println!(\"v 的值为: {}\", v);"
   ]
  },
  {
   "cell_type": "code",
   "execution_count": null,
   "id": "08f004bc-2404-42eb-8ecd-bb81e69cda61",
   "metadata": {},
   "outputs": [],
   "source": [
    "fn for_loop() {\n",
    "    let a = [10, 20, 30, 40, 50];\n",
    "    for i in 0..5 {\n",
    "        println!(\"a[{}] = {}\", i, a[i]);\n",
    "    }\n",
    "}\n",
    "for_loop()"
   ]
  },
  {
   "cell_type": "code",
   "execution_count": null,
   "id": "fe4fbc13-b078-4268-8f4b-84b363531d2b",
   "metadata": {},
   "outputs": [],
   "source": [
    "fn m1() {\n",
    "    let arr = [1, 3, 5, 7, 9];\n",
    "    let part = &arr[0..3];\n",
    "    for i in part.iter() {\n",
    "        println!(\"{}\", i);\n",
    "    }\n",
    "}\n",
    "m1()"
   ]
  },
  {
   "cell_type": "code",
   "execution_count": null,
   "id": "01667033-c6ad-4b1a-a1dc-3365bf370a7f",
   "metadata": {},
   "outputs": [],
   "source": [
    "fn m2() {\n",
    "    let u = User {\n",
    "        username: String::from(\"foobar\"),\n",
    "    };\n",
    "    println!(\"{}\", u.username)\n",
    "}\n",
    "\n",
    "struct User {\n",
    "    username: String,\n",
    "}\n",
    "m2()"
   ]
  },
  {
   "cell_type": "code",
   "execution_count": null,
   "id": "7bf8509d-0bf8-4960-8364-eb39a9ee8894",
   "metadata": {},
   "outputs": [],
   "source": []
  },
  {
   "cell_type": "code",
   "execution_count": null,
   "id": "3603712c-dcdf-4ba8-b580-3ffb784b5856",
   "metadata": {},
   "outputs": [],
   "source": []
  },
  {
   "cell_type": "code",
   "execution_count": null,
   "id": "ef98805b-e8e8-452b-b231-fe96080901fd",
   "metadata": {},
   "outputs": [],
   "source": []
  }
 ],
 "metadata": {
  "kernelspec": {
   "display_name": "Rust",
   "language": "rust",
   "name": "rust"
  },
  "language_info": {
   "codemirror_mode": "rust",
   "file_extension": ".rs",
   "mimetype": "text/rust",
   "name": "Rust",
   "pygment_lexer": "rust",
   "version": ""
  }
 },
 "nbformat": 4,
 "nbformat_minor": 5
}
