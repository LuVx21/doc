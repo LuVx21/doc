{
 "cells": [
  {
   "cell_type": "markdown",
   "id": "b590b2fe",
   "metadata": {},
   "source": [
    "## 数据类型\n",
    "\n",
    "| 类型  | 描述                  | 示例值     |\n",
    "| :---- | :-------------------- | :--------- |\n",
    "| i8    | 8 位有符号整数        | -42i8      |\n",
    "| i16   | 16 位有符号整数       | -300i16    |\n",
    "| i32   | 32 位有符号整数(默认) | -100_000   |\n",
    "| i64   | 64 位有符号整数       | -1i64      |\n",
    "| i128  | 128 位有符号整数      | -1i128     |\n",
    "| isize | 平台相关的有符号整数  | -10isize   |\n",
    "| u8    | 8 位无符号整数        | 42u8       |\n",
    "| u16   | 16 位无符号整数       | 300u16     |\n",
    "| u32   | 32 位无符号整数       | 100_000u32 |\n",
    "| u64   | 64 位无符号整数       | 1u64       |\n",
    "| u128  | 128 位无符号整数      | 1u128      |\n",
    "| usize | 平台相关的无符号整数  | 10usize    |\n",
    "| f32   | 32 位浮点数           | 3.14f32    |\n",
    "| f64   | 64 位浮点数(默认)     | 3.14f64    |\n",
    "\n",
    "> (i/u)(8/16/32/64/128/size)\n",
    "> \n",
    "> f(32/64)"
   ]
  },
  {
   "cell_type": "code",
   "execution_count": null,
   "id": "03f96817",
   "metadata": {
    "vscode": {
     "languageId": "rust"
    }
   },
   "outputs": [],
   "source": [
    "let a: i32 = 42; // 32位整数\n",
    "let b: f64 = 3.14; // 64位浮点数\n",
    "let c: bool = true; // 布尔值\n",
    "let d: char = 'R'; // 字符\n",
    "const MAX_POINTS: u32 = 100_000; // 常量\n",
    "\n",
    "let bb = 150_i64;\n",
    "println!(\"{}\", bb)"
   ]
  },
  {
   "cell_type": "code",
   "execution_count": null,
   "id": "490d955b",
   "metadata": {
    "vscode": {
     "languageId": "rust"
    }
   },
   "outputs": [],
   "source": [
    "// 变量绑定\n",
    "let x = 5;\n",
    "println!(\"x = {}\", x);\n",
    "\n",
    "// 可变变量\n",
    "let mut y = 10;\n",
    "y = 20;\n",
    "println!(\"y = {}\", y);"
   ]
  },
  {
   "cell_type": "markdown",
   "id": "3e52dc39",
   "metadata": {},
   "source": [
    "### 高级类型"
   ]
  },
  {
   "cell_type": "code",
   "execution_count": null,
   "id": "fc2d6568",
   "metadata": {
    "vscode": {
     "languageId": "rust"
    }
   },
   "outputs": [],
   "source": [
    "// 类型别名\n",
    "type Kilometers = i32;\n",
    "\n",
    "// 类型别名使用\n",
    "let distance: Kilometers = 5;\n",
    "println!(\"距离: {} 公里\", distance);\n",
    "\n",
    "// 动态大小类型\n",
    "let s: &str = \"Hello\";\n",
    "println!(\"{}\", s)"
   ]
  },
  {
   "cell_type": "code",
   "execution_count": null,
   "id": "b5eb2136",
   "metadata": {
    "vscode": {
     "languageId": "rust"
    }
   },
   "outputs": [],
   "source": [
    "// 从不返回类型\n",
    "fn forever() -> ! {\n",
    "  loop {\n",
    "      println!(\"永远循环\");\n",
    "  }\n",
    "}"
   ]
  },
  {
   "cell_type": "code",
   "execution_count": null,
   "id": "3aaeed3f",
   "metadata": {
    "vscode": {
     "languageId": "rust"
    }
   },
   "outputs": [],
   "source": [
    "// 复杂泛型函数\n",
    "fn longest_with_an_announcement<'a, T>(\n",
    "  x: &'a str,\n",
    "  y: &'a str,\n",
    "  ann: T\n",
    ") -> &'a str\n",
    "where\n",
    "  T: std::fmt::Display,\n",
    "{\n",
    "  println!(\"通知: {}\", ann);\n",
    "  if x.len() > y.len() { x } else { y }\n",
    "}\n",
    "\n",
    "// 泛型约束\n",
    "let favorite = longest_with_an_announcement(\"Rust\", \"代码\", \"最好的语言\");\n",
    "println!(\"结果: {}\", favorite);"
   ]
  },
  {
   "cell_type": "markdown",
   "id": "e4dcc7cb",
   "metadata": {},
   "source": [
    "### String\n",
    "\n",
    "String: 可变的、拥有所有权的字符串类型. \n",
    "\n",
    "&str: 字符串切片, 通常用于引用字符串. "
   ]
  },
  {
   "cell_type": "code",
   "execution_count": null,
   "id": "681c28bf",
   "metadata": {
    "vscode": {
     "languageId": "rust"
    }
   },
   "outputs": [],
   "source": [
    "let mut s = String::from(\"hello\"); // String 类型\n",
    "s.push_str(\", world!\");\n",
    "let s2 = \"world\"; // &str 类型\n",
    "println!(\"{} {}\", s, s2);"
   ]
  },
  {
   "cell_type": "markdown",
   "id": "2a65c984",
   "metadata": {},
   "source": [
    "### Option\n",
    "\n",
    "Option<T>: 用于处理可能为空的值. \n",
    "\n",
    "Result<T, E>: 用于处理可能出错的操作. "
   ]
  },
  {
   "cell_type": "code",
   "execution_count": null,
   "id": "7469dbe8",
   "metadata": {
    "vscode": {
     "languageId": "rust"
    }
   },
   "outputs": [],
   "source": [
    "let id: Option<i32> = Some(66);\n",
    "// let id: Option<i32> = None;\n",
    "\n",
    "match id {\n",
    "    Some(value) => println!(\"ID 的值是: {}\", value),\n",
    "    None => println!(\"ID 是 NULL\"),\n",
    "}\n",
    "\n",
    "if let Some(value) = id {\n",
    "    println!(\"ID 的值是: {}\", value);\n",
    "} else {\n",
    "    println!(\"ID 是 NULL\");\n",
    "}\n",
    "\n",
    "// println!(\"ID 的值是: {}\", id.unwrap()); // id 是 None, 程序会 panic\n",
    "// println!(\"ID 的值是: {}\", id.expect(\"ID 是 NULL\")); // id 是 None, 程序会 panic 并显示自定义错误信息\n",
    "\n",
    "println!(\"ID 的值是: {}\", id.unwrap_or(-1)); // 默认值 -1\n",
    "\n",
    "let value = id.unwrap_or_else(|| {\n",
    "    println!(\"ID 是 NULL, 返回默认值: -1\");\n",
    "    -1\n",
    "});\n",
    "println!(\"ID 的值是: {}\", value);\n",
    "\n",
    "// 使用 map 或 and_then\n",
    "println!(\"ID 的值是: {:?}\", id.map(|value| value));\n",
    "\n",
    "let result = id.and_then(|value| {\n",
    "    if value > 0 {\n",
    "        Some(value.to_string())\n",
    "    } else {\n",
    "        None\n",
    "    }\n",
    "});\n",
    "println!(\"ID 的值是: {:?}\", result); // 输出: Some(\"42\")\n",
    "\n",
    "// 使用 ? 操作符\n",
    "fn print_id(id: Option<i32>) -> Option<()> {\n",
    "    let value = id?; // 如果 id 是 None, 提前返回 None\n",
    "    println!(\"ID 的值是: {}\", value);\n",
    "    Some(())\n",
    "}\n",
    "print_id(id);\n"
   ]
  },
  {
   "cell_type": "code",
   "execution_count": null,
   "id": "ff624c67",
   "metadata": {
    "vscode": {
     "languageId": "rust"
    }
   },
   "outputs": [],
   "source": [
    "let result: Result<i32, &str> = Ok(42);\n",
    "// let result: Result<i32, &str> = Err(\"出错了\");\n",
    "\n",
    "println!(\"{}\", result.unwrap_or(66))"
   ]
  },
  {
   "cell_type": "markdown",
   "id": "83fa897f",
   "metadata": {},
   "source": [
    "## if"
   ]
  },
  {
   "cell_type": "code",
   "execution_count": null,
   "id": "0d5bd691",
   "metadata": {
    "vscode": {
     "languageId": "rust"
    }
   },
   "outputs": [],
   "source": [
    "// 控制流\n",
    "let number = 7;\n",
    "if number < 5 {\n",
    "    println!(\"小于5\");\n",
    "  } else if number >= 10 {\n",
    "    println!(\"大于10\");\n",
    "} else {\n",
    "    println!(\"大于等于5且小于10\");\n",
    "}\n",
    "\n",
    "let result = if number > 5 { \"大于5\" } else { \"小于等于5\" };\n",
    "println!(\"结果: {}\", result);\n",
    "\n",
    "match number {\n",
    "  1 => println!(\"一\"),\n",
    "  2 | 3 | 5 | 7 => println!(\"质数\"),\n",
    "  _ => println!(\"其他\"),\n",
    "}"
   ]
  },
  {
   "cell_type": "markdown",
   "id": "d551daaa",
   "metadata": {},
   "source": [
    "## 循环"
   ]
  },
  {
   "cell_type": "code",
   "execution_count": null,
   "id": "5006d6b1",
   "metadata": {
    "vscode": {
     "languageId": "rust"
    }
   },
   "outputs": [],
   "source": [
    "let mut count = 0;\n",
    "let result = loop {\n",
    "    count += 1;\n",
    "    if count == 10 {\n",
    "        break count * 2;\n",
    "    }\n",
    "};\n",
    "println!(\"count = {}\", count);\n",
    "println!(\"结果: {}\", result);\n",
    "\n",
    "let mut count = 0;\n",
    "while count < 5 {\n",
    "    println!(\"Count: {}\", count);\n",
    "    count += 1;\n",
    "}\n",
    "\n",
    "// For loop\n",
    "for number in 1..5 {\n",
    "    println!(\"Number: {}\", number);\n",
    "}\n",
    "for number in (1..5).rev() {\n",
    "  println!(\"{}\", number);\n",
    "}"
   ]
  },
  {
   "cell_type": "code",
   "execution_count": null,
   "id": "af54cdbc",
   "metadata": {
    "vscode": {
     "languageId": "rust"
    }
   },
   "outputs": [],
   "source": [
    "let tasks = (0..10)\n",
    ".map(|x| { x * 2 })\n",
    ".collect::<Vec<_>>();\n",
    "println!(\"数组: {:?}\", tasks);"
   ]
  },
  {
   "cell_type": "markdown",
   "id": "f03445ed",
   "metadata": {},
   "source": [
    "## 数组"
   ]
  },
  {
   "cell_type": "code",
   "execution_count": null,
   "id": "a59f637e",
   "metadata": {
    "vscode": {
     "languageId": "rust"
    }
   },
   "outputs": [],
   "source": [
    "// let array: [i32; 5] = [1, 3, 5, 7, 9];\n",
    "let array = [1, 3, 5, 7, 9];\n",
    "println!(\"数组: {:?}\", array);\n",
    "\n",
    "for element in array.iter() {\n",
    "  println!(\"值是: {}\", element);\n",
    "}\n",
    "\n",
    "for i in 0..3 {\n",
    "    println!(\"array[{}] = {}\", i, array[i]);\n",
    "}\n",
    "\n",
    "{\n",
    "  let slice = &array[0..3];\n",
    "  println!(\"切片: {:?}\", slice);\n",
    "}"
   ]
  },
  {
   "cell_type": "markdown",
   "id": "8a962d69",
   "metadata": {},
   "source": [
    "## 元组"
   ]
  },
  {
   "cell_type": "code",
   "execution_count": null,
   "id": "1ae1ff5d",
   "metadata": {
    "vscode": {
     "languageId": "rust"
    }
   },
   "outputs": [],
   "source": [
    "let tuple: (i32, f64, char) = (42, 3.14, 'R');\n",
    "println!(\"元组: {:?}\", tuple);"
   ]
  },
  {
   "cell_type": "markdown",
   "id": "d731413f",
   "metadata": {},
   "source": [
    "## Vector"
   ]
  },
  {
   "cell_type": "code",
   "execution_count": null,
   "id": "e25dd54b",
   "metadata": {
    "vscode": {
     "languageId": "rust"
    }
   },
   "outputs": [],
   "source": [
    "let mut numbers = vec![1, 2, 3];\n",
    "numbers.push(4);\n",
    "println!(\"Vector: {:?}\", numbers);\n",
    "\n",
    "let mut vec = Vec::new();\n",
    "vec.push(1);\n",
    "vec.push(2);\n",
    "vec.push(3);\n",
    "println!(\"Vector: {:?}\", vec);"
   ]
  },
  {
   "cell_type": "code",
   "execution_count": null,
   "id": "2d647d8b",
   "metadata": {
    "vscode": {
     "languageId": "rust"
    }
   },
   "outputs": [],
   "source": [
    "let users = vec![\n",
    "    (\"a\", \"aa\", \"aaa\"),\n",
    "    (\"b\", \"bb\", \"bbb\"),\n",
    "];\n",
    "\n",
    "for (k, v, z) in users {\n",
    "    println!(\"元素值: {} {} {}\", k, v, z);\n",
    "}"
   ]
  },
  {
   "cell_type": "markdown",
   "id": "df204a28",
   "metadata": {},
   "source": [
    "## Map"
   ]
  },
  {
   "cell_type": "code",
   "execution_count": null,
   "id": "3603712c-dcdf-4ba8-b580-3ffb784b5856",
   "metadata": {
    "vscode": {
     "languageId": "rust"
    }
   },
   "outputs": [],
   "source": [
    "use std::collections::HashMap;\n",
    "let mut map = HashMap::new();\n",
    "map.insert(\"foo\", 50);\n",
    "map.insert(\"bar\", 60);\n",
    "println!(\"HashMap: {:?}\", map);\n",
    "println!(\"Value: {:?}\", map.get(\"foo\"));\n",
    "\n",
    "if let Some(v) = map.get(\"foo\") {\n",
    "    println!(\"Value: {}\", v);\n",
    "}\n",
    "\n",
    "for (key, value) in &map {\n",
    "    println!(\"{}: {}\", key, value);\n",
    "}"
   ]
  },
  {
   "cell_type": "markdown",
   "id": "615f9701",
   "metadata": {},
   "source": [
    "## 函数"
   ]
  },
  {
   "cell_type": "code",
   "execution_count": null,
   "id": "bb45e8ca",
   "metadata": {
    "vscode": {
     "languageId": "rust"
    }
   },
   "outputs": [],
   "source": [
    "fn add(a: i32, b: i32) -> i32 {\n",
    "  return a + b;\n",
    "}\n",
    "fn greet(name: &str) -> String {\n",
    "  name.to_uppercase()\n",
    "}\n",
    "\n",
    "println!(\"5 + 68 = {}\", add(5, 68));\n",
    "greet(&\"aa\")"
   ]
  },
  {
   "cell_type": "markdown",
   "id": "10523418",
   "metadata": {},
   "source": [
    "### 闭包与函数式编程"
   ]
  },
  {
   "cell_type": "code",
   "execution_count": null,
   "id": "3648889b",
   "metadata": {
    "vscode": {
     "languageId": "rust"
    }
   },
   "outputs": [],
   "source": [
    "{\n",
    "  // 简单闭包(可省略数据类型)\n",
    "  let add_one = |x| x + 1;\n",
    "  println!(\"加1结果: {}\", add_one(5));\n",
    "\n",
    "  // 带类型注解的闭包\n",
    "  let multiply = |x: i32, y: i32| -> i32 { x * y };\n",
    "  println!(\"乘法结果: {}\", multiply(4, 6));\n",
    "\n",
    "  // 使用迭代器\n",
    "  let v1 = vec![1, 2, 3];\n",
    "  let v2: Vec<_> = v1.iter().map(|x| x * 2).collect();\n",
    "  println!(\"迭代器映射: {:?}\", v2);\n",
    "\n",
    "  // filter和reduce\n",
    "  let sum: i32 = vec![1, 2, 3, 4, 5]\n",
    "      .iter()\n",
    "      .filter(|&x| x % 2 == 0)\n",
    "      .sum();\n",
    "  println!(\"偶数和: {}\", sum);\n",
    "}"
   ]
  },
  {
   "cell_type": "markdown",
   "id": "3140c52e",
   "metadata": {},
   "source": [
    "### 泛型与特征(Trait)"
   ]
  },
  {
   "cell_type": "code",
   "execution_count": null,
   "id": "2dcd6ba4",
   "metadata": {
    "vscode": {
     "languageId": "rust"
    }
   },
   "outputs": [],
   "source": [
    "// 泛型函数\n",
    "fn largest<T: PartialOrd>(list: &[T]) -> &T {\n",
    "    let mut largest = &list[0];\n",
    "    for item in list {\n",
    "        if item > largest {\n",
    "            largest = item;\n",
    "        }\n",
    "    }\n",
    "\n",
    "    largest\n",
    "}\n",
    "\n",
    "{\n",
    "let numbers = vec![34, 50, 25, 100, 65];\n",
    "let result = largest(&numbers);\n",
    "println!(\"最大值: {}\", result);\n",
    "}"
   ]
  },
  {
   "cell_type": "code",
   "execution_count": null,
   "id": "336e2ffc",
   "metadata": {
    "vscode": {
     "languageId": "rust"
    }
   },
   "outputs": [],
   "source": [
    "// 特征定义\n",
    "trait Summarizable {\n",
    "  fn summary(&self) -> String;\n",
    "}\n",
    "\n",
    "struct NewsArticle {\n",
    "  headline: String,\n",
    "  location: String,\n",
    "  author: String,\n",
    "}\n",
    "\n",
    "impl Summarizable for NewsArticle {\n",
    "  fn summary(&self) -> String {\n",
    "      format!(\"{}, by {} ({})\", self.headline, self.author, self.location)\n",
    "  }\n",
    "}\n",
    "\n",
    "let article = NewsArticle {\n",
    "  headline: String::from(\"企鹅队获胜!\"),\n",
    "  location: String::from(\"中国\"),\n",
    "  author: String::from(\"张三\"),\n",
    "};\n",
    "\n",
    "println!(\"文章摘要: {}\", article.summary());"
   ]
  },
  {
   "cell_type": "markdown",
   "id": "b43b4aaf",
   "metadata": {},
   "source": [
    "### 高级Trait"
   ]
  },
  {
   "cell_type": "code",
   "execution_count": null,
   "id": "2fc1fe73",
   "metadata": {
    "vscode": {
     "languageId": "rust"
    }
   },
   "outputs": [],
   "source": [
    "use std::ops::Add;\n",
    "\n",
    "// 运算符重载\n",
    "#[derive(Debug, PartialEq)]\n",
    "struct Point {\n",
    "    x: i32,\n",
    "    y: i32,\n",
    "}\n",
    "\n",
    "impl Add for Point {\n",
    "    type Output = Point;\n",
    "\n",
    "    fn add(self, other: Point) -> Point {\n",
    "        Point {\n",
    "            x: self.x + other.x,\n",
    "            y: self.y + other.y,\n",
    "        }\n",
    "    }\n",
    "}\n",
    "\n",
    "let p1 = Point { x: 1, y: 0 };\n",
    "let p2 = Point { x: 2, y: 3 };\n",
    "\n",
    "let p3 = p1 + p2;\n",
    "println!(\"相加结果: {:?}\", p3);"
   ]
  },
  {
   "cell_type": "code",
   "execution_count": null,
   "id": "f1d9e441",
   "metadata": {
    "vscode": {
     "languageId": "rust"
    }
   },
   "outputs": [],
   "source": [
    "// 带泛型参数的trait\n",
    "trait Generator {\n",
    "  type Item;\n",
    "  fn next(&mut self) -> Option<Self::Item>;\n",
    "}"
   ]
  },
  {
   "cell_type": "markdown",
   "id": "ebebc023",
   "metadata": {},
   "source": [
    "## 面向对象"
   ]
  },
  {
   "cell_type": "code",
   "execution_count": null,
   "id": "5fd076ab",
   "metadata": {
    "vscode": {
     "languageId": "rust"
    }
   },
   "outputs": [],
   "source": [
    "struct Rectangle {\n",
    "    width: u32,\n",
    "    height: u32,\n",
    "}\n",
    "\n",
    "impl Rectangle {\n",
    "    fn area(&self) -> u32 {\n",
    "        self.width * self.height\n",
    "    }\n",
    "\n",
    "    fn can_hold(&self, other: &Rectangle) -> bool {\n",
    "        self.width > other.width && self.height > other.height\n",
    "    }\n",
    "\n",
    "    fn square(size: u32) -> Rectangle {\n",
    "      Rectangle {\n",
    "          width: size,\n",
    "          height: size,\n",
    "      }\n",
    "  }\n",
    "}\n",
    "\n",
    "let rect1 = Rectangle { width: 30, height: 50 };\n",
    "let rect2 = Rectangle { width: 10, height: 40 };\n",
    "\n",
    "println!(\"Area of rect1: {}\", rect1.area());\n",
    "println!(\"rect1 can hold rect2: {}\", rect1.can_hold(&rect2));\n",
    "\n",
    "let rect2 = Rectangle::square(20);\n",
    "println!(\n",
    "    \"The area of the square is {} square pixels.\",\n",
    "    rect2.area()\n",
    ");"
   ]
  },
  {
   "cell_type": "code",
   "execution_count": null,
   "id": "98b6ff6a",
   "metadata": {
    "vscode": {
     "languageId": "rust"
    }
   },
   "outputs": [],
   "source": [
    "// 定义结构体\n",
    "struct User {\n",
    "  username: String,\n",
    "  email: String,\n",
    "  age: u64,\n",
    "  active: bool,\n",
    "}\n",
    "\n",
    "// 创建结构体实例\n",
    "let user1 = User {\n",
    "    username: String::from(\"someusername123\"),\n",
    "    email: String::from(\"someone@example.com\"),\n",
    "    age: 1,\n",
    "    active: true,\n",
    "};\n",
    "\n",
    "// 更新结构体\n",
    "let user2 = User {\n",
    "    username: String::from(\"newuser\"),\n",
    "    email: String::from(\"another@example.com\"),\n",
    "    ..user1\n",
    "};\n",
    "\n",
    "// 元组结构体\n",
    "struct Color(i32, i32, i32);\n",
    "let black = Color(0, 0, 0);"
   ]
  },
  {
   "cell_type": "markdown",
   "id": "0748ac0a",
   "metadata": {},
   "source": [
    "### 枚举"
   ]
  },
  {
   "cell_type": "code",
   "execution_count": null,
   "id": "89a6c794",
   "metadata": {
    "vscode": {
     "languageId": "rust"
    }
   },
   "outputs": [],
   "source": [
    "// 枚举\n",
    "enum Message {\n",
    "  Enter,\n",
    "  Quit,\n",
    "  Move { x: i32, y: i32 },\n",
    "  Write(String),\n",
    "}\n",
    "\n",
    "// 使用枚举\n",
    "let msg = Message::Write(String::from(\"hello\"));\n",
    "\n",
    "let dir = Message::Quit;\n",
    "match dir {\n",
    "    Message::Enter => println!(\"值:Enter\"),\n",
    "    Message::Quit => println!(\"值:Quit\"),\n",
    "    _ => println!(\"其他\"),\n",
    "}"
   ]
  },
  {
   "cell_type": "code",
   "execution_count": null,
   "id": "e3f6eebc",
   "metadata": {
    "vscode": {
     "languageId": "rust"
    }
   },
   "outputs": [],
   "source": [
    "enum IpAddr {\n",
    "  V4(u8, u8, u8, u8),\n",
    "  V6(String),\n",
    "}\n",
    "\n",
    "let home = IpAddr::V4(127, 0, 0, 1);\n",
    "let loopback = IpAddr::V6(String::from(\"::1\"));\n",
    "\n",
    "// match模式匹配\n",
    "match home {\n",
    "    IpAddr::V4(a, b, c, d) => {\n",
    "        println!(\"IPv4地址: {}.{}.{}.{}\", a, b, c, d);\n",
    "    },\n",
    "    IpAddr::V6(addr) => {\n",
    "        println!(\"IPv6地址: {}\", addr);\n",
    "    }\n",
    "}\n",
    "\n",
    "// if let 简化匹配\n",
    "if let IpAddr::V6(addr) = loopback {\n",
    "    println!(\"IPv6地址: {}\", addr);\n",
    "}"
   ]
  },
  {
   "cell_type": "markdown",
   "id": "9c43641c",
   "metadata": {},
   "source": [
    "## Tips"
   ]
  },
  {
   "cell_type": "code",
   "execution_count": null,
   "id": "c3033985",
   "metadata": {
    "vscode": {
     "languageId": "rust"
    }
   },
   "outputs": [],
   "source": [
    "let mut s = String::from(\"hello\");\n",
    "s.push_str(\", world!\");\n",
    "println!(\"{}\", s);"
   ]
  },
  {
   "cell_type": "code",
   "execution_count": null,
   "id": "ef98805b-e8e8-452b-b231-fe96080901fd",
   "metadata": {
    "vscode": {
     "languageId": "rust"
    }
   },
   "outputs": [],
   "source": [
    "let s1 = String::from(\"hello\");\n",
    "let s2 = s1;\n",
    "// println!(\"{}\", s1); // 这行会报错, 因为s1的所有权已经转移\n",
    "println!(\"{}\", s2);\n",
    "\n",
    "// 克隆\n",
    "let s3 = String::from(\"world\");\n",
    "let s4 = s3.clone(); // 深度复制\n",
    "println!(\"s3 = {}, s4 = {}\", s3, s4);\n",
    "\n",
    "// 引用与借用\n",
    "let s5 = String::from(\"rust\");\n",
    "let len = calculate_length(&s5);\n",
    "println!(\"'{}' 长度是 {}\", s5, len);\n",
    "\n",
    "fn calculate_length(s: &String) -> usize {\n",
    "  s.len()\n",
    "}"
   ]
  },
  {
   "cell_type": "code",
   "execution_count": null,
   "id": "b16ed85b",
   "metadata": {
    "vscode": {
     "languageId": "rust"
    }
   },
   "outputs": [],
   "source": [
    "use std::env;\n",
    "println!(\"{:?}\", &env::var(\"CARGO_HOME\"))"
   ]
  },
  {
   "cell_type": "markdown",
   "id": "f3fd0bef",
   "metadata": {},
   "source": [
    "## 错误处理"
   ]
  },
  {
   "cell_type": "code",
   "execution_count": null,
   "id": "f1d345fd",
   "metadata": {
    "vscode": {
     "languageId": "rust"
    }
   },
   "outputs": [],
   "source": [
    "use std::fs::File;\n",
    "use std::io::ErrorKind;\n",
    "use std::io::Read;\n",
    "\n",
    "fn read_username_from_file() -> Result<String, std::io::Error> {\n",
    "  let mut username = String::new();\n",
    "  File::open(\"hello.txt\")?.read_to_string(&mut username)?;\n",
    "  Ok(username)\n",
    "}\n",
    "\n",
    "// Result处理\n",
    "let f = File::open(\"hello.txt\");\n",
    "\n",
    "let f = match f {\n",
    "    Ok(file) => file,\n",
    "    Err(error) => match error.kind() {\n",
    "        ErrorKind::NotFound => {\n",
    "            panic!(\"文件未找到\");\n",
    "        },\n",
    "        _ => {\n",
    "            panic!(\"打开文件时出现其他错误\");\n",
    "        }\n",
    "    }\n",
    "};\n",
    "\n",
    "// unwrap and expect\n",
    "let username = read_username_from_file().unwrap();\n",
    "println!(\"用户名: {}\", username);"
   ]
  },
  {
   "cell_type": "markdown",
   "id": "4a0863a6",
   "metadata": {},
   "source": [
    "## 并发编程"
   ]
  },
  {
   "cell_type": "code",
   "execution_count": null,
   "id": "143d3974",
   "metadata": {
    "vscode": {
     "languageId": "rust"
    }
   },
   "outputs": [],
   "source": [
    "use std::thread;\n",
    "use std::time::Duration;\n",
    "use std::sync::{Mutex, Arc};\n",
    "\n",
    "// 创建线程\n",
    "let handle = thread::spawn(|| {\n",
    "    for i in 1..10 {\n",
    "        println!(\"线程中的数字: {}\", i);\n",
    "        thread::sleep(Duration::from_millis(1));\n",
    "    }\n",
    "});\n",
    "\n",
    "// 等待线程结束\n",
    "handle.join().unwrap();\n",
    "\n",
    "// 使用Mutex实现线程安全共享状态\n",
    "let counter = Arc::new(Mutex::new(0));\n",
    "let mut handles = vec![];\n",
    "\n",
    "for _ in 0..10 {\n",
    "    let counter = Arc::clone(&counter);\n",
    "    let handle = thread::spawn(move || {\n",
    "        let mut num = counter.lock().unwrap();\n",
    "        *num += 1;\n",
    "    });\n",
    "    handles.push(handle);\n",
    "}\n",
    "\n",
    "for handle in handles {\n",
    "    handle.join().unwrap();\n",
    "}\n",
    "\n",
    "println!(\"最终计数: {}\", *counter.lock().unwrap());"
   ]
  },
  {
   "cell_type": "markdown",
   "id": "61e666a4",
   "metadata": {},
   "source": [
    "## 智能指针"
   ]
  },
  {
   "cell_type": "code",
   "execution_count": null,
   "id": "7425d1e2",
   "metadata": {
    "vscode": {
     "languageId": "rust"
    }
   },
   "outputs": [],
   "source": [
    "use std::rc::Rc;\n",
    "use std::cell::RefCell;\n",
    "\n",
    "// 使用Box创建递归数据结构\n",
    "enum List {\n",
    "    Cons(i32, Box<List>),\n",
    "    Nil,\n",
    "}\n",
    "\n",
    "{\n",
    "    // Box智能指针\n",
    "    let b = Box::new(5);\n",
    "    println!(\"Box值: {}\", b);\n",
    "\n",
    "    // Rc共享所有权\n",
    "    let a = Rc::new(List::Cons(5, Box::new(List::Cons(10, Box::new(List::Nil)))));\n",
    "    let b = Rc::clone(&a);\n",
    "\n",
    "    // RefCell内部可变性\n",
    "    let x = RefCell::new(5);\n",
    "    let mut y = x.borrow_mut();\n",
    "    *y += 1;\n",
    "    // println!(\"RefCell值: {}\", *x.borrow());\n",
    "}"
   ]
  },
  {
   "cell_type": "markdown",
   "id": "5d1b93f3",
   "metadata": {},
   "source": [
    "## 模块系统"
   ]
  },
  {
   "cell_type": "code",
   "execution_count": null,
   "id": "211b2a50",
   "metadata": {
    "vscode": {
     "languageId": "rust"
    }
   },
   "outputs": [],
   "source": [
    "// 模块定义\n",
    "mod restaurant {\n",
    "    // 公有模块\n",
    "    pub mod hosting {\n",
    "        pub fn add_to_waitlist() {}\n",
    "\n",
    "        fn seat_at_table() {}\n",
    "    }\n",
    "\n",
    "    // 私有模块\n",
    "    mod serving {\n",
    "        fn take_order() {}\n",
    "        fn serve_order() {}\n",
    "        fn take_payment() {}\n",
    "    }\n",
    "}\n",
    "\n",
    "{\n",
    "// 使用绝对路径\n",
    "crate::restaurant::hosting::add_to_waitlist();\n",
    "\n",
    "// 使用相对路径\n",
    "restaurant::hosting::add_to_waitlist();\n",
    "}"
   ]
  }
 ],
 "metadata": {
  "kernelspec": {
   "display_name": "Rust",
   "language": "rust",
   "name": "rust"
  },
  "language_info": {
   "codemirror_mode": "rust",
   "file_extension": ".rs",
   "mimetype": "text/rust",
   "name": "Rust",
   "pygment_lexer": "rust",
   "version": ""
  }
 },
 "nbformat": 4,
 "nbformat_minor": 5
}
