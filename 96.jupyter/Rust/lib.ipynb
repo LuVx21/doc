{
 "cells": [
  {
   "cell_type": "markdown",
   "metadata": {},
   "source": [
    "## reqwest"
   ]
  },
  {
   "cell_type": "code",
   "execution_count": null,
   "metadata": {
    "vscode": {
     "languageId": "rust"
    }
   },
   "outputs": [],
   "source": [
    ":dep reqwest = { version = \"0.12\", features = [\"json\"] }\n",
    ":dep tokio = { version = \"1\", features = [\"full\"] }\n",
    "\n",
    "use std::collections::HashMap;\n",
    "\n",
    "#[tokio::main]\n",
    "async fn request() -> Result<(), Box<dyn std::error::Error>> {\n",
    "    let resp = reqwest::get(\"https://httpbin.org/ip\")\n",
    "        .await?\n",
    "        .json::<HashMap<String, String>>()\n",
    "        .await?;\n",
    "    println!(\"{resp:#?}\");\n",
    "    Ok(())\n",
    "}\n",
    "\n",
    "request().unwrap();"
   ]
  },
  {
   "cell_type": "code",
   "execution_count": null,
   "metadata": {
    "vscode": {
     "languageId": "rust"
    }
   },
   "outputs": [],
   "source": [
    ":dep reqwest = { version = \"0.12\", features = [\"json\"] }\n",
    ":dep tokio = { version = \"1\", features = [\"full\"] }\n",
    "\n",
    "// 使用 reqwest 发送 GET 请求\n",
    "use reqwest::Error;\n",
    "\n",
    "const URL: &str = \"https://jsonplaceholder.typicode.com/posts/1\";\n",
    "\n",
    "#[tokio::main]\n",
    "async fn request() -> Result<(), Error> {\n",
    "    let response = reqwest::get(URL)\n",
    "        .await?;\n",
    "\n",
    "    if response.status().is_success() {\n",
    "        let body = response.text().await?;\n",
    "        println!(\"Response: {}\", body);\n",
    "    } else {\n",
    "        println!(\"Request failed with status: {}\", response.status());\n",
    "    }\n",
    "\n",
    "    Ok(())\n",
    "}\n",
    "\n",
    "request().unwrap();\n",
    "\n",
    "let result: Result<(), Error> = tokio::runtime::Runtime::new()\n",
    "    .unwrap()\n",
    "    .block_on(async {\n",
    "        let response = reqwest::get(URL)\n",
    "            .await?;\n",
    "\n",
    "        if response.status().is_success() {\n",
    "            let body = response.text().await?;\n",
    "            println!(\"Response: {}\", body);\n",
    "        } else {\n",
    "            println!(\"Request failed with status: {}\", response.status());\n",
    "        }\n",
    "\n",
    "        Ok(())\n",
    "    });\n",
    "\n",
    "result.unwrap();"
   ]
  },
  {
   "cell_type": "code",
   "execution_count": null,
   "metadata": {
    "vscode": {
     "languageId": "rust"
    }
   },
   "outputs": [],
   "source": [
    "// 声明依赖\n",
    ":dep reqwest = { version = \"0.12\", features = [\"json\"] }\n",
    ":dep tokio = { version = \"1\", features = [\"full\"] }\n",
    ":dep serde = { version = \"1.0\", features = [\"derive\"] }\n",
    ":dep serde_json = \"1.0\"\n",
    "\n",
    "// 使用 reqwest 和 serde 解析 JSON\n",
    "use reqwest::Error;\n",
    "use serde::Deserialize;\n",
    "\n",
    "#[derive(Debug, Deserialize)]\n",
    "struct Post {\n",
    "    userId: u32,\n",
    "    id: u32,\n",
    "    title: String,\n",
    "    body: String,\n",
    "}\n",
    "\n",
    "#[tokio::main]\n",
    "async fn main() -> Result<(), Error> {\n",
    "    let url = \"https://jsonplaceholder.typicode.com/posts/1\";\n",
    "    let response = reqwest::get(url).await?;\n",
    "\n",
    "    if response.status().is_success() {\n",
    "        let post: Post = response.json().await?;\n",
    "        println!(\"Post: {:?}\", post);\n",
    "    } else {\n",
    "        println!(\"Request failed with status: {}\", response.status());\n",
    "    }\n",
    "\n",
    "    Ok(())\n",
    "}\n",
    "\n",
    "// 调用 main 函数\n",
    "main().unwrap();"
   ]
  }
 ],
 "metadata": {
  "kernelspec": {
   "display_name": "Rust",
   "language": "rust",
   "name": "rust"
  },
  "language_info": {
   "codemirror_mode": "rust",
   "file_extension": ".rs",
   "mimetype": "text/rust",
   "name": "Rust",
   "pygment_lexer": "rust",
   "version": ""
  }
 },
 "nbformat": 4,
 "nbformat_minor": 2
}
