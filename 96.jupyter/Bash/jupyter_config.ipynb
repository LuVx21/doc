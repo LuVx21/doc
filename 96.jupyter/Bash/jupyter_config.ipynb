{
 "cells": [
  {
   "cell_type": "code",
   "execution_count": null,
   "id": "bffd177d",
   "metadata": {},
   "outputs": [],
   "source": [
    "%%bash\n",
    "apt-get update -q && apt-get install -q -y --no-install-recommends \\\n",
    "    #\n",
    "    ca-certificates curl jq git zsh"
   ]
  },
  {
   "cell_type": "code",
   "execution_count": null,
   "id": "742f8f79",
   "metadata": {},
   "outputs": [],
   "source": [
    "%%zsh\n",
    "omz plugin enable history-substring-search z zsh-autosuggestions zsh-completions zsh-syntax-highlighting"
   ]
  },
  {
   "cell_type": "code",
   "execution_count": null,
   "id": "e6d30fd2",
   "metadata": {},
   "outputs": [],
   "source": [
    "%%bash\n",
    "$HOME/.vscode/cli/serve-web/*/bin/code-server --list-extensions"
   ]
  },
  {
   "cell_type": "markdown",
   "id": "e26e3584",
   "metadata": {},
   "source": [
    "## python"
   ]
  },
  {
   "cell_type": "code",
   "execution_count": null,
   "id": "807c634c",
   "metadata": {},
   "outputs": [],
   "source": [
    "%%bash\n",
    "pip3 install --upgrade pip"
   ]
  },
  {
   "cell_type": "code",
   "execution_count": null,
   "id": "e46aa5e0-f1af-47be-b33d-9cb09bf635fa",
   "metadata": {},
   "outputs": [],
   "source": [
    "%%bash\n",
    "# 跨域\n",
    "# jupyter lab --generate-config\n",
    "# cat >> /root/.jupyter/jupyter_lab_config.py <<- EOF\n",
    "# c.ServerApp.allow_origin = '*'\n",
    "# c.NotebookApp.allow_origin = '*'\n",
    "# c.ServerApp.allow_remote_access = True\n",
    "# c.ServerApp.tornado_settings = {\n",
    "#     'headers': {\n",
    "#         'Access-Control-Allow-Private-Network': 'true',\n",
    "#         'Content-Security-Policy': '*'\n",
    "#         'Access-Control-Allow-Origin': '*'\n",
    "#     },\n",
    "# }\n",
    "# EOF\n"
   ]
  },
  {
   "cell_type": "code",
   "execution_count": null,
   "id": "993f71ed-a002-41a8-809f-597349911c4d",
   "metadata": {},
   "outputs": [],
   "source": [
    "%%bash\n",
    "# pip3 install nbconvert\n",
    "# 清理元数据信息\n",
    "jupyter nbconvert --to notebook --clear-output --ClearMetadataPreprocessor.enabled=True *.ipynb"
   ]
  },
  {
   "cell_type": "markdown",
   "id": "03010418",
   "metadata": {},
   "source": [
    "## golang"
   ]
  },
  {
   "cell_type": "code",
   "execution_count": null,
   "id": "f0029ebd",
   "metadata": {},
   "outputs": [],
   "source": [
    "%%bash\n",
    "go install -ldflags=\"-w -s\" -v github.com/go-delve/delve/cmd/dlv@latest"
   ]
  }
 ],
 "metadata": {
  "kernelspec": {
   "display_name": "Python 3 (ipykernel)",
   "language": "python",
   "name": "python3"
  },
  "language_info": {
   "codemirror_mode": {
    "name": "ipython",
    "version": 3
   },
   "file_extension": ".py",
   "mimetype": "text/x-python",
   "name": "python",
   "nbconvert_exporter": "python",
   "pygments_lexer": "ipython3",
   "version": "3.13.2"
  }
 },
 "nbformat": 4,
 "nbformat_minor": 5
}
