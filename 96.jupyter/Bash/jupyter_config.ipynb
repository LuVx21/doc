{
 "cells": [
  {
   "cell_type": "code",
   "execution_count": null,
   "id": "e46aa5e0-f1af-47be-b33d-9cb09bf635fa",
   "metadata": {},
   "outputs": [],
   "source": [
    "%%bash\n",
    "# 跨域\n",
    "# jupyter lab --generate-config\n",
    "# cat >> /root/.jupyter/jupyter_lab_config.py <<- EOF\n",
    "# c.ServerApp.allow_origin = '*'\n",
    "# c.NotebookApp.allow_origin = '*'\n",
    "# c.ServerApp.allow_remote_access = True\n",
    "# c.ServerApp.tornado_settings = {\n",
    "#     'headers': {\n",
    "#         'Access-Control-Allow-Private-Network': 'true',\n",
    "#         'Content-Security-Policy': '*'\n",
    "#         'Access-Control-Allow-Origin': '*'\n",
    "#     },\n",
    "# }\n",
    "# EOF\n"
   ]
  }
 ],
 "metadata": {
  "kernelspec": {
   "display_name": "Python 3 (ipykernel)",
   "language": "python",
   "name": "python3"
  },
  "language_info": {
   "codemirror_mode": {
    "name": "ipython",
    "version": 3
   },
   "file_extension": ".py",
   "mimetype": "text/x-python",
   "name": "python",
   "nbconvert_exporter": "python",
   "pygments_lexer": "ipython3",
   "version": "3.13.1"
  }
 },
 "nbformat": 4,
 "nbformat_minor": 5
}
