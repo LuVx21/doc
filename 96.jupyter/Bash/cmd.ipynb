{
 "cells": [
  {
   "cell_type": "markdown",
   "id": "c279e2bf",
   "metadata": {},
   "source": [
    "## cut\n",
    "\n",
    "| 命令项 | 说明               |\n",
    "| :----- | :----------------- |\n",
    "| `-d`   | 指定限定符,默认TAB |\n",
    "| `-f`   | 区域               |"
   ]
  },
  {
   "cell_type": "code",
   "execution_count": null,
   "id": "4a42ded9",
   "metadata": {},
   "outputs": [],
   "source": [
    "%%bash\n",
    "echo $(echo \"a:v1\" | cut -d: -f2)\n",
    "\n",
    "# 获取后缀名\n",
    "ls -l code/Bash/1.log | cut -d \".\" -f 2\n",
    "echo \"a,b,c,d,e,f,g\" | cut -d ',' -f 2,3,6\n",
    "\n",
    "echo \"abcdefg\" | cut -c 2-4"
   ]
  },
  {
   "cell_type": "markdown",
   "id": "7325379e",
   "metadata": {},
   "source": [
    "## expr"
   ]
  },
  {
   "cell_type": "code",
   "execution_count": null,
   "id": "d85815e7",
   "metadata": {},
   "outputs": [],
   "source": [
    "%%bash\n",
    "string=\"abcdefg\"\n",
    "substring=\"dc\"\n",
    "# 错误\n",
    "echo $(expr index \"$string\" \"$substring\")\n",
    "\n",
    "# 第a个字符开始的长度为b的子串\n",
    "expr substr \"$string\" 4 3"
   ]
  },
  {
   "cell_type": "markdown",
   "id": "165be2ba",
   "metadata": {},
   "source": [
    "## wget\n",
    "\n",
    "| 命令项 | 说明       |\n",
    "| :----- | :--------- |\n",
    "| -c     | 断点续传   |\n",
    "| -O     | 指定文件名 |"
   ]
  },
  {
   "cell_type": "code",
   "execution_count": null,
   "id": "9bc08e0d",
   "metadata": {},
   "outputs": [],
   "source": [
    "%%bash\n",
    "wget -q -O - \"https://download.oracle.com/java/23/latest/jdk-23_linux-x64_bin.tar.gz\" | tar -zxvf - -C $JAVA_HOME --strip-components 1"
   ]
  },
  {
   "cell_type": "markdown",
   "id": "b9c04694",
   "metadata": {},
   "source": [
    "## curl\n",
    "\n",
    "| 命令项 | 说明             |\n",
    "| :----- | :--------------- |\n",
    "| -o:    | 保存目标网页源码 |\n",
    "| -O:    | 下载网页中的文件 |\n",
    "| -f     |                  |\n",
    "| -s     |                  |\n",
    "| -S     |                  |\n",
    "| -L     |                  |\n",
    "| -v     |                  |\n",
    "| -d     |                  |\n",
    "| -H     |                  |"
   ]
  },
  {
   "cell_type": "code",
   "execution_count": null,
   "id": "f451f9aa",
   "metadata": {},
   "outputs": [],
   "source": [
    "%%bash\n",
    "# 响应码\n",
    "curl -s -w %{http_code} www.linux.com\n",
    "# 网页源码\n",
    "curl -o index.html http://127.0.0.1/\n",
    "# 发送get请求 -v:看到详细请求信息\n",
    "curl http://127.0.0.1:8080/user?username=admin&pwd=admin -v\n",
    "# 发送post请求\n",
    "curl -d \"username=admin&pwd=admin\" http://127.0.0.1:8080/login\n",
    "curl -H \"Content-Type:application/json\" -X POST -d '{\"username\": \"admin\",\"pwd\": \"admin\"}' http://127.0.0.1:8080/login\n",
    "# 上传文件\n",
    "curl -H \"token: 222\" -F \"file=@/Users/root/1.png\" http://127.0.0.1:8080/login"
   ]
  },
  {
   "cell_type": "markdown",
   "id": "649961ff-1708-424d-b14b-c00be539d4e7",
   "metadata": {},
   "source": [
    "## xargs"
   ]
  },
  {
   "cell_type": "code",
   "execution_count": null,
   "id": "ed1a5876-c546-4d2a-8541-3a8a21f8727e",
   "metadata": {},
   "outputs": [],
   "source": [
    "%%bash\n",
    "find test/  -name \"*.*\" | xargs sed -i 's/\\r//g"
   ]
  },
  {
   "cell_type": "markdown",
   "id": "8e3053c6-b79c-4e28-80d0-9baee608a126",
   "metadata": {},
   "source": [
    "## tr"
   ]
  },
  {
   "cell_type": "code",
   "execution_count": null,
   "id": "5d43374c-6feb-4cff-a83f-01d599944468",
   "metadata": {},
   "outputs": [],
   "source": [
    "%%bash\n",
    "echo LuVx21 | tr '[:upper:]' '[:lower:]'"
   ]
  },
  {
   "cell_type": "markdown",
   "id": "d4b5b8f6-1919-4076-ba0f-423ce9c5263a",
   "metadata": {},
   "source": [
    "## uname"
   ]
  },
  {
   "cell_type": "code",
   "execution_count": null,
   "id": "e17aef58-7789-48af-91d0-7e0f1075a7b7",
   "metadata": {},
   "outputs": [],
   "source": [
    "%%bash\n",
    "uname -a\n",
    "\n",
    "echo \"--------------------------------------------------------------------------------------------------------------------------------\"\n",
    "# 系统类型相关\n",
    "uname -s\n",
    "uname -o\n",
    "uname -r\n",
    "uname -v\n",
    "\n",
    "echo \"--------------------------------------------------------------------------------------------------------------------------------\"\n",
    "# 架构\n",
    "uname -m # 或arch\n",
    "# 主机名\n",
    "uname -n\n",
    "uname -p\n",
    "uname -i"
   ]
  },
  {
   "cell_type": "markdown",
   "id": "2458356f-0518-4c60-a0ad-920d67ea61be",
   "metadata": {},
   "source": [
    "## getopts"
   ]
  },
  {
   "cell_type": "markdown",
   "id": "609358c0-7909-496d-97fd-78321eca1047",
   "metadata": {},
   "source": [
    "`getopts optstring [arg]`\n",
    "\n",
    "optstring是一个字符串, 包含一个可以为getopts命令识别的选项名称列表.\n",
    "\n",
    "用s表示一个字符, 其中语法为:\n",
    "\n",
    "| 选项内容 | 说明                                                  |\n",
    "| :------- | :---------------------------------------------------- |\n",
    "| :        | optsring如果以:开头, 表示是静默模式, 忽略一般错误消息 |\n",
    "| s        | 有效选项并且后面不带参数值                            |\n",
    "| s:       | 有效选项并且后面必须带参数值                          |"
   ]
  },
  {
   "cell_type": "code",
   "execution_count": null,
   "id": "2711bb54-90d5-42d9-abdf-bab5a242037c",
   "metadata": {},
   "outputs": [],
   "source": [
    "%%bash\n",
    "function m0() {\n",
    "    echo \"初始选项位置 $OPTIND\"\n",
    "    while getopts \":ab:x::\" arg; do\n",
    "        echo \"选项位置 $OPTIND\"\n",
    "        case \"$arg\" in\n",
    "            \"a\")\n",
    "                echo \"选项 $arg 是个标识\"\n",
    "                ;;\n",
    "            \"b\")\n",
    "                echo \"选项 $arg 值: $OPTARG\"\n",
    "                ;;\n",
    "            \"?\")\n",
    "                echo \"未知选项 $OPTARG\"\n",
    "                ;;\n",
    "            \":\")\n",
    "                echo \"No argument value for option $OPTARG\"\n",
    "                ;;\n",
    "            *)                 #出现上述枚举项之外的项, 会进入该分支\n",
    "                echo \"Unknown error while processing options\"\n",
    "                ;;\n",
    "        esac\n",
    "    done\n",
    "}\n",
    "m0 -a -b bar"
   ]
  },
  {
   "cell_type": "markdown",
   "id": "aab3a129",
   "metadata": {},
   "source": [
    "## paste"
   ]
  },
  {
   "cell_type": "code",
   "execution_count": null,
   "id": "a6d6074c",
   "metadata": {},
   "outputs": [],
   "source": [
    "%%bash\n",
    "ls -1 | paste -sd ',' -"
   ]
  },
  {
   "cell_type": "markdown",
   "id": "eb3dcee2-71db-4ced-af75-8597ee09cdf1",
   "metadata": {},
   "source": [
    "## getopt"
   ]
  },
  {
   "cell_type": "markdown",
   "id": "e161a3be-9e0d-43cf-a94b-5242fbc4bc5b",
   "metadata": {},
   "source": [
    "`getopt [options] optstring parameters`\n",
    "\n",
    "* options: getopt自带的参数定义, 用来表示长选项还是短选项\n",
    "\n",
    "`-o`或`–options`选项后面是可接受的短选项\n",
    "\n",
    "`-l`或`–long`选项后面是可接受的长选项\n",
    "\n",
    "* optstring: 自定义选项参数, 例如 -a -b\n",
    "\n",
    "选项后面可以跟 一个冒号(:)、两个冒号、没冒号\n",
    "\n",
    "* parameters: 参数, 即参数值, 允许为空\n",
    "\n",
    "\n",
    "选项后一个冒号(:)、两个冒号、没冒号的区别\n",
    "\n",
    "* 无冒号: 执行时, 只有选项, 不带参数.\n",
    "* 一个冒号(:): 执行时必须带有参数(必选).\n",
    "* 两个冒号(::): 执行时可以选择性带参数, 也可以不带(可选).\n",
    "\n",
    "\n",
    "getopt支持短选项和长选项:\n",
    "\n",
    "* 短选项格式为 -a -b, 即长度为1的字母\n",
    "* 长选项格式为 -name, 即多个字母\n",
    "* 如果参数是必选, 那么短选项的参数值可以是空格, 也可以紧贴选项, `-c arg`或`-carg`;  长选项的参数可以是空格, 也可以=连接, `–clong arg` 或`clong=arg`\n",
    "* 如果参数是可选, 那么短选项的参数值只可以紧贴选项, `-carg`; 长选项的参数值只可以=连接, `-clong=arg`"
   ]
  },
  {
   "cell_type": "code",
   "execution_count": null,
   "id": "11b58e8e-7173-44a4-900c-a1a05ef88103",
   "metadata": {},
   "outputs": [],
   "source": [
    "%%bash\n",
    "function m1() {\n",
    "    echo \"原始参数: [$@]\"\n",
    "\n",
    "    #-o或--options选项后面是可接受的短选项, 如ab:c::, 表示可接受的短选项为-a -b -c,\n",
    "    #其中-a选项不接参数, -b选项后必须接参数, -c选项的参数为可选的\n",
    "    #-l或--long选项后面是可接受的长选项, 用逗号分开, 冒号的意义同短选项.\n",
    "    #-n选项后接选项解析错误时提示的脚本名字\n",
    "    ARGS=`getopt -o \"hab:c::\" --long \"help,along,blong:,clong::\" -n \"$0\" -- \"$@\"`\n",
    "    if [ $? != 0 ]; then\n",
    "        echo \"Terminating...\"\n",
    "        exit 1\n",
    "    fi\n",
    "\n",
    "    #将规范化后的命令行参数分配至位置参数($1,$2,...)\n",
    "    eval set -- \"${ARGS}\"\n",
    "    echo \"[$ARGS] 格式化-> [$@]\"\n",
    "\n",
    "    while true; do\n",
    "    echo \"------选项: $1, 值: $2------\"\n",
    "        case \"$1\" in\n",
    "            -a|--along)\n",
    "                echo \"选项 a, 无值\";\n",
    "                shift\n",
    "                ;;\n",
    "            -b|--blong)\n",
    "                echo \"选项 b, 值: $2\";\n",
    "                shift 2\n",
    "                ;;\n",
    "            -c|--clong)\n",
    "                echo \"第二个 $2\"\n",
    "                case \"$2\" in\n",
    "                    \"\")\n",
    "                        echo \"选项 c, 无值\";\n",
    "                        shift 2\n",
    "                        ;;\n",
    "                    *)\n",
    "                        echo \"选项 c, 值: $2\";\n",
    "                        shift 2;\n",
    "                        ;;\n",
    "                esac\n",
    "                ;;\n",
    "            -h|--help)\n",
    "                echo \"帮助信息\"\n",
    "                exit 0\n",
    "                ;;\n",
    "            --)\n",
    "                shift\n",
    "                break\n",
    "                ;;\n",
    "            *)\n",
    "                echo \"Internal error!\"\n",
    "                exit 1\n",
    "                ;;\n",
    "        esac\n",
    "    done\n",
    "}\n",
    "# m1 --help\n",
    "# m1 -h\n",
    "m1 -a foo -b bar -cfoobar\n",
    "echo -e \"\\n\"\n",
    "m1 -a foo -b bar --clong=foobar"
   ]
  },
  {
   "cell_type": "markdown",
   "id": "224648b4-ea7c-4ecb-9be5-c1a32876c97a",
   "metadata": {},
   "source": [
    "## awk"
   ]
  },
  {
   "cell_type": "code",
   "execution_count": null,
   "id": "32daf0b7-674a-4e84-a6c6-d288ed19ea4f",
   "metadata": {},
   "outputs": [],
   "source": [
    "%%bash\n",
    "echo \"a,b,c,d\" | awk '{gsub(\",\", \" \"); print}'"
   ]
  },
  {
   "cell_type": "markdown",
   "id": "846cee81-bf83-4fec-a6be-df9aafde9a49",
   "metadata": {},
   "source": [
    "# 扩展"
   ]
  },
  {
   "cell_type": "markdown",
   "id": "7e5eabe3-f184-46d5-9404-f09d50f6bb5e",
   "metadata": {},
   "source": [
    "## jq"
   ]
  },
  {
   "cell_type": "code",
   "execution_count": null,
   "id": "380b1637-15e3-4a5d-87f9-02fd843ff8c2",
   "metadata": {},
   "outputs": [],
   "source": [
    "%%bash\n",
    "# apt-get -y update && apt-get -y install jq\n",
    "# curl https://api.github.com/repos/jqlang/jq/releases/latest | jq '.assets[] | if .name == \"jq-linux-amd64\" then .browser_download_url else \"\" end'\n",
    "\n",
    "# cat > /tmp/1.json <<- EOF\n",
    "# {\n",
    "#    \"manifests\": [\n",
    "#       {\n",
    "#          \"digest\": \"sha256:9dfca77839884865eefc3d2ebce38ea598f59e8cbb843e345bbd7b135fb54759\",\n",
    "#          \"platform\": {\n",
    "#             \"architecture\": \"amd64\",\n",
    "#             \"os\": \"linux\"\n",
    "#          }\n",
    "#       },\n",
    "#       {\n",
    "#          \"digest\": \"sha256:484b6dd7aea82ca0597cfe83e0e5309657c6612a6fb35957762eb62f2ab0818c\",\n",
    "#          \"platform\": {\n",
    "#             \"architecture\": \"arm64\",\n",
    "#             \"os\": \"linux\"\n",
    "#          }\n",
    "#       },\n",
    "#       {\n",
    "#          \"digest\": \"sha256:8eea69d1a6e473e9876b0f73dcf9141dcf4a3f1d8b0c11815c813b827e820839\",\n",
    "#          \"platform\": {\n",
    "#             \"architecture\": \"unknown\",\n",
    "#             \"os\": \"unknown\"\n",
    "#          }\n",
    "#       }\n",
    "#    ]\n",
    "# }\n",
    "# EOF"
   ]
  },
  {
   "cell_type": "code",
   "execution_count": null,
   "id": "46aa0422",
   "metadata": {},
   "outputs": [],
   "source": [
    "%%bash\n",
    "#dockerhub 用户镜像\n",
    "user=\"luvx\" name=\"\"\n",
    "curl -s \"https://hub.docker.com/v2/repositories/${user}?page_size=100&ordering=name&name=${name}\" | jq -r '.results[]' | jq -r '.namespace+\"/\"+.name'"
   ]
  },
  {
   "cell_type": "code",
   "execution_count": null,
   "id": "44b027a1",
   "metadata": {},
   "outputs": [],
   "source": [
    "%%bash\n",
    "# dockerhub 镜像tag\n",
    "namespace=\"luvx\"\n",
    "image=\"alpine\"\n",
    "tag=\"\"\n",
    "curl -s \"https://hub.docker.com/v2/repositories/${namespace:-library}/${image}/tags?page=1&page_size=100&ordering=last_updated&name=${tag}\" \\\n",
    "  | jq -r '.results[] | .name as $tag | .images[] | select(.os != \"unknown\" or .architecture != \"unknown\") | \"\\($tag) \\(.os)/\\(.architecture) \\((.last_pushed[:10])) \\((.size/1024/1024)|floor)MB\"' # | sort -u | xargs -I F echo \"$namespace/$image:\"F\n"
   ]
  },
  {
   "cell_type": "code",
   "execution_count": null,
   "id": "b9237f6b-5e01-464d-9057-eca5346f17a0",
   "metadata": {},
   "outputs": [],
   "source": [
    "%%bash\n",
    "# cat /tmp/1.json | jq '.manifests[] | if .platform.os == \"linux\" and (.platform.architecture == \"amd64\" or .platform.architecture == \"arm64\") then .digest else \"\" end'\n",
    "cat /tmp/1.json | jq '.manifests[] | select(.platform.os == \"linux\") | select(.platform.architecture == \"amd64\" or .platform.architecture == \"arm64\") | .digest'"
   ]
  }
 ],
 "metadata": {
  "kernelspec": {
   "display_name": "Python 3 (ipykernel)",
   "language": "python",
   "name": "python3"
  },
  "language_info": {
   "codemirror_mode": {
    "name": "ipython",
    "version": 3
   },
   "file_extension": ".py",
   "mimetype": "text/x-python",
   "name": "python",
   "nbconvert_exporter": "python",
   "pygments_lexer": "ipython3",
   "version": "3.13.1"
  }
 },
 "nbformat": 4,
 "nbformat_minor": 5
}
