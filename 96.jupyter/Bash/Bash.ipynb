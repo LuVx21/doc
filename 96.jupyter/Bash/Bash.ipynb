{
 "cells": [
  {
   "cell_type": "markdown",
   "id": "97c33c73",
   "metadata": {},
   "source": [
    "## Tips"
   ]
  },
  {
   "cell_type": "code",
   "execution_count": null,
   "id": "d6e149dd",
   "metadata": {},
   "outputs": [],
   "source": [
    "%%bash\n",
    "# 指定shell执行多行命令\n",
    "bash <<EOF\n",
    "echo \"Updating system...\"\n",
    "echo \"Setup complete.\"\n",
    "EOF\n",
    "\n",
    "\n",
    "bash -c \" \\\n",
    "    echo 'Starting installation...' && \\\n",
    "    echo 'Installation complete.' \\\n",
    "\""
   ]
  },
  {
   "cell_type": "markdown",
   "id": "2e0d2ac4-665d-479e-8159-26d9732f1064",
   "metadata": {},
   "source": [
    "## 变量"
   ]
  },
  {
   "cell_type": "code",
   "execution_count": null,
   "id": "70f70be0-b677-4d95-8c1e-c160841fb9c6",
   "metadata": {},
   "outputs": [],
   "source": [
    "%%bash\n",
    "# echo $RANDOM\n",
    "uuidgen"
   ]
  },
  {
   "cell_type": "code",
   "execution_count": null,
   "id": "9dd9f786-782c-4373-a7d1-ae80bc92d9f5",
   "metadata": {},
   "outputs": [],
   "source": [
    "%%bash\n",
    "variable=test\n",
    "name=aaa\n",
    "retained=bbb\n",
    "\n",
    "read -d '' stringvar0 <<-_EOF_\n",
    "\n",
    "a\n",
    "all the leading dollars in the $variable $name are $retained\n",
    "b\n",
    "\n",
    "_EOF_\n",
    "\n",
    "read -d '' stringvar <<-\"_EOF_\"\n",
    "\n",
    "\n",
    "all the leading dollars in the $variable $name are $retained\n",
    "\n",
    "_EOF_\n",
    "\n",
    "read -d '' help <<- \"_EOF_\"\n",
    "  usage: xxxxx\n",
    "\n",
    "  Report bugs to:\n",
    "  Home page:\n",
    "_EOF_\n",
    "\n",
    "echo $stringvar0\n",
    "echo $stringvar\n",
    "echo $help"
   ]
  },
  {
   "cell_type": "markdown",
   "id": "5b9864a3-38cc-42a3-b496-8cc2ccc797cd",
   "metadata": {},
   "source": [
    "## 文件"
   ]
  },
  {
   "cell_type": "code",
   "execution_count": null,
   "id": "82759226-df60-48f2-aea9-0d7b708fcee0",
   "metadata": {},
   "outputs": [],
   "source": [
    "%%bash\n",
    "folder=\"test\"\n",
    "#如果文件夹不存在, 创建文件夹\n",
    "if [ ! -d \"$folder\" ]; then\n",
    "  mkdir $folder\n",
    "fi\n",
    "\n",
    "# -x 参数判断 $folder 是否存在并且是否具有可执行权限\n",
    "if [ ! -x \"$folder\"]; then\n",
    "  mkdir \"$folder\"\n",
    "fi"
   ]
  },
  {
   "cell_type": "code",
   "execution_count": null,
   "id": "d3be9c23-551a-4d93-bd77-103217b95ed0",
   "metadata": {},
   "outputs": [],
   "source": [
    "%%bash\n",
    "file=\"1.txt\"\n",
    "if [ ! -f \"$file\" ]; then\n",
    "  touch \"$file\"\n",
    "else\n",
    "  echo \"存在\"\n",
    "fi"
   ]
  },
  {
   "cell_type": "markdown",
   "id": "04b27a13-02af-4efe-977d-33b3a49eea01",
   "metadata": {},
   "source": [
    "## 函数-参数"
   ]
  },
  {
   "cell_type": "code",
   "execution_count": null,
   "id": "786b5e7d-a71a-437c-89a4-15769673bcd3",
   "metadata": {},
   "outputs": [],
   "source": [
    "%%bash\n",
    "function print() {\n",
    "    r='|'\n",
    "    for var in $@\n",
    "    do\n",
    "        r+=$var\n",
    "        r+='|'\n",
    "    done\n",
    "    echo \"所有参数: $r, 参数个数: $#, 第一个参数: $1 最后一个参数: ${!#}\"\n",
    "\n",
    "    input_arr=($@) # 或 input_arr=(`echo \"$@\"`)\n",
    "    slice=( \"${input_arr[@]:1}\" )\n",
    "    echo \"参数切片: ${slice[@]}\"\n",
    "    echo '-------------------------'\n",
    "}\n",
    "\n",
    "print a xx\n",
    "print a b c d ee\n",
    "print aaaa b c d ee"
   ]
  },
  {
   "cell_type": "code",
   "execution_count": null,
   "id": "089a9d52-d286-4e02-9fc5-d0cd5827ccdc",
   "metadata": {},
   "outputs": [],
   "source": [
    "%%bash\n",
    "function m2() {\n",
    "    read -p \"请输入参数:\"  name\n",
    "    echo \"输入的参数: ${name}\"\n",
    "}\n",
    "m2"
   ]
  },
  {
   "cell_type": "markdown",
   "id": "77d864b6-0ecc-49fa-b2f3-a337772cfc5f",
   "metadata": {},
   "source": [
    "## 条件"
   ]
  },
  {
   "cell_type": "code",
   "execution_count": null,
   "id": "151eef43-f50d-4122-b889-21c9a964f882",
   "metadata": {},
   "outputs": [],
   "source": [
    "%%bash\n",
    "arglen=0\n",
    "if [ $arglen -eq 0 ];\n",
    "then\n",
    "    echo 'haha'\n",
    "else\n",
    "    echo 'else'\n",
    "fi\n",
    "\n",
    "a=\"aa\"\n",
    "if [ -z $a ]; then\n",
    "    echo 空\n",
    "fi\n",
    "if [ -n $a ]; then\n",
    "    echo 非空\n",
    "fi\n",
    "\n",
    "# 前一命令的执行结果码\n",
    "if [ $? -ne 0 ]; then\n",
    "  exit 1\n",
    "fi"
   ]
  },
  {
   "cell_type": "code",
   "execution_count": null,
   "id": "5fd3c2d1-6af2-47cd-8900-b87bdb460c7c",
   "metadata": {},
   "outputs": [],
   "source": [
    "%%bash\n",
    "a=5\n",
    "b=10\n",
    "\n",
    "# 使用 [ ] 进行数字比较\n",
    "if [ \"$a\" -lt \"$b\" ]; then\n",
    "  echo \"$a 小于 $b\"\n",
    "fi\n",
    "\n",
    "# 使用 [[ ]] 进行字符串比较\n",
    "if [[ \"$a\" < \"$b\" ]]; then\n",
    "  echo \"$a 小于 $b\"\n",
    "fi\n",
    "\n",
    "# 使用 [[ ]] 进行正则表达式匹配\n",
    "string=\"hello123\"\n",
    "if [[ \"$string\" =~ ^hello[0-9]+$ ]]; then\n",
    "  echo \"The string starts with 'hello' followed by numbers\"\n",
    "fi\n",
    "\n",
    "# 使用 [ ] 进行文件测试\n",
    "file=\"./1.log\"\n",
    "if [ -f \"$file\" ]; then\n",
    "  echo \"文件存在\"\n",
    "fi"
   ]
  },
  {
   "cell_type": "code",
   "execution_count": null,
   "id": "7067915b-2dd0-4dc6-a272-2b6a608bc8c9",
   "metadata": {},
   "outputs": [],
   "source": [
    "%%bash\n",
    "# 类似三元运算\n",
    "a=251\n",
    "[[ $a == 25 ]] && res=\"yes\" || res=\"no\"\n",
    "echo \"Elgibility: $res\" ;"
   ]
  },
  {
   "cell_type": "markdown",
   "id": "abaaacb5-de5a-4912-b0b2-f46ec7c90115",
   "metadata": {},
   "source": [
    "### case"
   ]
  },
  {
   "cell_type": "code",
   "execution_count": null,
   "id": "dc41321a-b57e-410a-91c6-a1c178c0e05e",
   "metadata": {},
   "outputs": [],
   "source": [
    "%%bash\n",
    "dpkgArch=\"$(dpkg --print-architecture)\"; \\\n",
    "case \"${dpkgArch##*-}\" in \\\n",
    "    amd64) ARCH='x64' ;; \\\n",
    "    arm64) ARCH='aarch64' ;; \\\n",
    "    *) echo >&2 \"不支持的架构: ${dpkgArch}\"; exit 1 ;; \\\n",
    "esac;\n",
    "\n",
    "echo $dpkgArch $ARCH"
   ]
  },
  {
   "cell_type": "code",
   "execution_count": null,
   "id": "b2aff81f-658f-4146-96d6-4b408320d176",
   "metadata": {},
   "outputs": [],
   "source": [
    "%%bash\n",
    "case \":${PATH}:\" in\n",
    "    *:\"$HOME/.cargo/bin\":*)\n",
    "        echo okok\n",
    "        ;;\n",
    "    *)\n",
    "        echo haha\n",
    "        ;;\n",
    "esac"
   ]
  },
  {
   "cell_type": "markdown",
   "id": "d3af02aa-019d-426a-876c-92877adc1abb",
   "metadata": {},
   "source": [
    "## 循环"
   ]
  },
  {
   "cell_type": "code",
   "execution_count": null,
   "id": "40bdb328-4c6a-400b-8188-2859c197c79f",
   "metadata": {
    "editable": true,
    "slideshow": {
     "slide_type": ""
    },
    "tags": []
   },
   "outputs": [],
   "source": [
    "%%bash\n",
    "for ((i = 1; i <= 10; i++)); do\n",
    "# for i in $(seq 1 10); do\n",
    "# for i in {1..10}; do\n",
    "  echo $(expr $i \\* 3 + 1)\n",
    "done"
   ]
  },
  {
   "cell_type": "code",
   "execution_count": null,
   "id": "aa3e1e4a-c44f-49a7-be59-8577102cd61d",
   "metadata": {},
   "outputs": [],
   "source": [
    "%%bash\n",
    "#for i in $(ls); do\n",
    "#for i in $*; do\n",
    "#for i in f1 f2 f3; do\n",
    "list=\"a b c d\"\n",
    "for i in $list; do\n",
    "  echo $i 参数\\!\n",
    "done"
   ]
  },
  {
   "cell_type": "code",
   "execution_count": null,
   "id": "f7588d64-b10a-4e44-a4e9-aade82d8c9f3",
   "metadata": {},
   "outputs": [],
   "source": [
    "%%bash\n",
    "#for file in $(ls *.sh); do\n",
    "for file in ~/*; do\n",
    "  echo $file 文件路径\\!\n",
    "done"
   ]
  },
  {
   "cell_type": "markdown",
   "id": "934bcaf0-752a-444f-9fee-a2a69f63d03e",
   "metadata": {},
   "source": [
    "## 字符串"
   ]
  },
  {
   "cell_type": "code",
   "execution_count": null,
   "id": "6ff837ab-e19f-4567-9798-6e7dea258b7c",
   "metadata": {},
   "outputs": [],
   "source": [
    "%%bash\n",
    "s='abcdeFg'\n",
    "path='/home/user/foo/bar/home/foo/bar'\n",
    "\n",
    "# 大小写转换\n",
    "echo \"大写: ${s^^} 小写: ${s,,}\"\n",
    "\n",
    "echo --------------切片--------------\n",
    "echo \"${s:2} ${s:2:2}\"\n",
    "echo \"${s:0-3:10} | ${s:0-2} | ${s: -2}\" # -2前有空格\n",
    "\n",
    "echo --------------查找截取--------------\n",
    "# 从左向右查找截取,保留右边字符,第一次出现:#*substr 最后一次出现:##*substr\n",
    "echo \"从左向右 ${path#*/} 最后一个匹配: ${path##*/}\"\n",
    "# 从右向左查找截取,保留左边字符,第一次出现:%substr* 最后一次出现:%%substr*\n",
    "echo \"从右向左 ${path%/*} 最后一个匹配: ${path%%/*}\"\n",
    "\n",
    "echo --------------变量赋值--------------\n",
    "echo \"非空则 ${ss:+foo}\"\n",
    "# echo \"空异常 ${ss:?ERROR_INFO}\"\n",
    "echo \"不赋值 ${ss:-foo} | ${ss}\"\n",
    "echo \"并赋值 ${ss:=foo} | ${ss}\"\n",
    "\n",
    "echo --------------查找替换--------------\n",
    "echo \"单个替换 ${path/foo/xxx} 无替换内容相当于删除 ${path/foo}\"\n",
    "echo \"全部替换 ${path//foo/xxx} ${path//foo}\"\n",
    "echo \"行首替换 ${path/#\\/home/\\/xxx}\"\n",
    "echo \"行尾替换 ${path/%bar/xxx}\"\n",
    "\n",
    "echo --------------查找删除--------------\n",
    "\n",
    "echo \"空则不添加,非空添加(赋值实现): ${s}${s:+h}\"\n",
    "echo \"空则不添加,非空添加(替换实现): ${s/%/h}\""
   ]
  },
  {
   "cell_type": "code",
   "execution_count": null,
   "id": "f70ba531-e1a3-4a46-b592-4cd1cc40972a",
   "metadata": {},
   "outputs": [],
   "source": [
    "%%bash\n",
    "# 去除#注释和空白行\n",
    "grep -v '^\\s*#' 1.log | grep -v '^$'\n",
    "grep -Ev '^#|^$' 1.log\n",
    "\n",
    "echo ------------------------------------\n",
    "\n",
    "# 分割\n",
    "version=44.77.11\n",
    "array=( `echo $version | tr '.' ' '` )\n",
    "# array=( ${version//\\./ } )\n",
    "echo \"${array[@]:1}\"\n",
    "\n",
    "IFS=',' read -ra parts <<< \"$version\"\n",
    "echo ${parts[@]}"
   ]
  },
  {
   "cell_type": "code",
   "execution_count": null,
   "id": "5693b130-5f27-4698-8ee5-e01148967208",
   "metadata": {},
   "outputs": [],
   "source": [
    "%%bash\n",
    "string=\"foo/bar:v1,bar/foo:v2,apline,ghic.io/aa/bb:v3,luvx/jupyter,ghcr.io/luvx/jupyter:v4\"\n",
    "array=(${string//,/ })\n",
    "# 或\n",
    "# array=(`echo $string | tr ',' ' '` )\n",
    "platform=linux/amd64\n",
    "\n",
    "# registry/space/name:tag\n",
    "for image in ${array[@]}; do\n",
    "    image_name_tag=$(echo \"$image\" | awk -F'/' '{print $NF}')\n",
    "    registry=$(echo \"$image\" | awk -F'/' '{if (NF==3) print $1; else print \"\"}')\n",
    "    namespace=$(echo \"$image\" | awk -F'/' '{if (NF==3) print $2; else if (NF==2) print $1; else print \"\"}')\n",
    "    image_name=$(echo \"$image_name_tag\" | awk -F':' '{print $1}')\n",
    "    image_tag=$(echo \"$image_name_tag\" | awk -F':' '{if (NF==2) print $2; else print \"latest\"}')\n",
    "\n",
    "    new_image_name=$image_name\n",
    "    if [[ ! -z $registry || ! $namespace == luvx ]]; then\n",
    "        rsn=$(echo \"$image\" | awk -F':' '{print $1}')\n",
    "        new_image_name=`echo $rsn | sed 's/\\//_/g'`\n",
    "    fi\n",
    "\n",
    "    echo \"解构后信息-> 服务: $registry 空间:$namespace 镜像:$image_name 标签:$image_tag 新名称:$new_image_name\"\n",
    "\n",
    "    echo --------------------------------------------------------------------\n",
    "done"
   ]
  },
  {
   "cell_type": "code",
   "execution_count": null,
   "id": "737ec257-36e1-4bd6-9022-6cc5c419dd6d",
   "metadata": {},
   "outputs": [],
   "source": [
    "%%bash\n",
    "line='--platform=linux/arm64 xiaoyaliu/alist:v1'\n",
    "platform=$(echo \"$line\" | awk -F'--platform[ =]' '{if (NF>1) print $2}' | awk '{print $1}')\n",
    "echo $platform\n",
    "\n",
    "platform_prefix=\"_${platform//\\//_}\"\n",
    "echo $platform_prefix\n",
    "\n",
    "# if [[ $platform_prefix =~ 'arm' ]] # 包含关系\n",
    "if [[ $platform_prefix == *arm* ]] # 包含关系\n",
    "# if [[ $platform_prefix =~ ^linux/.* ]] # 开头匹配\n",
    "# if [[ $platform_prefix == linux/* ]] # 开头匹配\n",
    "then\n",
    "    echo \"包含\"\n",
    "else\n",
    "    echo \"不包含\"\n",
    "fi"
   ]
  },
  {
   "cell_type": "code",
   "execution_count": null,
   "id": "970a9ff7-c110-45e1-9157-1b85f0bdf353",
   "metadata": {},
   "outputs": [],
   "source": [
    "%%bash\n",
    "TXYUN=ccr.ccs.tencentyun.com,namespace,username,xxxx\n",
    "array=(${TXYUN//,/ })\n",
    "\n",
    "echo ${#array[*]}\n",
    "echo ${array[0]} ${array[1]} ${array[2]} ${array[3]}\n",
    "\n",
    "# for image in ${array[@]}\n",
    "# do\n",
    "#     echo $image\n",
    "# done\n",
    "\n",
    "echo -------------\n",
    "a=\"registry.cn-shanghai.aliyuncs.com ccr.ccs.tencentyun.com\"\n",
    "for registry in $a; do\n",
    "    echo $registry\n",
    "done"
   ]
  },
  {
   "cell_type": "markdown",
   "id": "2769de3e",
   "metadata": {},
   "source": [
    "### 字符串截取"
   ]
  },
  {
   "cell_type": "code",
   "execution_count": null,
   "id": "9fd892bd",
   "metadata": {},
   "outputs": [],
   "source": [
    "%%bash\n",
    "# expr cut awk dd等命令\n",
    "s='abcdeFg'\n",
    "\n",
    "expr $s : '.\\(...\\)'\n",
    "expr $s : '.\\(.\\{3\\}\\)'\n",
    "expr substr $s 2 3\n",
    "echo $s | awk '{print substr($0,2,3)}'\n",
    "echo $s | dd bs=1 skip=1 count=3 2>/dev/null"
   ]
  },
  {
   "cell_type": "markdown",
   "id": "1f2f09ff-58e8-4177-80f1-ce8271fc19ec",
   "metadata": {},
   "source": [
    "## 数组"
   ]
  },
  {
   "cell_type": "code",
   "execution_count": null,
   "id": "4ef99393-4de5-4666-8150-9069c14d46da",
   "metadata": {},
   "outputs": [],
   "source": [
    "%%bash\n",
    "# 方式1\n",
    "array=(a a b c d)\n",
    "# 方式2\n",
    "# array=([0]=a [1]=b [2]=c [3]=d)\n",
    "# 方式3\n",
    "# list=\"a b c d\"\n",
    "# array=($list)\n",
    "# 方式4\n",
    "# array[0]=a array[1]=b array[2]=c array[3]=d\n",
    "# 方式5\n",
    "# string=\"a/b/c\"\n",
    "# array=( ${string//\\// } )\n",
    "\n",
    "for var in ${array[@]}\n",
    "do\n",
    "   echo $var\n",
    "done\n",
    "echo -------------\n",
    "\n",
    "echo \"第一个元素为: ${array[0]} 最后一个元素: ${array[-1]}\"\n",
    "echo \"所有key: ${!array[@]} 或 ${!array[*]}\"\n",
    "echo \"所有value: ${array[@]} 或 ${array[*]}\"\n",
    "echo \"长度: ${#array[@]} 或 ${#array[*]}\"\n",
    "echo -------------\n",
    "\n",
    "slice=( \"${array[@]:1}\" )\n",
    "echo \"切片: ${slice[@]}\"\n",
    "echo -------------\n",
    "echo \"替换元素: ${array[@]/b/bb}\"\n",
    "echo -------------\n",
    "array+=('e' 'f')\n",
    "echo \"添加元素: ${array[@]}\"\n",
    "array[${#array[@]}]=g\n",
    "echo \"添加元素: ${array[@]}\"\n",
    "echo -------------\n",
    "unset array[2]\n",
    "echo \"删除元素: ${array[@]}\"\n",
    "echo -------------\n",
    "\n",
    "unique_array=($(echo \"${array[@]}\" | tr ' ' '\\n' | sort | uniq | tr '\\n' ' '))\n",
    "echo \"去重: ${array[@]} -> ${unique_array[@]}\"\n",
    "echo -------------"
   ]
  },
  {
   "cell_type": "code",
   "execution_count": null,
   "id": "77640e16-3e67-4405-af03-fecf2f7a80e0",
   "metadata": {},
   "outputs": [],
   "source": [
    "%%bash\n",
    "# 向函数传数组参数\n",
    "function test() {\n",
    "    echo \"接收到的参数列表: $@\"\n",
    "    local newarray=($(echo $@))\n",
    "    echo \"新数组的值: ${newarray[@]}\"\n",
    "}\n",
    "# 函数返回数组\n",
    "function testReturn1() {\n",
    "    local newarr=($@)\n",
    "    sum=0\n",
    "    for i in ${newarr[@]}; do\n",
    "        sum=$[$sum+$i]\n",
    "    done\n",
    "    echo $sum\n",
    "}\n",
    "function testReturn2() {\n",
    "    local newarray=($@)\n",
    "    for ((i=0; i<=$[$# -1]; i++)); do\n",
    "        newarray[$i]=$[${newarray[$i]}*2]\n",
    "    done\n",
    "    echo ${newarray[@]}\n",
    "}\n",
    "\n",
    "array=(3 2 1 4 5)\n",
    "test ${array[@]}\n",
    "echo -------------\n",
    "result=`testReturn1 ${array[@]}`\n",
    "echo \"新数组的和: $result\"\n",
    "echo -------------\n",
    "newarray=`testReturn2 ${array[@]}`\n",
    "echo \"元素翻倍: ${newarray[@]}\""
   ]
  },
  {
   "cell_type": "markdown",
   "id": "d445521d-2645-460e-99b4-a598a5a7d720",
   "metadata": {},
   "source": [
    "## map"
   ]
  },
  {
   "cell_type": "code",
   "execution_count": null,
   "id": "1c426305-08d3-44d3-8d8b-b495a20e7dc4",
   "metadata": {},
   "outputs": [],
   "source": [
    "%%bash\n",
    "declare -A m=([\"a\"]=\"01\" [\"b\"]=\"02\")\n",
    "m[\"c\"]=\"true\"\n",
    "echo ${m[\"c\"]}\n",
    "m[\"c\"]=\"03\"\n",
    "echo ${m[\"c\"]}\n",
    "\n",
    "echo \"所有key: ${!m[@]} 或 ${!m[*]}\"\n",
    "echo \"所有value: ${m[@]} 或 ${m[*]}\"\n",
    "echo \"长度: ${#m[@]} 或 ${#m[*]}\"\n",
    "\n",
    "for key in ${!m[*]};do\n",
    "  echo \"$key=${m[$key]} \"\n",
    "done\n",
    "\n",
    "echo -------------\n",
    "slice=${m[*]:b:2}\n",
    "echo ${slice[@]}"
   ]
  },
  {
   "cell_type": "code",
   "execution_count": null,
   "id": "a4ee7527-2f7c-4ea3-a603-d1a61d23b869",
   "metadata": {},
   "outputs": [],
   "source": [
    "%%bash\n",
    "s='debian,debian:11,debian:12,luvx/vscode:latest,ghcr.io/luvx/vscode:latest'\n",
    "declare -A map\n",
    "for image in ${s//,/ }; do\n",
    "    key=$(echo $image | awk -F':' '{print $1}')\n",
    "    value=$(echo $image | awk -F':' '{if (NF==2) print $2; else print \"latest\"}')\n",
    "    if [[ -n \"${map[$key]}\" ]]; then\n",
    "        map[\"$key\"]=\"${map[$key]},$value\"\n",
    "    else\n",
    "        map[\"$key\"]=\"$value\"\n",
    "    fi\n",
    "done\n",
    "\n",
    "echo ------------------------------\n",
    "\n",
    "for image in \"${!map[@]}\"; do\n",
    "    for tag in ${map[$image]//,/ }; do\n",
    "        echo \"$image:$tag\"\n",
    "    done\n",
    "done"
   ]
  },
  {
   "cell_type": "markdown",
   "id": "fbb6d17e-4c3e-448d-a96c-d6cbef5c579f",
   "metadata": {},
   "source": [
    "## 函数"
   ]
  },
  {
   "cell_type": "code",
   "execution_count": null,
   "id": "1d704d6a-e212-488d-b93a-c4df245d29d7",
   "metadata": {},
   "outputs": [],
   "source": [
    "%%bash\n",
    "function test02() {\n",
    "    all_num=10\n",
    "\n",
    "    a=$(date +%F' '%T)\n",
    "\n",
    "    for num in `seq 1 ${all_num}`\n",
    "    do\n",
    "        sleep 1\n",
    "        echo ${num}\n",
    "    done\n",
    "\n",
    "    b=$(date +%F' '%T)\n",
    "\n",
    "    echo -e \"startTime:\\t$a\"\n",
    "    echo -e \"endTime:\\t$b\"\n",
    "}"
   ]
  },
  {
   "cell_type": "markdown",
   "id": "7dda7943-0f0e-4d58-8bd0-6c998a995bf0",
   "metadata": {},
   "source": [
    "## 文件"
   ]
  },
  {
   "cell_type": "code",
   "execution_count": null,
   "id": "b564475d-7e87-430c-97bc-6ae1f8fb2d37",
   "metadata": {},
   "outputs": [],
   "source": [
    "%%bash\n",
    "echo aa > 1.log\n",
    "echo bb >> 1.log\n",
    "while IFS= read -r line || [ -n \"$line\" ]; do\n",
    "    # 忽略空行与注释\n",
    "    [[ -z \"$line\" ]] && continue\n",
    "    if echo \"$line\" | grep -q '^\\s*#'; then\n",
    "        continue\n",
    "    fi\n",
    "    echo $line\n",
    "done < 1.log"
   ]
  },
  {
   "cell_type": "markdown",
   "id": "87a94271-e06d-4826-9779-086f9a1a5569",
   "metadata": {},
   "source": [
    "## awk"
   ]
  },
  {
   "cell_type": "code",
   "execution_count": null,
   "id": "528f4a9a-eb49-411b-a8a5-352ab3fde68b",
   "metadata": {},
   "outputs": [],
   "source": [
    "%%bash\n",
    "awk 'BEGIN{for(i=1; i<=10; i++) print i}'"
   ]
  },
  {
   "cell_type": "code",
   "execution_count": null,
   "id": "136b24b5-7678-4e10-8125-e8c939b1aa0a",
   "metadata": {},
   "outputs": [],
   "source": [
    "%%bash\n",
    "images='foo/bar:v1,bar/foo:v2'\n",
    "echo $images | awk -F',' '{print $FS}'"
   ]
  }
 ],
 "metadata": {
  "kernelspec": {
   "display_name": "Python 3 (ipykernel)",
   "language": "python",
   "name": "python3"
  },
  "language_info": {
   "codemirror_mode": {
    "name": "ipython",
    "version": 3
   },
   "file_extension": ".py",
   "mimetype": "text/x-python",
   "name": "python",
   "nbconvert_exporter": "python",
   "pygments_lexer": "ipython3",
   "version": "3.13.1"
  }
 },
 "nbformat": 4,
 "nbformat_minor": 5
}
