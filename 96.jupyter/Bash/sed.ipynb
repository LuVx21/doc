{
 "cells": [
  {
   "cell_type": "markdown",
   "id": "a2356f28-7a87-4cc7-98a7-c767b4673300",
   "metadata": {},
   "source": [
    "## sed\n",
    "\n",
    "|参数|说明|\n",
    "|:---|:---|\n",
    "|-i|直接修改原文件|\n",
    "|    |    |"
   ]
  },
  {
   "cell_type": "markdown",
   "id": "6d1af4e1-27fc-4761-a62e-19c33c3d8c68",
   "metadata": {},
   "source": [
    "## 输出"
   ]
  },
  {
   "cell_type": "code",
   "execution_count": null,
   "id": "92de2b8a-57a8-4bd7-9edb-dbe5b4ed4ffa",
   "metadata": {},
   "outputs": [],
   "source": [
    "%%bash\n",
    "# 打印第1行\n",
    "sed -n '1p' <filename>\n",
    "# 打印排除第1行所有\n",
    "sed -n '1!p' <filename>\n",
    "# 打印含word的所有行\n",
    "sed -n '/word/p' <filename>\n",
    "# 空行\n",
    "sed -n '/^$/p' <filename>\n",
    "# 100~200行\n",
    "sed -n '100,200p' <filename>\n",
    "# 100行~最后\n",
    "sed -n '100,!p' <filename>"
   ]
  },
  {
   "cell_type": "code",
   "execution_count": null,
   "id": "6fa848c9-3464-4b1b-9c42-46a1e6ec4db3",
   "metadata": {},
   "outputs": [],
   "source": [
    "%%bash\n",
    "cat 1.txt | sed -n '/# fetch-github-hosts begin/,/# fetch-github-hosts end/p'"
   ]
  },
  {
   "cell_type": "markdown",
   "id": "0b4589e7-ddb9-4756-ba04-6191ff3efa70",
   "metadata": {},
   "source": [
    "## 删除"
   ]
  },
  {
   "cell_type": "code",
   "execution_count": null,
   "id": "63ee1c0b-fcbb-4dae-9fc3-b3733e181c4d",
   "metadata": {},
   "outputs": [],
   "source": [
    "%%bash\n",
    "# 删除1~2行\n",
    "sed '1, 2d' <filename>\n",
    "# 删除2~最后一行\n",
    "sed '2, $d' <filename>\n",
    "# 删除空白行\n",
    "sed '/^$/d' <filename>"
   ]
  },
  {
   "cell_type": "markdown",
   "id": "2b42681d-e6c3-4766-a3ee-cada9d4991e8",
   "metadata": {},
   "source": [
    "## 替换"
   ]
  },
  {
   "cell_type": "markdown",
   "id": "3d44cb4b",
   "metadata": {},
   "source": [
    "### 首处替换"
   ]
  },
  {
   "cell_type": "code",
   "execution_count": null,
   "id": "5652f09a-2ac2-4e82-ab45-667581945161",
   "metadata": {},
   "outputs": [],
   "source": [
    "%%bash\n",
    "# 替换每一行的第一处匹配的text\n",
    "cat 1.txt | sed 's/text/replace_text/'"
   ]
  },
  {
   "cell_type": "markdown",
   "id": "b5f906d9",
   "metadata": {},
   "source": [
    "### 全局替换"
   ]
  },
  {
   "cell_type": "code",
   "execution_count": null,
   "id": "6602daa3",
   "metadata": {},
   "outputs": [],
   "source": [
    "%%bash\n",
    "# 默认替换后, 输出替换后的内容, 如果需要直接替换原文件, 使用`-i`\n",
    "sed 's/text/replace_text/g' <filename>\n",
    "# Windows下换行符转换为unix下换行符\n",
    "find test/ -name \"*.*\" | xargs sed -i 's/\\r//g'"
   ]
  },
  {
   "cell_type": "markdown",
   "id": "effa0174",
   "metadata": {},
   "source": [
    "### 变量转换"
   ]
  },
  {
   "cell_type": "code",
   "execution_count": null,
   "id": "db9b86dd",
   "metadata": {},
   "outputs": [],
   "source": [
    "%%bash\n",
    "# 已匹配的字符串通过标记&来引用\n",
    "echo this is en example | sed 's/this/[&]/g'\n",
    "# [this] is en example"
   ]
  },
  {
   "cell_type": "markdown",
   "id": "8777c28b",
   "metadata": {},
   "source": [
    "### 子串匹配标记"
   ]
  },
  {
   "cell_type": "code",
   "execution_count": null,
   "id": "615d08de",
   "metadata": {},
   "outputs": [],
   "source": [
    "%%bash\n",
    "# TODO\n",
    "# 第一个匹配的括号内容使用标记 \\1 来引用\n",
    "echo hello1 hello2 | sed 's/hello\\([0-9]\\)/\\1/'\n",
    "# 1 hello2"
   ]
  },
  {
   "cell_type": "markdown",
   "id": "fc397af7",
   "metadata": {},
   "source": [
    "### 双引号求值"
   ]
  },
  {
   "cell_type": "code",
   "execution_count": null,
   "id": "396ac43f",
   "metadata": {},
   "outputs": [],
   "source": [
    "%%bash\n",
    "# sed通常用单引号来引用;使用双引号会对表达式求值\n",
    "var=ren\n",
    "echo renxxhaharen | sed \"s/$var/HLLOE/\"\n",
    "# HLLOExxhaharen"
   ]
  },
  {
   "cell_type": "markdown",
   "id": "6c53d856-449c-4b95-b61b-c513766c6210",
   "metadata": {},
   "source": [
    "## 替换行"
   ]
  },
  {
   "cell_type": "code",
   "execution_count": null,
   "id": "2026b051-937e-4738-9622-4104b144640b",
   "metadata": {},
   "outputs": [],
   "source": [
    "%%bash\n",
    "# 将第1行替换\n",
    "cat 1.txt | sed '1c 替换后的内容'\n",
    "echo ------------------\n",
    "# 将第1~3行替换\n",
    "cat 1.txt | sed '1, 3c 替换后的内容'"
   ]
  },
  {
   "cell_type": "code",
   "execution_count": null,
   "id": "f4236aa6-28bf-4116-b45f-514961db8a5a",
   "metadata": {},
   "outputs": [],
   "source": [
    "%%bash\n",
    "# c\\\\: 表示替换匹配的内容. \n",
    "cat 1.txt | sed \"/# fetch-github-hosts begin/,/# fetch-github-hosts end/c\\\\新host信息\""
   ]
  }
 ],
 "metadata": {
  "kernelspec": {
   "display_name": "Python 3 (ipykernel)",
   "language": "python",
   "name": "python3"
  },
  "language_info": {
   "codemirror_mode": {
    "name": "ipython",
    "version": 3
   },
   "file_extension": ".py",
   "mimetype": "text/x-python",
   "name": "python",
   "nbconvert_exporter": "python",
   "pygments_lexer": "ipython3",
   "version": "3.13.1"
  }
 },
 "nbformat": 4,
 "nbformat_minor": 5
}
