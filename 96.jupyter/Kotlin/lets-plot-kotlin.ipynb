{
 "cells": [
  {
   "cell_type": "code",
   "execution_count": null,
   "metadata": {},
   "outputs": [],
   "source": [
    "// @file:Repository(\"https://jcenter.bintray.com\")\n",
    "// @file:Repository(\"https://repo.maven.apache.org/maven2/\")\n",
    "@file:Repository(\"https://dl.bintray.com/kotlin/kotlin-numpy/\")\n",
    "// @file:DependsOn(\"org.jetbrains:kotlin-numpy:0.1.5\")\n",
    "%use lets-plot\n",
    "// %use numpy\n",
    "LetsPlot.getInfo()"
   ]
  },
  {
   "cell_type": "code",
   "execution_count": 13,
   "metadata": {
    "scrolled": true
   },
   "outputs": [
    {
     "data": {
      "text/html": [
       "   <div id=\"w1ms9K\"></div>\n",
       "   <script type=\"text/javascript\" data-lets-plot-script=\"plot\">\n",
       "       (function() {\n",
       "           var plotSpec={\n",
       "'mapping':{\n",
       "},\n",
       "'data':{\n",
       "},\n",
       "'kind':\"plot\",\n",
       "'scales':[],\n",
       "'layers':[{\n",
       "'mapping':{\n",
       "'x':\"cat1\",\n",
       "'fill':\"cat2\"\n",
       "},\n",
       "'stat':\"count\",\n",
       "'data':{\n",
       "'cat2':[\"c\",\"c\",\"d\",\"d\"],\n",
       "'cat1':[\"a\",\"b\",\"b\",\"a\"],\n",
       "'..count..':[4.0,2.0,3.0,2.0]\n",
       "},\n",
       "'position':\"stack\",\n",
       "'geom':\"bar\"\n",
       "}]\n",
       "};\n",
       "           var plotContainer = document.getElementById(\"w1ms9K\");\n",
       "           window.letsPlotCall(function() {{\n",
       "               LetsPlot.buildPlotFromProcessedSpecs(plotSpec, -1, -1, plotContainer);\n",
       "           }});\n",
       "       })();    \n",
       "   </script>"
      ]
     },
     "execution_count": 13,
     "metadata": {},
     "output_type": "execute_result"
    }
   ],
   "source": [
    "val data = mapOf<String, Any>(\n",
    "    \"cat1\" to listOf(\"a\", \"a\", \"b\", \"a\", \"a\", \"a\", \"a\", \"b\", \"b\", \"b\", \"b\"),\n",
    "    \"cat2\" to listOf(\"c\", \"c\", \"d\", \"d\", \"d\", \"c\", \"c\", \"d\", \"c\", \"c\", \"d\")\n",
    ")\n",
    "val p = lets_plot(data)\n",
    "p + geom_bar {\n",
    "    x = \"cat1\"\n",
    "    fill = \"cat2\"\n",
    "}"
   ]
  },
  {
   "cell_type": "code",
   "execution_count": null,
   "metadata": {},
   "outputs": [],
   "source": [
    "val rand = java.util.Random()\n",
    "val n = 400\n",
    "val data = mapOf<String, Any>(\n",
    "    \"rating\" to List(n/2) { rand.nextGaussian() } + List(n/2) { rand.nextGaussian() * 1.5 + 1.5 },\n",
    "    \"cond\" to List(n/2) { \"A\" } + List(n/2) { \"B\" }\n",
    ")\n",
    "\n",
    "var p = lets_plot(data)\n",
    "p += geom_density(color=\"dark_green\", alpha=.3) {x=\"rating\"; fill=\"cond\"}\n",
    "p + ggsize(500, 250)\n"
   ]
  },
  {
   "cell_type": "code",
   "execution_count": null,
   "metadata": {},
   "outputs": [],
   "source": [
    "val rand = java.util.Random(123)\n",
    "val n = 400\n",
    "val data = mapOf (\n",
    "    \"rating\" to List(n/2) { rand.nextGaussian() } + List(n/2) { rand.nextGaussian() * 1.5 + 1.5 },\n",
    "    \"cond\" to List(n/2) { \"A\" } + List(n/2) { \"B\" }\n",
    ")\n",
    "\n",
    "var p = lets_plot(data)\n",
    "p += geom_density { x = \"rating\"; color = \"cond\"}\n",
    "p + ggsize(500, 250)\n",
    "        \n",
    "// ggsave(p, \"density.png\")     "
   ]
  },
  {
   "cell_type": "code",
   "execution_count": null,
   "metadata": {},
   "outputs": [],
   "source": [
    "val data = mapOf<String, Any>(\n",
    "    \"cat1\" to listOf(\"a\", \"a\", \"b\", \"a\", \"a\", \"a\", \"a\", \"b\", \"b\", \"b\", \"b\"),\n",
    "    \"cat2\" to listOf(\"c\", \"c\", \"d\", \"d\", \"d\", \"c\", \"c\", \"d\", \"c\", \"c\", \"d\")\n",
    ")\n",
    "val p = lets_plot(data)\n",
    "p + geom_bar(stat=Stat.identity) {\n",
    "x = \"cat1\";y=\"cat2\";fill=\"cat2\"\n",
    "}\n",
    "p + ggsize(500, 250)"
   ]
  }
 ],
 "metadata": {
  "kernelspec": {
   "display_name": "Kotlin",
   "language": "kotlin",
   "name": "kotlin"
  },
  "language_info": {
   "codemirror_mode": "text/x-kotlin",
   "file_extension": ".kt",
   "mimetype": "text/x-kotlin",
   "name": "kotlin",
   "pygments_lexer": "kotlin",
   "version": "1.4.20-dev-2342"
  },
  "toc": {
   "base_numbering": 1,
   "nav_menu": {},
   "number_sections": true,
   "sideBar": true,
   "skip_h1_title": false,
   "title_cell": "Table of Contents",
   "title_sidebar": "Contents",
   "toc_cell": false,
   "toc_position": {},
   "toc_section_display": true,
   "toc_window_display": false
  }
 },
 "nbformat": 4,
 "nbformat_minor": 4
}
