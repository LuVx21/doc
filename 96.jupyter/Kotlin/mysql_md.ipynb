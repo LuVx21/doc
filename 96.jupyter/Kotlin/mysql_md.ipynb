{
 "cells": [
  {
   "cell_type": "code",
   "execution_count": null,
   "metadata": {},
   "outputs": [],
   "source": [
    "%use mysql(8.0.15)"
   ]
  },
  {
   "cell_type": "code",
   "execution_count": null,
   "metadata": {},
   "outputs": [],
   "source": [
    "import java.sql.Connection\n",
    "import java.sql.DriverManager\n",
    "import java.sql.ResultSet"
   ]
  },
  {
   "cell_type": "code",
   "execution_count": null,
   "metadata": {},
   "outputs": [],
   "source": [
    "data class MysqlServer(var host: String, var port: Int,\n",
    "                       var userName: String, var password: String,\n",
    "                       var dbName: String) {\n",
    "    var tableName: String? = null\n",
    "}\n",
    "\n",
    "val drive = \"com.mysql.cj.jdbc.Driver\"\n",
    "\n",
    "fun connection(mysqlServer: MysqlServer): Connection {\n",
    "    Class.forName(drive)\n",
    "    val host = mysqlServer.host\n",
    "    val port = mysqlServer.port\n",
    "    val dbName = mysqlServer.dbName\n",
    "    val url = \"jdbc:mysql://$host:$port/$dbName?serverTimezone=UTC&useUnicode=true&characterEncoding=utf-8&useSSL=true\"\n",
    "    return DriverManager.getConnection(url, mysqlServer.userName, mysqlServer.password)\n",
    "}\n",
    "\n",
    "fun mysql(mysqlServer: MysqlServer) {\n",
    "    val tableName = mysqlServer.tableName\n",
    "    val conn = connection(mysqlServer)\n",
    "    val tableNames = mutableListOf<String>()\n",
    "    if (tableName.isNullOrEmpty()) {\n",
    "        val stmt = conn.createStatement()\n",
    "        val rs = stmt.executeQuery(\"show tables;\")\n",
    "        while (rs.next()) {\n",
    "            tableNames.add(rs.getString(1))\n",
    "        }\n",
    "    } else {\n",
    "        tableNames.add(tableName)\n",
    "    }\n",
    "\n",
    "    val dbName = mysqlServer.dbName\n",
    "    for (name in tableNames) {\n",
    "        val sql = \"\"\"\n",
    "            select * from information_schema.columns\n",
    "            where table_schema = '$dbName' and table_name = '$name'\n",
    "            order by ordinal_position\n",
    "            ;\n",
    "        \"\"\".trimIndent()\n",
    "        val stmt = conn.createStatement()\n",
    "        val rs = stmt.executeQuery(sql)\n",
    "        toMd(rs)\n",
    "    }\n",
    "}\n",
    "\n",
    "fun toMd(rs: ResultSet): String {\n",
    "    println(\"|No\\t|列名\\t|类型\\t|空\\t|默认值\\t|键\\t|其他\\t|注释|\")\n",
    "    println(\"|:---\\t|:---\\t|:---\\t|:---\\t|:---\\t|:---\\t|:---\\t|:---|\")\n",
    "    while (rs.next()) {\n",
    "        val int = rs.getInt(\"ORDINAL_POSITION\")\n",
    "        val string0 = rs.getString(\"COLUMN_NAME\")\n",
    "        val string1 = rs.getString(\"COLUMN_TYPE\")\n",
    "        val string2 = rs.getString(\"IS_NULLABLE\")\n",
    "        val string3 = rs.getString(\"COLUMN_DEFAULT\")\n",
    "        val string4 = rs.getString(\"COLUMN_KEY\")\n",
    "        val string5 = rs.getString(\"EXTRA\")\n",
    "        val string6 = rs.getString(\"COLUMN_COMMENT\")\n",
    "        println(\"|$int\\t|$string0\\t|$string1\\t|$string2\\t|$string3\\t|$string4\\t|$string5\\t|$string6|\")\n",
    "    }\n",
    "    return \"\"\n",
    "}\n",
    "\n",
    "val mysqlServer = MysqlServer(\"luvx\", 3306, \"root\", \"????\", \"boot\")\n",
    "mysqlServer.tableName = \"user1\"\n",
    "mysql(mysqlServer)"
   ]
  }
 ],
 "metadata": {
  "kernelspec": {
   "display_name": "Kotlin",
   "language": "kotlin",
   "name": "kotlin"
  },
  "language_info": {
   "codemirror_mode": "text/x-kotlin",
   "file_extension": ".kt",
   "mimetype": "text/x-kotlin",
   "name": "kotlin",
   "pygments_lexer": "kotlin",
   "version": "1.4.20-dev-2342"
  },
  "toc": {
   "base_numbering": 1,
   "nav_menu": {},
   "number_sections": true,
   "sideBar": true,
   "skip_h1_title": false,
   "title_cell": "Table of Contents",
   "title_sidebar": "Contents",
   "toc_cell": false,
   "toc_position": {},
   "toc_section_display": true,
   "toc_window_display": false
  }
 },
 "nbformat": 4,
 "nbformat_minor": 4
}
