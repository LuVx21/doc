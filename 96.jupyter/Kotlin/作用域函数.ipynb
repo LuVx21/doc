{
 "cells": [
  {
   "cell_type": "markdown",
   "metadata": {},
   "source": [
    "## 标签\n",
    "\n",
    "`tag@` 声明\n",
    "\n",
    "`@tag` 使用\n",
    "\n",
    "### break continue 语句\n"
   ]
  },
  {
   "cell_type": "code",
   "execution_count": null,
   "metadata": {},
   "outputs": [],
   "source": [
    "val ints = intArrayOf(1, 2, 3, 0, 4, 5, 6)\n",
    "loop@ for (i in ints) {\n",
    "    for (j in 1..4) {\n",
    "        if (i == 2 && j == 2) {\n",
    "            break@loop\n",
    "        }\n",
    "        println(\"i = $i, j = $j\")\n",
    "    }\n",
    "}"
   ]
  },
  {
   "cell_type": "markdown",
   "metadata": {},
   "source": [
    "### return语句"
   ]
  },
  {
   "cell_type": "code",
   "execution_count": null,
   "metadata": {},
   "outputs": [],
   "source": [
    "ints.forEach lit@ {\n",
    "    if (it == 0) return@lit\n",
    "    print(it)\n",
    "}"
   ]
  },
  {
   "cell_type": "markdown",
   "metadata": {},
   "source": [
    "还可以使用隐式标签, 隐式标签与接受 lambda 表达式的函数同名"
   ]
  },
  {
   "cell_type": "code",
   "execution_count": null,
   "metadata": {},
   "outputs": [],
   "source": [
    "ints.forEach {\n",
    "    if (it == 0) return@forEach\n",
    "    print(it)\n",
    "}"
   ]
  },
  {
   "cell_type": "markdown",
   "metadata": {},
   "source": [
    "使用匿名函数替代 lambda 表达式也可以实现上述功能, \n",
    "\n",
    "匿名函数内部的 return 语句将从该匿名函数自身返回, 但使用这种方式不如使用 lambda 表达式代码清晰简洁"
   ]
  },
  {
   "cell_type": "code",
   "execution_count": null,
   "metadata": {},
   "outputs": [],
   "source": [
    "ints.forEach(\n",
    "    fun(value: Int) {\n",
    "        if (value == 0) return\n",
    "        print(value)\n",
    "    }\n",
    ")"
   ]
  },
  {
   "cell_type": "markdown",
   "metadata": {},
   "source": [
    "## 作用域函数"
   ]
  },
  {
   "cell_type": "markdown",
   "metadata": {},
   "source": [
    "|操作|返回|内部代称|\n",
    "|:---|:---|:---|\n",
    "|also|自身|it|\n",
    "|apply|自身|this|\n",
    "|let|指定值|it|\n",
    "|run|指定值|this|\n",
    "|with|指定值|this|"
   ]
  },
  {
   "cell_type": "markdown",
   "metadata": {},
   "source": [
    "## also apply"
   ]
  },
  {
   "cell_type": "code",
   "execution_count": null,
   "metadata": {},
   "outputs": [],
   "source": [
    "val result1 = \"testLet\"\n",
    "    .also { println(it.toUpperCase()) }\n",
    "    .also { println(it.toLowerCase()) }\n",
    "    .also { 1000 }\n",
    "println(\"also: $result1\")"
   ]
  },
  {
   "cell_type": "code",
   "execution_count": null,
   "metadata": {},
   "outputs": [],
   "source": [
    "val result3 = \"testLet\"\n",
    "    .apply { println(this.toUpperCase()) }\n",
    "    .apply { println(toLowerCase()) }\n",
    "    .apply { 1000 }\n",
    "println(\"apply: $result3\")"
   ]
  },
  {
   "cell_type": "markdown",
   "metadata": {},
   "source": [
    "## let"
   ]
  },
  {
   "cell_type": "code",
   "execution_count": null,
   "metadata": {},
   "outputs": [],
   "source": [
    "\"testLet\"\n",
    "    .let {\n",
    "        println(it.toUpperCase())\n",
    "        it\n",
    "    }.let {\n",
    "        println(it.toLowerCase())\n",
    "        it\n",
    "    }.let { 1000 }\n",
    "    .let(::println)"
   ]
  },
  {
   "cell_type": "markdown",
   "metadata": {},
   "source": [
    "## run with"
   ]
  },
  {
   "cell_type": "code",
   "execution_count": null,
   "metadata": {},
   "outputs": [],
   "source": [
    "val result1 = \"testLet\"\n",
    "    .run {\n",
    "        println(toUpperCase())\n",
    "        this\n",
    "    }.run {\n",
    "        println(toLowerCase())\n",
    "        this\n",
    "    }.run { 1000 }\n",
    "println(\"run: $result1\")"
   ]
  },
  {
   "cell_type": "code",
   "execution_count": null,
   "metadata": {},
   "outputs": [],
   "source": [
    "val result3 = with(\"testLet\") {\n",
    "    println(toUpperCase())\n",
    "    1000\n",
    "}\n",
    "println(\"with: $result3\")"
   ]
  },
  {
   "cell_type": "markdown",
   "metadata": {},
   "source": [
    "## 自定义对象"
   ]
  },
  {
   "cell_type": "code",
   "execution_count": null,
   "metadata": {},
   "outputs": [],
   "source": [
    "class User {\n",
    "    var id: Long? = null\n",
    "    var userName: String? = null\n",
    "    var password: String? = null\n",
    "    var age: Int? = null\n",
    "    \n",
    "    override fun toString(): String {\n",
    "        return \"User(id=$id, userName=$userName, password=$password, age=$age)\"\n",
    "    }\n",
    "}\n",
    "\n",
    "val user = User()\n",
    "user.also { it.id = 1 }\n",
    "        .also { it.userName = \"foo\" }\n",
    "        .also { it.password = \"bar\" }\n",
    "        .also { it.age = 18 }\n",
    "println(\"also: $user\")\n",
    "\n",
    "user.apply { id = 1 }\n",
    "        .apply { userName = \"foo\" }\n",
    "        .apply { password = \"bar\" }\n",
    "        .apply { age = 18 }\n",
    "        .apply {\n",
    "            println(\"my name is $userName, I am $age years old, my password is $password\")\n",
    "        }\n",
    "\n",
    "println(\"apply: $user\")\n",
    "\n",
    "val result1 = user.run {\n",
    "     println(\"my name is $userName, I am $age years old, my password is $password\")\n",
    "    1000\n",
    "}\n",
    "println(\"run: $result1\")\n",
    "\n",
    "val result3 = with(user) {\n",
    "     println(\"my name is $userName, I am $age years old, my password is $password\")\n",
    "    1000\n",
    "}\n",
    "println(\"with: $result3\")"
   ]
  },
  {
   "cell_type": "markdown",
   "metadata": {},
   "source": [
    "## 函数式接口"
   ]
  },
  {
   "cell_type": "code",
   "execution_count": null,
   "metadata": {},
   "outputs": [],
   "source": [
    "fun interface I {\n",
    "    fun hello(s: String): String\n",
    "}\n",
    "\n",
    "class AA {\n",
    "    fun say(i: I) {\n",
    "        println(\n",
    "            i.hello(\"world\")\n",
    "        )\n",
    "    }\n",
    "}\n",
    "\n",
    "val aa = AA()\n",
    "aa.say(object : I {\n",
    "    override fun hello(s: String): String {\n",
    "        return \"hello $s\"\n",
    "    }\n",
    "})\n",
    "\n",
    "aa.say({ s: String -> \"hello $s\" })\n",
    "\n",
    "aa.say({ s -> \"hello $s\" })\n",
    "\n",
    "aa.say({ \"hello $it\" })\n",
    "\n",
    "aa.say() { \"hello $it\" }\n",
    "\n",
    "aa.say { \"hello $it\" }"
   ]
  },
  {
   "cell_type": "code",
   "execution_count": null,
   "metadata": {},
   "outputs": [],
   "source": [
    "var i1 = object : I {\n",
    "    override fun hello(s: String): String {\n",
    "        return \"hello $s\"\n",
    "    }\n",
    "}\n",
    "var i2 = I { s: String -> \"hello $s\" }\n",
    "var i3 = I { s -> \"hello $s\" }\n",
    "var i4 = I { \"hello $it\" }\n",
    "\n",
    "i1.hello(\"world\")"
   ]
  }
 ],
 "metadata": {
  "kernelspec": {
   "display_name": "Kotlin",
   "language": "kotlin",
   "name": "kotlin"
  },
  "language_info": {
   "codemirror_mode": "text/x-kotlin",
   "file_extension": ".kt",
   "mimetype": "text/x-kotlin",
   "name": "kotlin",
   "pygments_lexer": "kotlin",
   "version": "1.4.20-dev-2342"
  },
  "toc": {
   "base_numbering": 1,
   "nav_menu": {},
   "number_sections": false,
   "sideBar": true,
   "skip_h1_title": false,
   "title_cell": "Table of Contents",
   "title_sidebar": "Contents",
   "toc_cell": false,
   "toc_position": {
    "height": "calc(100% - 180px)",
    "left": "10px",
    "top": "150px",
    "width": "222px"
   },
   "toc_section_display": true,
   "toc_window_display": true
  }
 },
 "nbformat": 4,
 "nbformat_minor": 4
}