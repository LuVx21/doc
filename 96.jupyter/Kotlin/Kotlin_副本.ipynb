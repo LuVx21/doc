{
 "cells": [
  {
   "cell_type": "code",
   "execution_count": null,
   "id": "39d801d3-d310-47b3-ae1f-b0bc7fce48b1",
   "metadata": {
    "ExecuteTime": {
     "end_time": "2024-07-02T13:26:31.971708201Z",
     "start_time": "2024-07-02T13:26:31.741198267Z"
    }
   },
   "outputs": [],
   "source": [
    "val a = 2 + 2"
   ]
  },
  {
   "cell_type": "code",
   "execution_count": null,
   "id": "bac25434-bb2d-4faa-8cf3-f04a037ace0e",
   "metadata": {
    "ExecuteTime": {
     "end_time": "2024-07-02T13:26:32.829087359Z",
     "start_time": "2024-07-02T13:26:32.620166326Z"
    }
   },
   "outputs": [],
   "source": [
    "println(4)"
   ]
  },
  {
   "cell_type": "code",
   "execution_count": null,
   "id": "ae790c68-722c-426b-b281-6354d4c42f37",
   "metadata": {
    "ExecuteTime": {
     "end_time": "2024-07-02T13:26:35.091490523Z",
     "start_time": "2024-07-02T13:26:33.802493127Z"
    }
   },
   "outputs": [],
   "source": [
    "HTML(\"\"\"\n",
    "    <p>Counter: <span id=\"ctr\">0</span> <button onclick=\"inc()\">Increment</button></p>\n",
    "    <script>\n",
    "      function inc() {\n",
    "        let counter = document.getElementById(\"ctr\")\n",
    "        counter.innerHTML = parseInt(counter.innerHTML) + 1;\n",
    "      }\n",
    "    </script>\n",
    "\"\"\")"
   ]
  },
  {
   "cell_type": "code",
   "execution_count": null,
   "id": "ad9b5470-2024-4ffc-90aa-4aebd690bd48",
   "metadata": {
    "ExecuteTime": {
     "end_time": "2024-07-02T13:26:35.855839300Z",
     "start_time": "2024-07-02T13:26:35.839070803Z"
    },
    "scrolled": true
   },
   "outputs": [],
   "source": [
    ":help"
   ]
  },
  {
   "cell_type": "code",
   "execution_count": null,
   "id": "3ef9e87a-9704-41ec-ab7e-9eb72a89227a",
   "metadata": {
    "ExecuteTime": {
     "end_time": "2024-07-02T13:26:47.499083622Z",
     "start_time": "2024-07-02T13:26:45.787677048Z"
    }
   },
   "outputs": [],
   "source": [
    "%use lets-plot\n",
    "import kotlin.random.Random\n",
    "\n",
    "fun diceNTimesSum(n: Int): Int {\n",
    "    return (1..n).sumOf { Random.nextInt(1, 7) }\n",
    "}\n",
    "\n",
    "val experimentData = (1..10000).map { diceNTimesSum(50) }.groupBy { it }.mapValues { it.value.size }.entries.sortedBy { it.key }\n",
    "val experimentX = experimentData.map { it.key }\n",
    "val experimentY = experimentData.map { it.value }\n",
    "\n",
    "val gaussPlot = plot {\n",
    "    bars {\n",
    "        x(experimentX)\n",
    "        y(experimentY)\n",
    "    }\n",
    "}\n",
    "gaussPlot"
   ]
  },
  {
   "cell_type": "code",
   "execution_count": null,
   "id": "4e54b8b1f17803e5",
   "metadata": {},
   "outputs": [],
   "source": []
  }
 ],
 "metadata": {
  "kernelspec": {
   "display_name": "Kotlin",
   "language": "kotlin",
   "name": "kotlin"
  },
  "language_info": {
   "codemirror_mode": "text/x-kotlin",
   "file_extension": ".kt",
   "mimetype": "text/x-kotlin",
   "name": "kotlin",
   "nbconvert_exporter": "",
   "pygments_lexer": "kotlin",
   "version": "1.9.23"
  }
 },
 "nbformat": 4,
 "nbformat_minor": 5
}
