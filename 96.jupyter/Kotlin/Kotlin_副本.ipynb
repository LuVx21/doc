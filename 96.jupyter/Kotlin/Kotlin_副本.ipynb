{
 "cells": [
  {
   "cell_type": "code",
   "execution_count": 15,
   "id": "39d801d3-d310-47b3-ae1f-b0bc7fce48b1",
   "metadata": {
    "ExecuteTime": {
     "end_time": "2024-07-02T13:26:31.971708201Z",
     "start_time": "2024-07-02T13:26:31.741198267Z"
    }
   },
   "outputs": [],
   "source": [
    "val a = 2 + 2"
   ]
  },
  {
   "cell_type": "code",
   "execution_count": 16,
   "id": "bac25434-bb2d-4faa-8cf3-f04a037ace0e",
   "metadata": {
    "ExecuteTime": {
     "end_time": "2024-07-02T13:26:32.829087359Z",
     "start_time": "2024-07-02T13:26:32.620166326Z"
    }
   },
   "outputs": [
    {
     "name": "stdout",
     "output_type": "stream",
     "text": [
      "4\n"
     ]
    }
   ],
   "source": [
    "println(4)"
   ]
  },
  {
   "cell_type": "code",
   "execution_count": 17,
   "id": "ae790c68-722c-426b-b281-6354d4c42f37",
   "metadata": {
    "ExecuteTime": {
     "end_time": "2024-07-02T13:26:35.091490523Z",
     "start_time": "2024-07-02T13:26:33.802493127Z"
    }
   },
   "outputs": [
    {
     "data": {
      "text/html": [
       "\n",
       "    <p>Counter: <span id=\"ctr\">0</span> <button onclick=\"inc()\">Increment</button></p>\n",
       "    <script>\n",
       "      function inc() {\n",
       "        let counter = document.getElementById(\"ctr\")\n",
       "        counter.innerHTML = parseInt(counter.innerHTML) + 1;\n",
       "      }\n",
       "    </script>\n"
      ]
     },
     "execution_count": 17,
     "metadata": {},
     "output_type": "execute_result"
    }
   ],
   "source": [
    "HTML(\"\"\"\n",
    "    <p>Counter: <span id=\"ctr\">0</span> <button onclick=\"inc()\">Increment</button></p>\n",
    "    <script>\n",
    "      function inc() {\n",
    "        let counter = document.getElementById(\"ctr\")\n",
    "        counter.innerHTML = parseInt(counter.innerHTML) + 1;\n",
    "      }\n",
    "    </script>\n",
    "\"\"\")"
   ]
  },
  {
   "cell_type": "code",
   "execution_count": 18,
   "id": "ad9b5470-2024-4ffc-90aa-4aebd690bd48",
   "metadata": {
    "ExecuteTime": {
     "end_time": "2024-07-02T13:26:35.855839300Z",
     "start_time": "2024-07-02T13:26:35.839070803Z"
    },
    "scrolled": true
   },
   "outputs": [
    {
     "data": {
      "text/plain": [
       "Kotlin Jupyter kernel.\n",
       "Kernel version: 0.12.0.217\n",
       "Kotlin version: 1.9.23\n",
       "JVM version: 22\n",
       "\n",
       "Commands:\n",
       "    :help - display help\n",
       "    :classpath - show current classpath\n",
       "    :vars - get visible variables values\n",
       "\n",
       "Magics:\n",
       "    %use - injects code for supported libraries: artifact resolution, default imports, initialization code, type renderers\n",
       "        Usage: %use klaxon(5.5), lets-plot\n",
       "    %trackClasspath - logs any changes of current classpath. Useful for debugging artifact resolution failures\n",
       "        Usage: %trackClasspath [on|off]\n",
       "    %trackExecution - logs pieces of code that are going to be executed. Useful for debugging of libraries support\n",
       "        Usage: %trackExecution [all|generated|off]\n",
       "    %useLatestDescriptors - use latest versions of library descriptors available. By default, bundled descriptors are used. Note that default behavior is preferred: latest descriptors versions might be not supported by current version of kernel. So if you care about stability of the notebook, avoid using this line magic\n",
       "        Usage: %useLatestDescriptors [on|off]\n",
       "    %output - output capturing settings\n",
       "        Usage: %output --max-cell-size=1000 --no-stdout --max-time=100 --max-buffer=400\n",
       "    %logLevel - set logging level\n",
       "        Usage: %logLevel [off|error|warn|info|debug]\n",
       "\n",
       "Supported libraries:\n",
       "    2p-kt (https://github.com/gciatto/kt-math) - Kotlin Multi-Platform ecosystem for symbolic AI\n",
       "    biokotlin (https://github.com/maize-genetics/BioKotlin) - BioKotlin aims to be a high-performance bioinformatics library that brings the power and speed of compiled programming languages to scripting and big data environments.\n",
       "    combinatoricskt (https://github.com/shiguruikai/combinatoricskt) - A combinatorics library for Kotlin\n",
       "    coroutines (https://github.com/Kotlin/kotlinx.coroutines) - Asynchronous programming and reactive streams support\n",
       "    dataframe (https://github.com/Kotlin/dataframe) - Kotlin framework for structured data processing\n",
       "    datetime (https://github.com/Kotlin/kotlinx-datetime) - Kotlin date/time library\n",
       "    deeplearning4j-cuda (https://github.com/eclipse/deeplearning4j) - Deep learning library for the JVM (CUDA support)\n",
       "    deeplearning4j (https://github.com/eclipse/deeplearning4j) - Deep learning library for the JVM\n",
       "    default - Default imports: dataframe and Kandy libraries\n",
       "    develocity-api-kotlin (https://github.com/gabrielfeo/develocity-api-kotlin) - A library to use the Develocity API in Kotlin scripts or projects\n",
       "    exposed (https://github.com/JetBrains/Exposed) - Kotlin SQL framework\n",
       "    fuel (https://github.com/kittinunf/fuel) - HTTP networking library\n",
       "    gradle-enterprise-api-kotlin (https://github.com/gabrielfeo/gradle-enterprise-api-kotlin) - [Deprecated: use develocity-api-kotlin] A library to use the Gradle Enterprise API in Kotlin scripts or projects\n",
       "    gral (https://github.com/eseifert/gral) - Java library for displaying plots\n",
       "    jdsp (https://github.com/psambit9791/jDSP) - Java library for signal processing\n",
       "    jupyter-js (https://github.com/yidafu/kotlin-jupyter-js) - Experimental `%javascript`/`%typescript`/`%jsx` line magic support\n",
       "    kalasim (https://www.kalasim.org) - Discrete event simulator\n",
       "    kaliningraph (https://github.com/breandan/kaliningraph) - Graph library with a DSL for constructing graphs and visualizing the behavior of graph algorithms\n",
       "    kandy-echarts (https://github.com/Kotlin/kandy) - Kotlin plotting DSL for Apache ECharts\n",
       "    kandy (https://github.com/Kotlin/kandy) - Kotlin plotting DSL for Lets-Plot\n",
       "    khttp (https://github.com/jkcclemens/khttp) - HTTP networking library\n",
       "    klaxon (https://github.com/cbeust/klaxon) - JSON parser for Kotlin\n",
       "    kmath (https://github.com/mipt-npm/kmath) - Experimental Kotlin algebra-based mathematical library\n",
       "    kotlin-dl (https://github.com/Kotlin/kotlindl) - KotlinDL library which provides Keras-like API for deep learning\n",
       "    kotlin-statistics (https://github.com/thomasnield/kotlin-statistics) - Idiomatic statistical operators for Kotlin\n",
       "    krangl (https://github.com/holgerbrandl/krangl) - Kotlin DSL for data wrangling\n",
       "    kraphviz (https://github.com/nidi3/graphviz-java) - Graphviz wrapper for JVM\n",
       "    kravis (https://github.com/holgerbrandl/kravis) - Kotlin grammar for data visualization\n",
       "    kt-math (https://github.com/gciatto/kt-math) - Kotlin multi-platform port of java.math.*\n",
       "    ktor-client (https://github.com/Kotlin/kotlin-jupyter-http-util) - Asynchronous HTTP client\n",
       "    lets-plot-gt (https://github.com/JetBrains/lets-plot-kotlin) - Lets-Plot visualisation for GeoTools toolkit\n",
       "    lets-plot (https://github.com/JetBrains/lets-plot-kotlin) - Kotlin API for Lets-Plot: multiplatform plotting library based on Grammar of Graphics\n",
       "    lib-ext (https://github.com/Kotlin/kotlin-jupyter) - Extended functionality for Jupyter kernel\n",
       "    londogard-nlp-toolkit (https://github.com/londogard/londogard-nlp-toolkit) - A Natural Language Processing (NLP) toolkit for Kotlin on the JVM\n",
       "    multik (https://github.com/Kotlin/multik) - Multidimensional array library for Kotlin\n",
       "    mysql (https://github.com/mysql/mysql-connector-j) - MySql JDBC Connector\n",
       "    openai (https://openai.com/blog/chatgpt) - OpenAI API for Jupyter Notebooks\n",
       "    plotly-server (https://github.com/mipt-npm/plotly.kt) - [beta] Plotly.kt jupyter integration for dynamic plots.\n",
       "    plotly (https://github.com/mipt-npm/plotly.kt) - [beta] Plotly.kt jupyter integration for static plots.\n",
       "    rdkit (https://www.rdkit.org/) - Open-Source Cheminformatics Software\n",
       "    reflection (https://kotlinlang.org/docs/reflection.html) - Imports for Kotlin Reflection\n",
       "    roboquant (https://roboquant.org) - Algorithmic trading platform written in Kotlin\n",
       "    serialization (https://github.com/Kotlin/kotlin-jupyter-http-util) - Deserialize JSON content using kotlinx.serialization and automatically generate classes for it\n",
       "    smile (https://github.com/haifengl/smile) - Statistical Machine Intelligence and Learning Engine\n",
       "    spark-streaming (https://github.com/JetBrains/kotlin-spark-api) - Kotlin API for Apache Spark Streaming: scalable, high-throughput, fault-tolerant stream processing of live data streams\n",
       "    spark (https://github.com/JetBrains/kotlin-spark-api) - Kotlin API for Apache Spark: unified analytics engine for large-scale data processing\n",
       "    webtau (https://github.com/testingisdocumenting/webtau) - WebTau end-to-end testing across layers"
      ]
     },
     "execution_count": 18,
     "metadata": {},
     "output_type": "execute_result"
    }
   ],
   "source": [
    ":help"
   ]
  },
  {
   "cell_type": "code",
   "execution_count": 19,
   "id": "3ef9e87a-9704-41ec-ab7e-9eb72a89227a",
   "metadata": {
    "ExecuteTime": {
     "end_time": "2024-07-02T13:26:47.499083622Z",
     "start_time": "2024-07-02T13:26:45.787677048Z"
    }
   },
   "outputs": [
    {
     "data": {
      "text/html": [
       "   <div id=\"NR8lt6\"></div>\n",
       "   <script type=\"text/javascript\" data-lets-plot-script=\"library\">\n",
       "       if(!window.letsPlotCallQueue) {\n",
       "           window.letsPlotCallQueue = [];\n",
       "       }; \n",
       "       window.letsPlotCall = function(f) {\n",
       "           window.letsPlotCallQueue.push(f);\n",
       "       };\n",
       "       (function() {\n",
       "           var script = document.createElement(\"script\");\n",
       "           script.type = \"text/javascript\";\n",
       "           script.src = \"https://cdn.jsdelivr.net/gh/JetBrains/lets-plot@v4.3.2/js-package/distr/lets-plot.min.js\";\n",
       "           script.onload = function() {\n",
       "               window.letsPlotCall = function(f) {f();};\n",
       "               window.letsPlotCallQueue.forEach(function(f) {f();});\n",
       "               window.letsPlotCallQueue = [];\n",
       "               \n",
       "               \n",
       "           };\n",
       "           script.onerror = function(event) {\n",
       "               window.letsPlotCall = function(f) {};\n",
       "               window.letsPlotCallQueue = [];\n",
       "               var div = document.createElement(\"div\");\n",
       "               div.style.color = 'darkred';\n",
       "               div.textContent = 'Error loading Lets-Plot JS';\n",
       "               document.getElementById(\"NR8lt6\").appendChild(div);\n",
       "           };\n",
       "           var e = document.getElementById(\"NR8lt6\");\n",
       "           e.appendChild(script);\n",
       "       })();\n",
       "   </script>"
      ]
     },
     "metadata": {},
     "output_type": "display_data"
    },
    {
     "name": "stderr",
     "output_type": "stream",
     "text": [
      "Line_46.jupyter.kts (12:17 - 21) Unresolved reference: plot\n",
      "Line_46.jupyter.kts (13:5 - 9) Unresolved reference: bars\n",
      "Line_46.jupyter.kts (14:9 - 10) Unresolved reference: x\n",
      "Line_46.jupyter.kts (15:9 - 10) Unresolved reference: y"
     ]
    }
   ],
   "source": [
    "%use lets-plot\n",
    "import kotlin.random.Random\n",
    "\n",
    "fun diceNTimesSum(n: Int): Int {\n",
    "    return (1..n).sumOf { Random.nextInt(1, 7) }\n",
    "}\n",
    "\n",
    "val experimentData = (1..10000).map { diceNTimesSum(50) }.groupBy { it }.mapValues { it.value.size }.entries.sortedBy { it.key }\n",
    "val experimentX = experimentData.map { it.key }\n",
    "val experimentY = experimentData.map { it.value }\n",
    "\n",
    "val gaussPlot = plot {\n",
    "    bars {\n",
    "        x(experimentX)\n",
    "        y(experimentY)\n",
    "    }\n",
    "}\n",
    "gaussPlot"
   ]
  },
  {
   "cell_type": "code",
   "execution_count": null,
   "id": "4e54b8b1f17803e5",
   "metadata": {},
   "outputs": [],
   "source": []
  }
 ],
 "metadata": {
  "kernelspec": {
   "display_name": "Kotlin",
   "language": "kotlin",
   "name": "kotlin"
  },
  "language_info": {
   "codemirror_mode": "text/x-kotlin",
   "file_extension": ".kt",
   "mimetype": "text/x-kotlin",
   "name": "kotlin",
   "nbconvert_exporter": "",
   "pygments_lexer": "kotlin",
   "version": "1.9.23"
  }
 },
 "nbformat": 4,
 "nbformat_minor": 5
}
