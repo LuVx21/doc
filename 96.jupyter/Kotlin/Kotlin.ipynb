{
 "cells": [
  {
   "cell_type": "code",
   "execution_count": null,
   "metadata": {},
   "outputs": [],
   "source": [
    "fun Any.out(vararg messages: Any?) {\n",
    "    println(this)\n",
    "    if (messages.isNotEmpty()) {\n",
    "        println(\"-----------------\")\n",
    "        println(messages.contentDeepToString())\n",
    "    }\n",
    "}\n",
    "fun out(vararg messages: Any?) {\n",
    "    println(messages.contentDeepToString())\n",
    "}"
   ]
  },
  {
   "cell_type": "markdown",
   "metadata": {},
   "source": [
    "## 特性"
   ]
  },
  {
   "cell_type": "code",
   "execution_count": null,
   "metadata": {},
   "outputs": [],
   "source": [
    "// 别名\n",
    "import java.math.BigDecimal as bd\n",
    "typealias Row = List<Int>"
   ]
  },
  {
   "cell_type": "markdown",
   "metadata": {},
   "source": [
    "## 数据类型"
   ]
  },
  {
   "cell_type": "code",
   "execution_count": null,
   "metadata": {},
   "outputs": [],
   "source": [
    "var str = \"8\"\n",
    "// String 转Int 正确\n",
    "var i:Int = str.toInt()\n",
    "// String 转Int 错误\n",
    "// var i:Int = str as Int\n",
    "println(i + 2)"
   ]
  },
  {
   "cell_type": "markdown",
   "metadata": {},
   "source": [
    "## 条件语句"
   ]
  },
  {
   "cell_type": "code",
   "execution_count": null,
   "metadata": {},
   "outputs": [],
   "source": [
    "val a = 4\n",
    "val b = 3\n",
    "val c = if (a > b) a else b\n",
    "println(c)"
   ]
  },
  {
   "cell_type": "markdown",
   "metadata": {},
   "source": [
    "## 循环语句"
   ]
  },
  {
   "cell_type": "code",
   "execution_count": null,
   "metadata": {},
   "outputs": [],
   "source": [
    "for (i in 1..3) {\n",
    "    println(i)\n",
    "}\n",
    "\n",
    "for (i in 0 until 3) {\n",
    "    println(i)\n",
    "}\n",
    "    \n",
    "for (i in 6 downTo 0 step 2) {\n",
    "    println(i)\n",
    "}"
   ]
  },
  {
   "cell_type": "code",
   "execution_count": null,
   "metadata": {},
   "outputs": [],
   "source": [
    "val nums = arrayOf(1, 2, 3, 4)\n",
    "for (item in nums) {\n",
    "    println(item)\n",
    "}\n",
    "for (i in nums.indices) {\n",
    "    println(\"$i -> \" + nums[i])\n",
    "}\n",
    "for ((index, value) in nums.withIndex()) {\n",
    "    println(\"$index -> $value\")\n",
    "}"
   ]
  },
  {
   "cell_type": "markdown",
   "metadata": {},
   "source": [
    "## 数组\n",
    "\n",
    "* Kotlin语言使用Array表示数组.\n",
    "* `[]` 可以用于访问数组的元素, `[]` 被进行了操作符的重载, 调用的是 Array 类的 setter 和 getter 方法\n"
   ]
  },
  {
   "cell_type": "code",
   "execution_count": null,
   "metadata": {
    "code_folding": []
   },
   "outputs": [],
   "source": [
    "val array0 = emptyArray<Int>()\n",
    "val array1 = arrayOfNulls<Int>(5)\n",
    "val array2 = arrayOf(0, 1, 2, 3, 4)\n",
    "val array3 = intArrayOf(0, 1, 2, 3, 4)\n",
    "val array4 = Array(5, {0})\n",
    "val array5 : Array<String> = Array(5, {\"\"})\n",
    "val array7 = Array(4, { i -> i * i })\n",
    "println(array2.component3())\n",
    "array2.reverse()\n",
    "println(array2.contentToString())\n"
   ]
  },
  {
   "cell_type": "code",
   "execution_count": null,
   "metadata": {
    "code_folding": []
   },
   "outputs": [],
   "source": [
    "// val array7 = Array(10, { i -> i * i })  //0,1,4,9,16\n",
    "val (_1, _2) = array2\n",
    "_1.out()\n",
    "// 遍历数组元素\n",
    "for (item in array7) {\n",
    "    println(item)\n",
    "}\n",
    "println(\"-------------\")\n",
    "// 遍历数组下标\n",
    "for (item in array7.indices) {\n",
    "    println(item)\n",
    "}\n",
    "for ((i, e) in array7.withIndex()){\n",
    "    println(\"下标=$i -> 元素=$e\")\n",
    "}\n",
    "// 迭代器遍历数组1\n",
    "val it = array7.iterator()\n",
    "for (item in it.iterator()) {\n",
    "    println(item)\n",
    "}\n",
    "// 迭代器遍历数组2\n",
    "val it1 = array7.iterator()\n",
    "it1.forEach {\n",
    "    println(it)\n",
    "}\n",
    "// forEach遍历数组\n",
    "array7.forEach {\n",
    "    println(it)\n",
    "}\n"
   ]
  },
  {
   "cell_type": "markdown",
   "metadata": {},
   "source": [
    "## 集合\n",
    "\n",
    "* 可变\n",
    "* 不可变\n",
    "\n",
    "### list\n",
    "\n",
    "* List\n",
    "* MutableList"
   ]
  },
  {
   "cell_type": "code",
   "execution_count": null,
   "metadata": {},
   "outputs": [],
   "source": [
    "val list1 = listOf<Int>(1, 2, 3)\n",
    "// list1.add(4)\n",
    "val list4 = listOfNotNull<Int>()\n",
    "val list2 = mutableListOf<Int>(1, 2, 3)\n",
    "val list3 = emptyList<Int>()\n",
    "\n",
    "list2.add(4)\n",
    "println(list2)\n",
    "list2.forEach{println(it.toString())}\n",
    "\n",
    "list2.forEachIndexed {index, i -> println(\"index: $index value: $i\")}"
   ]
  },
  {
   "cell_type": "code",
   "execution_count": null,
   "metadata": {},
   "outputs": [],
   "source": [
    "val list = listOf(\"kotlin\",\"Android\",\"Java\",\"PHP\",\"Python\",\"IOS\")\n",
    "\n",
    "println(\"  ------   contains -------\")\n",
    "println(list.contains(\"JS\"))\n",
    "\n",
    "println(\"  ------   elementAt -------\")\n",
    "println(list.elementAt(2))\n",
    "println(list.elementAtOrElse(10,{it}))\n",
    "println(list.elementAtOrNull(10))\n",
    "\n",
    "println(\"  ------   get -------\")\n",
    "println(list.get(2))\n",
    "println(list.getOrElse(10,{it}))\n",
    "println(list.getOrNull(10))\n",
    "\n",
    "println(\"  ------   first -------\")\n",
    "println(list.first())\n",
    "println(list.first{ it == \"Android\" })\n",
    "println(list.firstOrNull())\n",
    "println(list.firstOrNull { it == \"Android\" })\n",
    "\n",
    "println(\"  ------   last -------\")\n",
    "println(list.last())\n",
    "println(list.last{ it == \"Android\" })\n",
    "println(list.lastOrNull())\n",
    "println(list.lastOrNull { it == \"Android\" })\n",
    "\n",
    "println(\"  ------   indexOf -------\")\n",
    "println(list.indexOf(\"Android\"))\n",
    "println(list.indexOfFirst { it == \"Android\" })\n",
    "println(list.indexOfLast { it == \"Android\" })\n",
    "\n",
    "println(\"  ------   single -------\")\n",
    "val list2 = listOf(\"list\")\n",
    "println(list2.single())     // 只有当集合只有一个元素时, 才去用这个函数, 不然都会抛出异常.\n",
    "println(list2.single { it == \"list\" }) //当集合中的元素满足条件时, 才去用这个函数, 不然都会抛出异常. 若满足条件返回该元素\n",
    "println(list2.singleOrNull()) // 只有当集合只有一个元素时, 才去用这个函数, 不然都会返回null.\n",
    "println(list2.singleOrNull { it == \"list\" }) //当集合中的元素满足条件时, 才去用这个函数, 不然返回null. 若满足条件返回该元素\n",
    "\n",
    "println(\"  ------   forEach -------\")\n",
    "list.forEach {println(it) }\n",
    "list.forEachIndexed { index, it -> println(\"index : $index \\t value = $it\") }\n",
    "\n",
    "println(\"  ------   componentX -------\")\n",
    "println(list.component1())  // 等价于`list[0]  <=> list.get(0)`\n",
    "println(list.component2())  // 等价于`list[1]  <=> list.get(1)`\n",
    "println(list.component3())  // 等价于`list[2]  <=> list.get(2)`\n",
    "println(list.component4())  // 等价于`list[3]  <=> list.get(3)`\n",
    "println(list.component5())  // 等价于`list[4]  <=> list.get(4)`"
   ]
  },
  {
   "cell_type": "code",
   "execution_count": null,
   "metadata": {},
   "outputs": [],
   "source": [
    "val list1: List<Int> = listOf(-1,-3,1,3,5,6,7,2,4,10,9,8)\n",
    "println(list1.reversed())\n",
    "\n",
    "println(list1.sorted())\n",
    "println(list1.sortedDescending())\n",
    "\n",
    "println(list1.sortedBy { it % 2 == 0})\n",
    "println(list1.sortedByDescending { it % 2 == 0 })"
   ]
  },
  {
   "cell_type": "markdown",
   "metadata": {},
   "source": [
    "### set\n",
    "\n",
    "\n",
    "* Set\n",
    "* MutableSet"
   ]
  },
  {
   "cell_type": "code",
   "execution_count": null,
   "metadata": {},
   "outputs": [],
   "source": [
    "val set1 = setOf<Int>(1,2,3)\n",
    "val set2 = mutableSetOf<Int>(1, 2, 3, 3)\n",
    "set2.add(4)\n",
    "println(set2)\n",
    "val set3 = emptySet<Int>()\n",
    "val set4 = linkedSetOf<Int>()"
   ]
  },
  {
   "cell_type": "markdown",
   "metadata": {},
   "source": [
    "### map\n",
    "\n",
    "* Map\n",
    "* MutableMap"
   ]
  },
  {
   "cell_type": "code",
   "execution_count": null,
   "metadata": {},
   "outputs": [],
   "source": [
    "val map1 = mapOf(Pair(\"key1\", 1), Pair(\"key2\", 2))\n",
    "val map2 = mapOf(\"key1\" to 1, \"key2\" to 2)\n",
    "val map2_1 = mapOf(\n",
    "    \"key1\" to List(10) { 1 },\n",
    "    \"key2\" to List(5) { 2 }\n",
    ")\n",
    "val map3 = mutableMapOf(\"key1\" to 1, \"key2\" to 2)\n",
    "val map4 = emptyMap<Int,Int>()\n",
    "val map5 = hashMapOf<Int,Int>()\n",
    "val map6 = linkedMapOf<Int,Int>()\n",
    "val map7 = sortedMapOf<Int,Int>()\n",
    "println(map2_1)\n",
    "println(map3)\n",
    "println(map2 == map3)\n",
    "for ((k, v) in map1) {\n",
    "    print(\"$k -> $v, \")\n",
    "}"
   ]
  },
  {
   "cell_type": "markdown",
   "metadata": {},
   "source": [
    "## 函数"
   ]
  },
  {
   "cell_type": "code",
   "execution_count": null,
   "metadata": {},
   "outputs": [],
   "source": [
    "fun isBiggerThan(a: Int, b: Int = 0): Boolean {\n",
    "    return a > b\n",
    "}\n",
    "\n",
    "//拓展函数\n",
    "fun String.isLetter(): Boolean {\n",
    "    return matches(Regex(\"^[a-z|A-Z]$\"))\n",
    "}\n",
    "\n",
    "println(isBiggerThan(2))\n",
    "println(isBiggerThan(2, 5))\n",
    "println(\"a\".isLetter())"
   ]
  },
  {
   "cell_type": "code",
   "execution_count": null,
   "metadata": {},
   "outputs": [],
   "source": [
    "//拓展函数, 中缀表达式\n",
    "infix fun Int.add(x: Int): Int {\n",
    "    return this + x\n",
    "}\n",
    "\n",
    "println(1 add 2)\n",
    "\n",
    "data class Point(val x: Int, val y: Int)\n",
    "\n",
    "infix operator fun Point.plus(point: Point) = Point(x + point.x, y + point.y)\n",
    "\n",
    "var point = Point(1, 2) plus Point(3, 4)\n",
    "point = Point(1, 2) + Point(3, 4)\n",
    "println(point)"
   ]
  },
  {
   "cell_type": "code",
   "execution_count": null,
   "metadata": {},
   "outputs": [],
   "source": [
    "// 解构\n",
    "fun much(str: String, findChar: Char): Pair<Int, Int> {\n",
    "    var index = -1\n",
    "    var count = 0\n",
    "    for ((i, v) in str.withIndex()) {\n",
    "        if (v == findChar) {\n",
    "            if (index == -1) {\n",
    "                index = i\n",
    "            }\n",
    "            ++count\n",
    "        }\n",
    "    }\n",
    "    return Pair(index, count)\n",
    "}\n",
    "\n",
    "val (index, count) = much(\"abcabcabcabc\", 'c')\n",
    "println(\"$index, $count\")"
   ]
  },
  {
   "cell_type": "code",
   "execution_count": null,
   "metadata": {},
   "outputs": [],
   "source": [
    "// 最后一个参数类型是个函数, 可以通过大括号来传值\n",
    "fun calculate(a: Int, cal: (Int) -> Int): Int {\n",
    "    return cal(a)\n",
    "}\n",
    "calculate(3) { x -> x * x }"
   ]
  },
  {
   "cell_type": "markdown",
   "metadata": {},
   "source": [
    "## 类"
   ]
  },
  {
   "cell_type": "code",
   "execution_count": null,
   "metadata": {},
   "outputs": [],
   "source": [
    "class User(val userName: String = \"\", val password: String = \"\", val age: Int = 18){\n",
    "     var id: Long = 0L\n",
    "}\n",
    "\n",
    "val u = User()\n",
    "println(u.age)\n",
    "\n",
    "data class MysqlServer(var host: String, var port: Int, var userName: String, var password: String) {\n",
    "    lateinit var dbName: String\n",
    "    lateinit var tableName: String\n",
    "}\n",
    "val mysqlServer = MysqlServer(\"\", 3306, \"\", \"\")\n",
    "\n",
    "println(mysqlServer)\n",
    "\n",
    "// data class\n",
    "// sealed class"
   ]
  },
  {
   "cell_type": "code",
   "execution_count": null,
   "metadata": {},
   "outputs": [],
   "source": [
    "// 重载 companion object 的 invoke 函数来伪装成构造函数\n",
    "class A {\n",
    "  companion object Factory {\n",
    "     operator fun invoke (xxx: Any) = xxx\n",
    "  }\n",
    "}\n",
    "A(6)"
   ]
  },
  {
   "cell_type": "markdown",
   "metadata": {},
   "source": [
    "## 反射\n"
   ]
  },
  {
   "cell_type": "code",
   "execution_count": null,
   "metadata": {},
   "outputs": [],
   "source": []
  },
  {
   "cell_type": "markdown",
   "metadata": {},
   "source": [
    "## 泛型"
   ]
  },
  {
   "cell_type": "code",
   "execution_count": null,
   "metadata": {},
   "outputs": [],
   "source": [
    "\n",
    "// 泛型类\n",
    "\n",
    "// 泛型方法\n"
   ]
  },
  {
   "cell_type": "markdown",
   "metadata": {},
   "source": [
    "## Java调用"
   ]
  },
  {
   "cell_type": "code",
   "execution_count": null,
   "metadata": {},
   "outputs": [],
   "source": [
    "\n",
    "\n",
    "\n"
   ]
  },
  {
   "cell_type": "markdown",
   "metadata": {},
   "source": [
    "## 其他"
   ]
  },
  {
   "cell_type": "code",
   "execution_count": null,
   "metadata": {},
   "outputs": [],
   "source": [
    "var a = 1\n",
    "var b = 2\n",
    "a = b.also { b = a }\n",
    "println(\"$a -- $b\")\n",
    "\n",
    "val array = intArrayOf(4, 3)\n",
    "array[0] = array[1].also{array[1] = array[0]}\n",
    "println(array.contentToString())"
   ]
  },
  {
   "cell_type": "markdown",
   "metadata": {},
   "source": [
    "## 阅读"
   ]
  },
  {
   "cell_type": "markdown",
   "metadata": {},
   "source": [
    "* [集合](https://www.jianshu.com/p/fa5abe312269)"
   ]
  }
 ],
 "metadata": {
  "kernelspec": {
   "display_name": "Kotlin",
   "language": "kotlin",
   "name": "kotlin"
  },
  "language_info": {
   "codemirror_mode": "text/x-kotlin",
   "file_extension": ".kt",
   "mimetype": "text/x-kotlin",
   "name": "kotlin",
   "pygments_lexer": "kotlin",
   "version": "1.4.20-dev-2342"
  },
  "toc": {
   "base_numbering": 1,
   "nav_menu": {},
   "number_sections": false,
   "sideBar": true,
   "skip_h1_title": false,
   "title_cell": "Table of Contents",
   "title_sidebar": "Contents",
   "toc_cell": false,
   "toc_position": {
    "height": "calc(100% - 180px)",
    "left": "10px",
    "top": "150px",
    "width": "196px"
   },
   "toc_section_display": true,
   "toc_window_display": true
  }
 },
 "nbformat": 4,
 "nbformat_minor": 4
}
