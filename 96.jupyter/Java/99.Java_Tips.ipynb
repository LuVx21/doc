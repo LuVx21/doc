{
 "cells": [
  {
   "cell_type": "code",
   "execution_count": null,
   "metadata": {
    "vscode": {
     "languageId": "java"
    }
   },
   "outputs": [],
   "source": [
    "import java.util.Arrays;\n",
    "public void print(Object... os) {\n",
    "    String[] ss = Arrays.stream(os).map(Object::toString).toArray(String[]::new);\n",
    "    int max = 0;\n",
    "    for (String s : ss) {\n",
    "        max = Math.max(max, s.length());\n",
    "    }\n",
    "\n",
    "    String s = \"%-\" + max + \"s\\n\";\n",
    "    for (String s1 : ss) {\n",
    "        System.out.printf(s, s1);\n",
    "    }\n",
    "}"
   ]
  },
  {
   "cell_type": "markdown",
   "metadata": {},
   "source": [
    "# 字符串"
   ]
  },
  {
   "cell_type": "markdown",
   "metadata": {},
   "source": [
    "## valueOf代替toString"
   ]
  },
  {
   "cell_type": "code",
   "execution_count": null,
   "metadata": {
    "vscode": {
     "languageId": "java"
    }
   },
   "outputs": [],
   "source": [
    "import java.math.BigDecimal;\n",
    "BigDecimal bd = new BigDecimal(\"100\");\n",
    "// good\n",
    "System.out.println(String.valueOf(bd));\n",
    "// not good\n",
    "System.out.println(bd.toString());"
   ]
  },
  {
   "cell_type": "markdown",
   "metadata": {},
   "source": [
    "## String split\n",
    "\n",
    "字符串后面的不参与分割, 前面的参与分割, 连续出现则会分割出空字符串"
   ]
  },
  {
   "cell_type": "code",
   "execution_count": null,
   "metadata": {
    "vscode": {
     "languageId": "java"
    }
   },
   "outputs": [],
   "source": [
    "String str = \"  the sky is  blue    \";\n",
    "Arrays.toString(str.split(\" \"));"
   ]
  },
  {
   "cell_type": "markdown",
   "metadata": {},
   "source": [
    "## MessageFormat format\n",
    "\n",
    "1:"
   ]
  },
  {
   "cell_type": "code",
   "execution_count": null,
   "metadata": {
    "vscode": {
     "languageId": "java"
    }
   },
   "outputs": [],
   "source": [
    "import java.text.MessageFormat;\n",
    "// a:100,001\n",
    "System.out.println(MessageFormat.format(\"a:{0}\", 100001));\n",
    "// a:100001\n",
    "System.out.println(MessageFormat.format(\"a:{0}\", 100001 + \"\"));"
   ]
  },
  {
   "cell_type": "markdown",
   "metadata": {},
   "source": [
    "> 占位符填入数字时会自动被`,`分割, 因此不要直接传入数值, 而是传入String类型\n",
    "\n",
    "参数中有整型数值时, 会自动添加数字分割符`,`成为类似`123,456,789`的形式,\n",
    "\n",
    "处理这些数值时, 需要转换为`String`或`+ \"\"`后再传参\n",
    "\n",
    "2:\n",
    "\n",
    "`select * from user where name = '{0}';`\n",
    "替换后会出现: `where name = {0}`, 可将`'{0}'`改为`''{0}''`\n",
    "\n",
    "> 其中的字符串常量也会出现类似的问题, 如 `name = 'foo'`, 替换后两个单引号也会消失, 应该使用双层单引号\n",
    "\n",
    "一些 json 的替换操作也需要注意大括号的问题:\n",
    "\n",
    "方法是将单引号把大括号包含起来. 如下:"
   ]
  },
  {
   "cell_type": "code",
   "execution_count": null,
   "metadata": {
    "vscode": {
     "languageId": "java"
    }
   },
   "outputs": [],
   "source": [
    "import java.text.MessageFormat;\n",
    "String json = \"'{'code:\\\"{0}\\\",des:\\\"{1}\\\"'}'\";\n",
    "System.out.println(MessageFormat.format(json, \"w1\",\"w2\"));"
   ]
  },
  {
   "cell_type": "markdown",
   "metadata": {},
   "source": [
    "如果格式化字符串中包含单引号, 处理方法是用2个单引号进行转义:"
   ]
  },
  {
   "cell_type": "code",
   "execution_count": null,
   "metadata": {
    "vscode": {
     "languageId": "java"
    }
   },
   "outputs": [],
   "source": [
    "import java.text.MessageFormat;\n",
    "String json = \"'{'code:''{0}'',des:''{1}'''}'\";\n",
    "System.out.println(MessageFormat.format(json, \"w1\",\"w2\"));"
   ]
  },
  {
   "cell_type": "markdown",
   "metadata": {},
   "source": [
    "> 这个和 sql 的替换那里类似"
   ]
  },
  {
   "cell_type": "markdown",
   "metadata": {},
   "source": [
    "## String join"
   ]
  },
  {
   "cell_type": "code",
   "execution_count": null,
   "metadata": {
    "vscode": {
     "languageId": "java"
    }
   },
   "outputs": [],
   "source": [
    "List<String> ss = List.of(\"a\", \"b\", \"c\");\n",
    "String join = String.join(\",\", ss);\n",
    "System.out.println(join);"
   ]
  },
  {
   "cell_type": "markdown",
   "metadata": {},
   "source": [
    "# 其他"
   ]
  },
  {
   "cell_type": "code",
   "execution_count": null,
   "metadata": {
    "vscode": {
     "languageId": "java"
    }
   },
   "outputs": [],
   "source": [
    "import java.util.AbstractMap;\n",
    "AbstractMap.SimpleEntry<Integer, String> entry\n",
    "     = new AbstractMap.SimpleEntry<>(1, \"one\");\n",
    "AbstractMap.SimpleImmutableEntry<Integer, String> one\n",
    "     = new AbstractMap.SimpleImmutableEntry<>(1, \"one\");\n",
    "\n",
    "print(entry, one);\n",
    "\n",
    "// Apache Commons\n",
    "\n",
    "// ImmutablePair<Integer, String> pair = new ImmutablePair<>(2, \"Two\");\n",
    "\n",
    "// Vavr\n",
    "// Tuple2<Integer, String> pair1 = new Tuple2<>(4, \"Four\");\n",
    "// Integer key = pair._1();\n",
    "// String value = pair._2();"
   ]
  }
 ],
 "metadata": {
  "kernelspec": {
   "display_name": "Java",
   "language": "java",
   "name": "java"
  },
  "language_info": {
   "codemirror_mode": "java",
   "file_extension": ".jshell",
   "mimetype": "text/x-java-source",
   "name": "Java",
   "pygments_lexer": "java",
   "version": "17.0.2+8-86"
  },
  "toc": {
   "base_numbering": 1,
   "nav_menu": {},
   "number_sections": false,
   "sideBar": true,
   "skip_h1_title": false,
   "title_cell": "Table of Contents",
   "title_sidebar": "Contents",
   "toc_cell": false,
   "toc_position": {},
   "toc_section_display": true,
   "toc_window_display": true
  }
 },
 "nbformat": 4,
 "nbformat_minor": 4
}
