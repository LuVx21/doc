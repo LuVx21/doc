{
 "cells": [
  {
   "cell_type": "code",
   "execution_count": 1,
   "metadata": {
    "vscode": {
     "languageId": "java"
    }
   },
   "outputs": [],
   "source": [
    "%%loadFromPOM\n",
    "<dependency>\n",
    "    <groupId>com.google.guava</groupId>\n",
    "    <artifactId>guava</artifactId>\n",
    "    <version>28.2-jre</version>\n",
    "</dependency>"
   ]
  },
  {
   "cell_type": "markdown",
   "metadata": {},
   "source": [
    "## 1"
   ]
  },
  {
   "cell_type": "code",
   "execution_count": 2,
   "metadata": {
    "code_folding": [
     4
    ],
    "vscode": {
     "languageId": "java"
    }
   },
   "outputs": [],
   "source": [
    "import java.util.*;\n",
    "import java.util.function.*;\n",
    "import java.util.stream.*;\n",
    "\n",
    "class User {\n",
    "    String name;\n",
    "    String password;\n",
    "\n",
    "    public String getName() {\n",
    "        return name;\n",
    "    }\n",
    "\n",
    "    public void setName(String name) {\n",
    "        this.name = name;\n",
    "    }\n",
    "\n",
    "    public String getPassword() {\n",
    "        return password;\n",
    "    }\n",
    "\n",
    "    public void setPassword(String password) {\n",
    "        this.password = password;\n",
    "    }\n",
    "    \n",
    "    @Override\n",
    "    public String toString() {\n",
    "        return \"User{\" +\n",
    "                \"name='\" + name + '\\'' +\n",
    "                \", password='\" + password + '\\'' +\n",
    "                '}';\n",
    "    }\n",
    "}"
   ]
  },
  {
   "cell_type": "code",
   "execution_count": null,
   "metadata": {
    "vscode": {
     "languageId": "java"
    }
   },
   "outputs": [],
   "source": [
    "Stream.generate(Math::random).limit(5).forEach(System.out::println);\n",
    "Stream.iterate(0, i -> i + 1).limit(5).forEach(System.out::println);"
   ]
  },
  {
   "cell_type": "code",
   "execution_count": null,
   "metadata": {
    "vscode": {
     "languageId": "java"
    }
   },
   "outputs": [],
   "source": [
    "// limit\n",
    "// skip\n",
    "// count"
   ]
  },
  {
   "cell_type": "markdown",
   "metadata": {},
   "source": [
    "https://cloud.tencent.com/developer/ask/37501\n",
    "https://www.jianshu.com/p/7fbd347eb107"
   ]
  },
  {
   "cell_type": "markdown",
   "metadata": {},
   "source": [
    "## 1"
   ]
  },
  {
   "cell_type": "code",
   "execution_count": null,
   "metadata": {
    "vscode": {
     "languageId": "java"
    }
   },
   "outputs": [],
   "source": [
    "import com.google.common.base.CharMatcher;\n",
    "import com.google.common.base.Joiner;\n",
    "import com.google.common.base.Splitter;\n",
    "import com.google.common.collect.Lists;\n",
    "import com.google.common.primitives.Ints;\n",
    "\n",
    "int[] concat = Ints.concat(new int[]{1, 2}, new int[]{3, 4, 5});\n",
    "List<Integer> list = Ints.asList(concat);\n",
    "System.out.println(Ints.max(concat));\n",
    "\n",
    "final Joiner joiner = Joiner.on(\",\").skipNulls();\n",
    "final Splitter splitter = Splitter.on(\",\").trimResults().omitEmptyStrings();\n",
    "final CharMatcher digitMatcher = CharMatcher.anyOf(\"1234567890\");\n",
    "\n",
    "String join = joiner.join(Lists.newArrayList(\"a\", null, \"b\"));\n",
    "System.out.println(\"join1:\" + join);\n"
   ]
  },
  {
   "cell_type": "code",
   "execution_count": null,
   "metadata": {
    "vscode": {
     "languageId": "java"
    }
   },
   "outputs": [],
   "source": [
    "import com.google.common.cache.CacheBuilder;\n",
    "import com.google.common.cache.CacheLoader;\n",
    "import com.google.common.cache.LoadingCache;\n",
    "\n",
    "import java.util.Optional;\n",
    "import java.util.concurrent.ExecutionException;\n",
    "\n",
    "private String getUserName(String userId) throws InterruptedException {\n",
    "    System.out.println(\"执行耗时操作......\");\n",
    "    String username = null;\n",
    "    switch (userId) {\n",
    "        case \"0101\":\n",
    "            username = \"foo\";\n",
    "            break;\n",
    "        case \"0102\":\n",
    "            username = \"bar\";\n",
    "            break;\n",
    "        default:\n",
    "    }\n",
    "\n",
    "    Thread.sleep(1000);\n",
    "    return Optional.ofNullable(username).orElse(\"\");\n",
    "}\n",
    "\n",
    "// private Cache<String, String> poiCache = CacheBuilder.newBuilder()\n",
    "//         .maximumSize(1024 * 1024 * 1024)\n",
    "//         .build();\n",
    "\n",
    "private LoadingCache<String, String> poiCache1 = CacheBuilder.newBuilder()\n",
    "        .maximumSize(1000)\n",
    "        .build(\n",
    "                new CacheLoader<String, String>() {\n",
    "                    @Override\n",
    "                    public String load(String userId) throws InterruptedException {\n",
    "                        return getUserName(userId);\n",
    "                    }\n",
    "                });\n",
    "\n",
    "public String getUserNameById(final String userId) throws ExecutionException {\n",
    "    String username = null;\n",
    "    /// 缓存定义形式1\n",
    "    // username = poiCache.get(userId, () -> getUserName(userId));\n",
    "    /// 缓存定义形式2\n",
    "    username = poiCache1.get(userId);\n",
    "    return username;\n",
    "}\n",
    "\n",
    "// 后两次循环没有执行方法, 直接取缓存\n",
    "for (int i = 0; i < 3; i++) {\n",
    "    System.out.println(\"--- \" + i + \" ---\");\n",
    "    System.out.println(getUserNameById(\"0101\"));\n",
    "    System.out.println(getUserNameById(\"0102\"));\n",
    "    System.out.println(getUserNameById(\"0103\"));\n",
    "    System.out.println();\n",
    "}"
   ]
  }
 ],
 "metadata": {
  "kernelspec": {
   "display_name": "Java",
   "language": "java",
   "name": "java"
  },
  "language_info": {
   "codemirror_mode": "java",
   "file_extension": ".jshell",
   "mimetype": "text/x-java-source",
   "name": "Java",
   "pygments_lexer": "java",
   "version": "17.0.2+8-86"
  },
  "toc": {
   "base_numbering": 1,
   "nav_menu": {},
   "number_sections": true,
   "sideBar": true,
   "skip_h1_title": false,
   "title_cell": "Table of Contents",
   "title_sidebar": "Contents",
   "toc_cell": false,
   "toc_position": {},
   "toc_section_display": true,
   "toc_window_display": false
  }
 },
 "nbformat": 4,
 "nbformat_minor": 4
}
