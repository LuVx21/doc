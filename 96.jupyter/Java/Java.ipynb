{
 "cells": [
  {
   "cell_type": "code",
   "execution_count": 6,
   "id": "6ec92642-c964-4914-a304-2f30164fe97b",
   "metadata": {},
   "outputs": [],
   "source": [
    "import java.util.Arrays;"
   ]
  },
  {
   "cell_type": "code",
   "execution_count": 7,
   "id": "bc47147a-beb6-496f-8dd2-f1b574dc5a52",
   "metadata": {},
   "outputs": [],
   "source": [
    "public int ringRoad(int n) {\n",
    "    int length = 10;\n",
    "    // dp[i][j]为从0点出发走i步到j点的方案数\n",
    "    int[][] dp = new int[n + 1][length];\n",
    "    dp[0][0] = 1;\n",
    "    for (int i = 1; i < n + 1; i++) {\n",
    "        int[] a = dp[i - 1];\n",
    "        for (int j = 0; j < length; j++) {\n",
    "            dp[i][j] = a[(j - 1 + length) % length] + a[(j + 1) % length];\n",
    "        }\n",
    "    }\n",
    "    for (int[] ints : dp) {\n",
    "        System.out.println(Arrays.toString(ints));\n",
    "    }\n",
    "    return dp[n][0];\n",
    "}"
   ]
  },
  {
   "cell_type": "code",
   "execution_count": 10,
   "id": "735671e0-4afa-4ece-9a2b-762d5e66c5c2",
   "metadata": {},
   "outputs": [
    {
     "name": "stdout",
     "output_type": "stream",
     "text": [
      "[1, 0, 0, 0, 0, 0, 0, 0, 0, 0]\n",
      "[0, 1, 0, 0, 0, 0, 0, 0, 0, 1]\n",
      "[2, 0, 1, 0, 0, 0, 0, 0, 1, 0]\n",
      "2\n"
     ]
    }
   ],
   "source": [
    "System.out.println(ringRoad(2));"
   ]
  },
  {
   "cell_type": "code",
   "execution_count": null,
   "id": "f6e46677-8636-4440-aa6b-bea8d6e6073d",
   "metadata": {},
   "outputs": [],
   "source": []
  }
 ],
 "metadata": {
  "kernelspec": {
   "display_name": "Java",
   "language": "java",
   "name": "java"
  },
  "language_info": {
   "codemirror_mode": "java",
   "file_extension": ".jshell",
   "mimetype": "text/x-java-source",
   "name": "Java",
   "pygments_lexer": "java",
   "version": "22.0.1+8-16"
  }
 },
 "nbformat": 4,
 "nbformat_minor": 5
}
