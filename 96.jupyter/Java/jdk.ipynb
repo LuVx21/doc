{
 "cells": [
  {
   "cell_type": "markdown",
   "metadata": {},
   "source": [
    "## 1"
   ]
  },
  {
   "cell_type": "code",
   "execution_count": null,
   "metadata": {
    "vscode": {
     "languageId": "java"
    }
   },
   "outputs": [],
   "source": [
    "System.out.println(System.getProperty(\"java.version\"));\n",
    "\n",
    "String s = \"\"\"\n",
    "        select *\n",
    "        from emp\\s\n",
    "        where id = %d\n",
    "        \"\"\";\n",
    "\n",
    "System.out.println(s);\n",
    "System.out.println(s.formatted(10));\n",
    "System.out.println(s.translateEscapes());\n",
    "System.out.println(s.stripIndent());"
   ]
  },
  {
   "cell_type": "markdown",
   "metadata": {},
   "source": [
    "## 新旧API的转换"
   ]
  },
  {
   "cell_type": "code",
   "execution_count": null,
   "metadata": {
    "vscode": {
     "languageId": "java"
    }
   },
   "outputs": [],
   "source": [
    "import java.time.Instant;\n",
    "import java.time.LocalDate;\n",
    "import java.time.LocalDateTime;\n",
    "import java.time.LocalTime;\n",
    "import java.time.ZoneId;\n",
    "import java.time.ZoneOffset;\n",
    "import java.util.Date;\n",
    "import java.time.format.DateTimeFormatter;"
   ]
  },
  {
   "cell_type": "code",
   "execution_count": null,
   "metadata": {
    "vscode": {
     "languageId": "java"
    }
   },
   "outputs": [],
   "source": [
    "// LocalDate -> Date\n",
    "Date date0 = Date.from(LocalDate.now().atStartOfDay(ZoneOffset.ofHours(8)).toInstant());\n",
    "// LocalDateTime -> Date\n",
    "Date date1 = Date.from(LocalDateTime.now().atZone(ZoneOffset.ofHours(8)).toInstant());\n",
    "// LocalDate -> 时间戳\n",
    "long timestamp0 = LocalDate.now().atStartOfDay(ZoneOffset.ofHours(8)).toInstant().toEpochMilli();\n",
    "// LocalDateTime -> 时间戳\n",
    "long timestamp1 = LocalDateTime.now().toInstant(ZoneOffset.ofHours(8)).toEpochMilli();\n",
    "\n",
    "System.out.println(date0 + \"<->\" + date1);\n",
    "System.out.println(timestamp0 + \"<->\" + timestamp1);"
   ]
  },
  {
   "cell_type": "code",
   "execution_count": null,
   "metadata": {
    "vscode": {
     "languageId": "java"
    }
   },
   "outputs": [],
   "source": [
    "\n",
    "// Date -> LocalDate\n",
    "LocalDate localDate0 = new Date().toInstant().atZone(ZoneOffset.ofHours(8)).toLocalDate();\n",
    "// Date -> LocalDateTime\n",
    "LocalDateTime localDateTime0 = new Date().toInstant().atZone(ZoneOffset.ofHours(8)).toLocalDateTime();\n",
    "// 时间戳 -> LocalDate\n",
    "LocalDate localDate1 = Instant.ofEpochMilli(System.currentTimeMillis()).atZone(ZoneOffset.ofHours(8)).toLocalDate();\n",
    "// 时间戳 -> LocalDateTime\n",
    "LocalDateTime localDateTime1 = Instant.ofEpochMilli(System.currentTimeMillis()).atZone(ZoneOffset.ofHours(8)).toLocalDateTime();\n",
    "\n",
    "System.out.println(localDate0 + \"<->\" + localDateTime0);\n",
    "System.out.println(localDate1 + \"<->\" + localDateTime1);"
   ]
  },
  {
   "cell_type": "code",
   "execution_count": null,
   "metadata": {
    "vscode": {
     "languageId": "java"
    }
   },
   "outputs": [],
   "source": [
    "// Date和Instant互相转换\n",
    "Date date1 = Date.from(Instant.now());\n",
    "Instant instant = date1.toInstant();\n",
    "// LocalDateTime转Date\n",
    "Date date2 = Date.from(LocalDateTime.now().atZone(ZoneId.systemDefault()).toInstant());\n",
    "// LocalDate转Date\n",
    "Date date3 = Date.from(LocalDate.now().atStartOfDay().atZone(ZoneId.systemDefault()).toInstant());\n",
    "System.out.println(date1 + \"<->\" + instant);\n",
    "System.out.println(date2 + \"<->\" + date3);"
   ]
  },
  {
   "cell_type": "code",
   "execution_count": null,
   "metadata": {
    "vscode": {
     "languageId": "java"
    }
   },
   "outputs": [],
   "source": [
    "// 00:00:00\n",
    "LocalDateTime today_start = LocalDateTime.of(LocalDate.now(), LocalTime.MIN);\n",
    "// 23:59:59\n",
    "LocalDateTime today_end = LocalDateTime.of(LocalDate.now(), LocalTime.MAX);\n",
    "// 0时的毫秒值\n",
    "long timestamp = LocalDate.now()\n",
    "        .atStartOfDay(ZoneId.systemDefault())\n",
    "        .toInstant().toEpochMilli();\n",
    "System.out.println(today_start + \"<->\" + today_end);\n",
    "System.out.println(timestamp);"
   ]
  }
 ],
 "metadata": {
  "kernelspec": {
   "display_name": "Java",
   "language": "java",
   "name": "java"
  },
  "language_info": {
   "codemirror_mode": "java",
   "file_extension": ".jshell",
   "mimetype": "text/x-java-source",
   "name": "Java",
   "pygments_lexer": "java",
   "version": "17.0.2+8-86"
  },
  "toc": {
   "base_numbering": 1,
   "nav_menu": {},
   "number_sections": true,
   "sideBar": true,
   "skip_h1_title": false,
   "title_cell": "Table of Contents",
   "title_sidebar": "Contents",
   "toc_cell": false,
   "toc_position": {},
   "toc_section_display": true,
   "toc_window_display": false
  }
 },
 "nbformat": 4,
 "nbformat_minor": 4
}
